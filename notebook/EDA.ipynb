{
 "cells": [
  {
   "cell_type": "code",
   "execution_count": 1,
   "metadata": {},
   "outputs": [],
   "source": [
    "import sys\n",
    "sys.path.append('../')\n",
    "\n",
    "import pandas as pd"
   ]
  },
  {
   "cell_type": "code",
   "execution_count": 2,
   "metadata": {},
   "outputs": [],
   "source": [
    "competitors = pd.read_parquet('../data/raw/competitors.parquet.gzip')\n",
    "parents = pd.read_parquet('../data/raw/parents.parquet.gzip')\n",
    "partners = pd.read_parquet('../data/raw/partners.parquet.gzip')\n",
    "suppliers = pd.read_parquet('../data/raw/suppliers.parquet.gzip')\n",
    "info = pd.read_parquet('../data/raw/entity_info.parquet.gzip')\n",
    "address = pd.read_parquet('../data/raw/addresses.parquet.gzip')"
   ]
  },
  {
   "cell_type": "code",
   "execution_count": 3,
   "metadata": {},
   "outputs": [
    {
     "name": "stdout",
     "output_type": "stream",
     "text": [
      "<class 'pandas.core.frame.DataFrame'>\n",
      "RangeIndex: 233753 entries, 0 to 233752\n",
      "Data columns (total 7 columns):\n",
      " #   Column       Non-Null Count   Dtype  \n",
      "---  ------       --------------   -----  \n",
      " 0   source_id    233753 non-null  int64  \n",
      " 1   target_id    233753 non-null  int64  \n",
      " 2   revenue_pct  14257 non-null   float64\n",
      " 3   start_date   233753 non-null  object \n",
      " 4   source_name  233753 non-null  object \n",
      " 5   targte_name  233753 non-null  object \n",
      " 6   type         233753 non-null  object \n",
      "dtypes: float64(1), int64(2), object(4)\n",
      "memory usage: 12.5+ MB\n"
     ]
    }
   ],
   "source": [
    "suppliers.info()"
   ]
  },
  {
   "cell_type": "code",
   "execution_count": 4,
   "metadata": {},
   "outputs": [
    {
     "data": {
      "text/html": [
       "<div>\n",
       "<style scoped>\n",
       "    .dataframe tbody tr th:only-of-type {\n",
       "        vertical-align: middle;\n",
       "    }\n",
       "\n",
       "    .dataframe tbody tr th {\n",
       "        vertical-align: top;\n",
       "    }\n",
       "\n",
       "    .dataframe thead th {\n",
       "        text-align: right;\n",
       "    }\n",
       "</style>\n",
       "<table border=\"1\" class=\"dataframe\">\n",
       "  <thead>\n",
       "    <tr style=\"text-align: right;\">\n",
       "      <th></th>\n",
       "      <th>source_id</th>\n",
       "      <th>target_id</th>\n",
       "      <th>start_date</th>\n",
       "      <th>source_name</th>\n",
       "      <th>targte_name</th>\n",
       "      <th>type</th>\n",
       "    </tr>\n",
       "  </thead>\n",
       "  <tbody>\n",
       "    <tr>\n",
       "      <th>0</th>\n",
       "      <td>265502</td>\n",
       "      <td>369980</td>\n",
       "      <td>2022-04-01</td>\n",
       "      <td>Linde Plc</td>\n",
       "      <td>Wahlco Environmental Systems, Inc.</td>\n",
       "      <td>ULTIMATE_PARENT_OF</td>\n",
       "    </tr>\n",
       "    <tr>\n",
       "      <th>1</th>\n",
       "      <td>318</td>\n",
       "      <td>3840</td>\n",
       "      <td>2022-04-01</td>\n",
       "      <td>Verizon Communications, Inc.</td>\n",
       "      <td>Western Wireless Corp.</td>\n",
       "      <td>ULTIMATE_PARENT_OF</td>\n",
       "    </tr>\n",
       "    <tr>\n",
       "      <th>2</th>\n",
       "      <td>292835</td>\n",
       "      <td>3841</td>\n",
       "      <td>2022-04-01</td>\n",
       "      <td>Truist Financial Corp.</td>\n",
       "      <td>Main Street Banks, Inc. (Atlanta, Georgia)</td>\n",
       "      <td>ULTIMATE_PARENT_OF</td>\n",
       "    </tr>\n",
       "    <tr>\n",
       "      <th>3</th>\n",
       "      <td>1971</td>\n",
       "      <td>3843</td>\n",
       "      <td>2022-04-01</td>\n",
       "      <td>The PNC Financial Services Group, Inc.</td>\n",
       "      <td>Yardville National Bancorp</td>\n",
       "      <td>ULTIMATE_PARENT_OF</td>\n",
       "    </tr>\n",
       "    <tr>\n",
       "      <th>4</th>\n",
       "      <td>25278</td>\n",
       "      <td>3844</td>\n",
       "      <td>2022-04-01</td>\n",
       "      <td>Toray Industries, Inc.</td>\n",
       "      <td>Zoltek Cos., Inc.</td>\n",
       "      <td>ULTIMATE_PARENT_OF</td>\n",
       "    </tr>\n",
       "  </tbody>\n",
       "</table>\n",
       "</div>"
      ],
      "text/plain": [
       "   source_id  target_id  start_date                             source_name  \\\n",
       "0     265502     369980  2022-04-01                               Linde Plc   \n",
       "1        318       3840  2022-04-01            Verizon Communications, Inc.   \n",
       "2     292835       3841  2022-04-01                  Truist Financial Corp.   \n",
       "3       1971       3843  2022-04-01  The PNC Financial Services Group, Inc.   \n",
       "4      25278       3844  2022-04-01                  Toray Industries, Inc.   \n",
       "\n",
       "                                  targte_name                type  \n",
       "0          Wahlco Environmental Systems, Inc.  ULTIMATE_PARENT_OF  \n",
       "1                      Western Wireless Corp.  ULTIMATE_PARENT_OF  \n",
       "2  Main Street Banks, Inc. (Atlanta, Georgia)  ULTIMATE_PARENT_OF  \n",
       "3                  Yardville National Bancorp  ULTIMATE_PARENT_OF  \n",
       "4                           Zoltek Cos., Inc.  ULTIMATE_PARENT_OF  "
      ]
     },
     "execution_count": 4,
     "metadata": {},
     "output_type": "execute_result"
    }
   ],
   "source": [
    "parents.head()"
   ]
  },
  {
   "cell_type": "code",
   "execution_count": 5,
   "metadata": {},
   "outputs": [
    {
     "data": {
      "text/plain": [
       "array(['2022-04-01', '2022-04-04'], dtype=object)"
      ]
     },
     "execution_count": 5,
     "metadata": {},
     "output_type": "execute_result"
    }
   ],
   "source": [
    "parents.start_date.unique()"
   ]
  },
  {
   "cell_type": "code",
   "execution_count": 6,
   "metadata": {},
   "outputs": [
    {
     "data": {
      "text/html": [
       "<div>\n",
       "<style scoped>\n",
       "    .dataframe tbody tr th:only-of-type {\n",
       "        vertical-align: middle;\n",
       "    }\n",
       "\n",
       "    .dataframe tbody tr th {\n",
       "        vertical-align: top;\n",
       "    }\n",
       "\n",
       "    .dataframe thead th {\n",
       "        text-align: right;\n",
       "    }\n",
       "</style>\n",
       "<table border=\"1\" class=\"dataframe\">\n",
       "  <thead>\n",
       "    <tr style=\"text-align: right;\">\n",
       "      <th></th>\n",
       "      <th>source_id</th>\n",
       "      <th>target_id</th>\n",
       "      <th>start_date</th>\n",
       "      <th>source_name</th>\n",
       "      <th>targte_name</th>\n",
       "      <th>type</th>\n",
       "    </tr>\n",
       "  </thead>\n",
       "  <tbody>\n",
       "    <tr>\n",
       "      <th>0</th>\n",
       "      <td>323302</td>\n",
       "      <td>97940</td>\n",
       "      <td>2021-12-08</td>\n",
       "      <td>&amp; Factory, Inc.</td>\n",
       "      <td>Amix Co. Ltd.</td>\n",
       "      <td>PARTNERS</td>\n",
       "    </tr>\n",
       "    <tr>\n",
       "      <th>1</th>\n",
       "      <td>323302</td>\n",
       "      <td>313319</td>\n",
       "      <td>2021-12-08</td>\n",
       "      <td>&amp; Factory, Inc.</td>\n",
       "      <td>Mirror Fit Co., Ltd.</td>\n",
       "      <td>PARTNERS</td>\n",
       "    </tr>\n",
       "    <tr>\n",
       "      <th>2</th>\n",
       "      <td>323302</td>\n",
       "      <td>150832</td>\n",
       "      <td>2021-12-08</td>\n",
       "      <td>&amp; Factory, Inc.</td>\n",
       "      <td>Housecom Corp.</td>\n",
       "      <td>PARTNERS</td>\n",
       "    </tr>\n",
       "    <tr>\n",
       "      <th>3</th>\n",
       "      <td>323302</td>\n",
       "      <td>313325</td>\n",
       "      <td>2021-12-08</td>\n",
       "      <td>&amp; Factory, Inc.</td>\n",
       "      <td>Miyoshi Real Estate Co. Ltd.</td>\n",
       "      <td>PARTNERS</td>\n",
       "    </tr>\n",
       "    <tr>\n",
       "      <th>4</th>\n",
       "      <td>323302</td>\n",
       "      <td>137558</td>\n",
       "      <td>2021-12-08</td>\n",
       "      <td>&amp; Factory, Inc.</td>\n",
       "      <td>Maeda &amp; Co. Ltd.</td>\n",
       "      <td>PARTNERS</td>\n",
       "    </tr>\n",
       "  </tbody>\n",
       "</table>\n",
       "</div>"
      ],
      "text/plain": [
       "   source_id  target_id  start_date      source_name  \\\n",
       "0     323302      97940  2021-12-08  & Factory, Inc.   \n",
       "1     323302     313319  2021-12-08  & Factory, Inc.   \n",
       "2     323302     150832  2021-12-08  & Factory, Inc.   \n",
       "3     323302     313325  2021-12-08  & Factory, Inc.   \n",
       "4     323302     137558  2021-12-08  & Factory, Inc.   \n",
       "\n",
       "                    targte_name      type  \n",
       "0                 Amix Co. Ltd.  PARTNERS  \n",
       "1          Mirror Fit Co., Ltd.  PARTNERS  \n",
       "2                Housecom Corp.  PARTNERS  \n",
       "3  Miyoshi Real Estate Co. Ltd.  PARTNERS  \n",
       "4              Maeda & Co. Ltd.  PARTNERS  "
      ]
     },
     "execution_count": 6,
     "metadata": {},
     "output_type": "execute_result"
    }
   ],
   "source": [
    "partners.head()"
   ]
  },
  {
   "cell_type": "code",
   "execution_count": 7,
   "metadata": {},
   "outputs": [
    {
     "data": {
      "text/plain": [
       "array(['2021-12-08', '2019-07-10', '2020-05-19', ..., '2015-12-31',\n",
       "       '2009-03-25', '2017-03-25'], dtype=object)"
      ]
     },
     "execution_count": 7,
     "metadata": {},
     "output_type": "execute_result"
    }
   ],
   "source": [
    "partners.start_date.unique()"
   ]
  },
  {
   "cell_type": "code",
   "execution_count": 8,
   "metadata": {},
   "outputs": [
    {
     "data": {
      "text/html": [
       "<div>\n",
       "<style scoped>\n",
       "    .dataframe tbody tr th:only-of-type {\n",
       "        vertical-align: middle;\n",
       "    }\n",
       "\n",
       "    .dataframe tbody tr th {\n",
       "        vertical-align: top;\n",
       "    }\n",
       "\n",
       "    .dataframe thead th {\n",
       "        text-align: right;\n",
       "    }\n",
       "</style>\n",
       "<table border=\"1\" class=\"dataframe\">\n",
       "  <thead>\n",
       "    <tr style=\"text-align: right;\">\n",
       "      <th></th>\n",
       "      <th>source_id</th>\n",
       "      <th>target_id</th>\n",
       "      <th>revenue_pct</th>\n",
       "      <th>start_date</th>\n",
       "      <th>source_name</th>\n",
       "      <th>targte_name</th>\n",
       "      <th>type</th>\n",
       "    </tr>\n",
       "  </thead>\n",
       "  <tbody>\n",
       "    <tr>\n",
       "      <th>0</th>\n",
       "      <td>46216</td>\n",
       "      <td>317277</td>\n",
       "      <td>NaN</td>\n",
       "      <td>2018-08-25</td>\n",
       "      <td>Ever Team Software SAS</td>\n",
       "      <td>GFI Informatique SA</td>\n",
       "      <td>SUPPLIES</td>\n",
       "    </tr>\n",
       "    <tr>\n",
       "      <th>1</th>\n",
       "      <td>323302</td>\n",
       "      <td>362405</td>\n",
       "      <td>12.0</td>\n",
       "      <td>2021-12-08</td>\n",
       "      <td>&amp; Factory, Inc.</td>\n",
       "      <td>Shogakukan, Inc.</td>\n",
       "      <td>SUPPLIES</td>\n",
       "    </tr>\n",
       "    <tr>\n",
       "      <th>2</th>\n",
       "      <td>323302</td>\n",
       "      <td>96117</td>\n",
       "      <td>34.1</td>\n",
       "      <td>2021-12-08</td>\n",
       "      <td>&amp; Factory, Inc.</td>\n",
       "      <td>Square Enix Holdings Co., Ltd.</td>\n",
       "      <td>SUPPLIES</td>\n",
       "    </tr>\n",
       "    <tr>\n",
       "      <th>3</th>\n",
       "      <td>323302</td>\n",
       "      <td>362527</td>\n",
       "      <td>19.5</td>\n",
       "      <td>2021-12-08</td>\n",
       "      <td>&amp; Factory, Inc.</td>\n",
       "      <td>Shueisha, Inc.</td>\n",
       "      <td>SUPPLIES</td>\n",
       "    </tr>\n",
       "    <tr>\n",
       "      <th>4</th>\n",
       "      <td>323304</td>\n",
       "      <td>282371</td>\n",
       "      <td>NaN</td>\n",
       "      <td>2021-02-17</td>\n",
       "      <td>(B. Y.) Medimor Ltd.</td>\n",
       "      <td>InMode Ltd.</td>\n",
       "      <td>SUPPLIES</td>\n",
       "    </tr>\n",
       "  </tbody>\n",
       "</table>\n",
       "</div>"
      ],
      "text/plain": [
       "   source_id  target_id  revenue_pct  start_date             source_name  \\\n",
       "0      46216     317277          NaN  2018-08-25  Ever Team Software SAS   \n",
       "1     323302     362405         12.0  2021-12-08         & Factory, Inc.   \n",
       "2     323302      96117         34.1  2021-12-08         & Factory, Inc.   \n",
       "3     323302     362527         19.5  2021-12-08         & Factory, Inc.   \n",
       "4     323304     282371          NaN  2021-02-17    (B. Y.) Medimor Ltd.   \n",
       "\n",
       "                      targte_name      type  \n",
       "0             GFI Informatique SA  SUPPLIES  \n",
       "1                Shogakukan, Inc.  SUPPLIES  \n",
       "2  Square Enix Holdings Co., Ltd.  SUPPLIES  \n",
       "3                  Shueisha, Inc.  SUPPLIES  \n",
       "4                     InMode Ltd.  SUPPLIES  "
      ]
     },
     "execution_count": 8,
     "metadata": {},
     "output_type": "execute_result"
    }
   ],
   "source": [
    "suppliers.head()"
   ]
  },
  {
   "cell_type": "code",
   "execution_count": 9,
   "metadata": {},
   "outputs": [
    {
     "data": {
      "text/html": [
       "<div>\n",
       "<style scoped>\n",
       "    .dataframe tbody tr th:only-of-type {\n",
       "        vertical-align: middle;\n",
       "    }\n",
       "\n",
       "    .dataframe tbody tr th {\n",
       "        vertical-align: top;\n",
       "    }\n",
       "\n",
       "    .dataframe thead th {\n",
       "        text-align: right;\n",
       "    }\n",
       "</style>\n",
       "<table border=\"1\" class=\"dataframe\">\n",
       "  <thead>\n",
       "    <tr style=\"text-align: right;\">\n",
       "      <th></th>\n",
       "      <th>id</th>\n",
       "      <th>sector</th>\n",
       "      <th>industry</th>\n",
       "      <th>nace_description</th>\n",
       "      <th>code</th>\n",
       "    </tr>\n",
       "  </thead>\n",
       "  <tbody>\n",
       "    <tr>\n",
       "      <th>0</th>\n",
       "      <td>93528</td>\n",
       "      <td>Process Industries</td>\n",
       "      <td>Agricultural Commodities/Milling</td>\n",
       "      <td>Growing of cereals (except rice), leguminous c...</td>\n",
       "      <td>01.11</td>\n",
       "    </tr>\n",
       "    <tr>\n",
       "      <th>1</th>\n",
       "      <td>72520</td>\n",
       "      <td>Process Industries</td>\n",
       "      <td>Agricultural Commodities/Milling</td>\n",
       "      <td>Growing of cereals (except rice), leguminous c...</td>\n",
       "      <td>01.11</td>\n",
       "    </tr>\n",
       "    <tr>\n",
       "      <th>2</th>\n",
       "      <td>64667</td>\n",
       "      <td>Process Industries</td>\n",
       "      <td>Agricultural Commodities/Milling</td>\n",
       "      <td>Growing of cereals (except rice), leguminous c...</td>\n",
       "      <td>01.11</td>\n",
       "    </tr>\n",
       "    <tr>\n",
       "      <th>3</th>\n",
       "      <td>278227</td>\n",
       "      <td>Process Industries</td>\n",
       "      <td>Agricultural Commodities/Milling</td>\n",
       "      <td>Growing of cereals (except rice), leguminous c...</td>\n",
       "      <td>01.11</td>\n",
       "    </tr>\n",
       "    <tr>\n",
       "      <th>4</th>\n",
       "      <td>72518</td>\n",
       "      <td>Process Industries</td>\n",
       "      <td>Agricultural Commodities/Milling</td>\n",
       "      <td>Growing of cereals (except rice), leguminous c...</td>\n",
       "      <td>01.11</td>\n",
       "    </tr>\n",
       "  </tbody>\n",
       "</table>\n",
       "</div>"
      ],
      "text/plain": [
       "       id              sector                          industry  \\\n",
       "0   93528  Process Industries  Agricultural Commodities/Milling   \n",
       "1   72520  Process Industries  Agricultural Commodities/Milling   \n",
       "2   64667  Process Industries  Agricultural Commodities/Milling   \n",
       "3  278227  Process Industries  Agricultural Commodities/Milling   \n",
       "4   72518  Process Industries  Agricultural Commodities/Milling   \n",
       "\n",
       "                                    nace_description   code  \n",
       "0  Growing of cereals (except rice), leguminous c...  01.11  \n",
       "1  Growing of cereals (except rice), leguminous c...  01.11  \n",
       "2  Growing of cereals (except rice), leguminous c...  01.11  \n",
       "3  Growing of cereals (except rice), leguminous c...  01.11  \n",
       "4  Growing of cereals (except rice), leguminous c...  01.11  "
      ]
     },
     "execution_count": 9,
     "metadata": {},
     "output_type": "execute_result"
    }
   ],
   "source": [
    "info.head()"
   ]
  },
  {
   "cell_type": "code",
   "execution_count": 10,
   "metadata": {},
   "outputs": [
    {
     "data": {
      "text/html": [
       "<div>\n",
       "<style scoped>\n",
       "    .dataframe tbody tr th:only-of-type {\n",
       "        vertical-align: middle;\n",
       "    }\n",
       "\n",
       "    .dataframe tbody tr th {\n",
       "        vertical-align: top;\n",
       "    }\n",
       "\n",
       "    .dataframe thead th {\n",
       "        text-align: right;\n",
       "    }\n",
       "</style>\n",
       "<table border=\"1\" class=\"dataframe\">\n",
       "  <thead>\n",
       "    <tr style=\"text-align: right;\">\n",
       "      <th></th>\n",
       "      <th>id</th>\n",
       "      <th>name</th>\n",
       "      <th>country</th>\n",
       "      <th>city_state_postal</th>\n",
       "      <th>location_street1</th>\n",
       "    </tr>\n",
       "  </thead>\n",
       "  <tbody>\n",
       "    <tr>\n",
       "      <th>0</th>\n",
       "      <td>50472</td>\n",
       "      <td>Infinity Pharmaceuticals, Inc.</td>\n",
       "      <td>USA</td>\n",
       "      <td>Cambridge, MA 02138</td>\n",
       "      <td>1100 Massachusetts Avenue</td>\n",
       "    </tr>\n",
       "    <tr>\n",
       "      <th>1</th>\n",
       "      <td>282940</td>\n",
       "      <td>Bozhon Precision Industry Technology Co., Ltd.</td>\n",
       "      <td>CHN</td>\n",
       "      <td>Suzhou, Jiangsu 215222</td>\n",
       "      <td>666 Huxin West Road</td>\n",
       "    </tr>\n",
       "    <tr>\n",
       "      <th>2</th>\n",
       "      <td>313953</td>\n",
       "      <td>Quaker Houghton</td>\n",
       "      <td>USA</td>\n",
       "      <td>Conshohocken, PA 19428-2380</td>\n",
       "      <td>One Quaker Park</td>\n",
       "    </tr>\n",
       "    <tr>\n",
       "      <th>3</th>\n",
       "      <td>1441</td>\n",
       "      <td>Kohl's Corp.</td>\n",
       "      <td>USA</td>\n",
       "      <td>Menomonee Falls, WI 53051</td>\n",
       "      <td>N56 West17000 Ridgewood Drive</td>\n",
       "    </tr>\n",
       "    <tr>\n",
       "      <th>4</th>\n",
       "      <td>135666</td>\n",
       "      <td>Sorrento Therapeutics, Inc.</td>\n",
       "      <td>USA</td>\n",
       "      <td>San Diego, CA 92121</td>\n",
       "      <td>4955 Directors Place</td>\n",
       "    </tr>\n",
       "  </tbody>\n",
       "</table>\n",
       "</div>"
      ],
      "text/plain": [
       "       id                                            name country  \\\n",
       "0   50472                  Infinity Pharmaceuticals, Inc.     USA   \n",
       "1  282940  Bozhon Precision Industry Technology Co., Ltd.     CHN   \n",
       "2  313953                                 Quaker Houghton     USA   \n",
       "3    1441                                    Kohl's Corp.     USA   \n",
       "4  135666                     Sorrento Therapeutics, Inc.     USA   \n",
       "\n",
       "             city_state_postal               location_street1  \n",
       "0          Cambridge, MA 02138      1100 Massachusetts Avenue  \n",
       "1       Suzhou, Jiangsu 215222            666 Huxin West Road  \n",
       "2  Conshohocken, PA 19428-2380                One Quaker Park  \n",
       "3    Menomonee Falls, WI 53051  N56 West17000 Ridgewood Drive  \n",
       "4          San Diego, CA 92121           4955 Directors Place  "
      ]
     },
     "execution_count": 10,
     "metadata": {},
     "output_type": "execute_result"
    }
   ],
   "source": [
    "address.head()"
   ]
  },
  {
   "cell_type": "code",
   "execution_count": 11,
   "metadata": {},
   "outputs": [
    {
     "data": {
      "text/html": [
       "<div>\n",
       "<style scoped>\n",
       "    .dataframe tbody tr th:only-of-type {\n",
       "        vertical-align: middle;\n",
       "    }\n",
       "\n",
       "    .dataframe tbody tr th {\n",
       "        vertical-align: top;\n",
       "    }\n",
       "\n",
       "    .dataframe thead th {\n",
       "        text-align: right;\n",
       "    }\n",
       "</style>\n",
       "<table border=\"1\" class=\"dataframe\">\n",
       "  <thead>\n",
       "    <tr style=\"text-align: right;\">\n",
       "      <th></th>\n",
       "      <th>id</th>\n",
       "      <th>name</th>\n",
       "      <th>country</th>\n",
       "      <th>city_state_postal</th>\n",
       "      <th>location_street1</th>\n",
       "    </tr>\n",
       "  </thead>\n",
       "  <tbody>\n",
       "    <tr>\n",
       "      <th>0</th>\n",
       "      <td>50472</td>\n",
       "      <td>Infinity Pharmaceuticals, Inc.</td>\n",
       "      <td>USA</td>\n",
       "      <td>Cambridge, MA 02138</td>\n",
       "      <td>1100 Massachusetts Avenue</td>\n",
       "    </tr>\n",
       "    <tr>\n",
       "      <th>1</th>\n",
       "      <td>282940</td>\n",
       "      <td>Bozhon Precision Industry Technology Co., Ltd.</td>\n",
       "      <td>CHN</td>\n",
       "      <td>Suzhou, Jiangsu 215222</td>\n",
       "      <td>666 Huxin West Road</td>\n",
       "    </tr>\n",
       "    <tr>\n",
       "      <th>2</th>\n",
       "      <td>313953</td>\n",
       "      <td>Quaker Houghton</td>\n",
       "      <td>USA</td>\n",
       "      <td>Conshohocken, PA 19428-2380</td>\n",
       "      <td>One Quaker Park</td>\n",
       "    </tr>\n",
       "    <tr>\n",
       "      <th>3</th>\n",
       "      <td>1441</td>\n",
       "      <td>Kohl's Corp.</td>\n",
       "      <td>USA</td>\n",
       "      <td>Menomonee Falls, WI 53051</td>\n",
       "      <td>N56 West17000 Ridgewood Drive</td>\n",
       "    </tr>\n",
       "    <tr>\n",
       "      <th>4</th>\n",
       "      <td>135666</td>\n",
       "      <td>Sorrento Therapeutics, Inc.</td>\n",
       "      <td>USA</td>\n",
       "      <td>San Diego, CA 92121</td>\n",
       "      <td>4955 Directors Place</td>\n",
       "    </tr>\n",
       "    <tr>\n",
       "      <th>...</th>\n",
       "      <td>...</td>\n",
       "      <td>...</td>\n",
       "      <td>...</td>\n",
       "      <td>...</td>\n",
       "      <td>...</td>\n",
       "    </tr>\n",
       "    <tr>\n",
       "      <th>195917</th>\n",
       "      <td>253041</td>\n",
       "      <td>Australian Unity Office Fund</td>\n",
       "      <td>AUS</td>\n",
       "      <td>Melborne, Victoria (VIC) 3000</td>\n",
       "      <td>271 Spring Street</td>\n",
       "    </tr>\n",
       "    <tr>\n",
       "      <th>195918</th>\n",
       "      <td>81229</td>\n",
       "      <td>Nabisco Brands Ltd.</td>\n",
       "      <td>CAN</td>\n",
       "      <td>Dresden, ON N0P 1M0</td>\n",
       "      <td>759 Wellington Drive</td>\n",
       "    </tr>\n",
       "    <tr>\n",
       "      <th>195919</th>\n",
       "      <td>102791</td>\n",
       "      <td>Pal Technologies, Inc.</td>\n",
       "      <td>USA</td>\n",
       "      <td>Fairfax, VA 22030</td>\n",
       "      <td>3201 Jermantown Road</td>\n",
       "    </tr>\n",
       "    <tr>\n",
       "      <th>195921</th>\n",
       "      <td>176574</td>\n",
       "      <td>Akzo Nobel Pakistan Ltd.</td>\n",
       "      <td>PAK</td>\n",
       "      <td>Lahore, Punjab 54600</td>\n",
       "      <td>346, Ferozpur Road</td>\n",
       "    </tr>\n",
       "    <tr>\n",
       "      <th>195922</th>\n",
       "      <td>94009</td>\n",
       "      <td>Emirates District Cooling Co. LLC</td>\n",
       "      <td>ARE</td>\n",
       "      <td>Dubai</td>\n",
       "      <td>Dubai Investments Park 1</td>\n",
       "    </tr>\n",
       "  </tbody>\n",
       "</table>\n",
       "<p>150366 rows × 5 columns</p>\n",
       "</div>"
      ],
      "text/plain": [
       "            id                                            name country  \\\n",
       "0        50472                  Infinity Pharmaceuticals, Inc.     USA   \n",
       "1       282940  Bozhon Precision Industry Technology Co., Ltd.     CHN   \n",
       "2       313953                                 Quaker Houghton     USA   \n",
       "3         1441                                    Kohl's Corp.     USA   \n",
       "4       135666                     Sorrento Therapeutics, Inc.     USA   \n",
       "...        ...                                             ...     ...   \n",
       "195917  253041                    Australian Unity Office Fund     AUS   \n",
       "195918   81229                             Nabisco Brands Ltd.     CAN   \n",
       "195919  102791                          Pal Technologies, Inc.     USA   \n",
       "195921  176574                        Akzo Nobel Pakistan Ltd.     PAK   \n",
       "195922   94009               Emirates District Cooling Co. LLC     ARE   \n",
       "\n",
       "                    city_state_postal               location_street1  \n",
       "0                 Cambridge, MA 02138      1100 Massachusetts Avenue  \n",
       "1              Suzhou, Jiangsu 215222            666 Huxin West Road  \n",
       "2         Conshohocken, PA 19428-2380                One Quaker Park  \n",
       "3           Menomonee Falls, WI 53051  N56 West17000 Ridgewood Drive  \n",
       "4                 San Diego, CA 92121           4955 Directors Place  \n",
       "...                               ...                            ...  \n",
       "195917  Melborne, Victoria (VIC) 3000              271 Spring Street  \n",
       "195918            Dresden, ON N0P 1M0           759 Wellington Drive  \n",
       "195919              Fairfax, VA 22030           3201 Jermantown Road  \n",
       "195921           Lahore, Punjab 54600             346, Ferozpur Road  \n",
       "195922                          Dubai       Dubai Investments Park 1  \n",
       "\n",
       "[150366 rows x 5 columns]"
      ]
     },
     "execution_count": 11,
     "metadata": {},
     "output_type": "execute_result"
    }
   ],
   "source": [
    "address.dropna()"
   ]
  },
  {
   "cell_type": "code",
   "execution_count": 12,
   "metadata": {},
   "outputs": [
    {
     "data": {
      "text/plain": [
       "array(['2020-03-23', '2020-03-24', '2020-03-25', ..., '2020-03-20',\n",
       "       '2020-03-21', '2020-03-22'], dtype=object)"
      ]
     },
     "execution_count": 12,
     "metadata": {},
     "output_type": "execute_result"
    }
   ],
   "source": [
    "competitors.start_date.unique()"
   ]
  },
  {
   "cell_type": "code",
   "execution_count": 13,
   "metadata": {},
   "outputs": [],
   "source": [
    "suppliers['revenue_pct'] = suppliers['revenue_pct'].fillna(-999)"
   ]
  },
  {
   "cell_type": "code",
   "execution_count": 14,
   "metadata": {},
   "outputs": [],
   "source": [
    "companies_source = pd.concat([competitors[['source_id','source_name']],\n",
    "                      parents[['source_id','source_name']],\n",
    "                      partners[['source_id','source_name']],\n",
    "                      suppliers[['source_id','source_name']]],\n",
    "                             ).drop_duplicates().rename(columns={'source_id': 'id', 'source_name': 'name'})\n",
    "companies_target = pd.concat([competitors[['target_id','targte_name']],\n",
    "                      parents[['target_id','targte_name']],\n",
    "                      partners[['target_id','targte_name']],\n",
    "                      suppliers[['target_id','targte_name']]],\n",
    "                      ).drop_duplicates().rename(columns={'target_id':'id','targte_name':'name'})\n"
   ]
  },
  {
   "cell_type": "code",
   "execution_count": 15,
   "metadata": {},
   "outputs": [],
   "source": [
    "companies = pd.concat([companies_source,companies_target]).drop_duplicates()\n",
    "companies.reset_index(drop=True, inplace=True)"
   ]
  },
  {
   "cell_type": "markdown",
   "metadata": {},
   "source": [
    "## Duplicates"
   ]
  },
  {
   "cell_type": "code",
   "execution_count": 16,
   "metadata": {},
   "outputs": [
    {
     "data": {
      "text/plain": [
       "94560     Helena Agri-Enterprises LLC - USA\n",
       "135390     University of Pennsylvania - USA\n",
       "Name: name, dtype: object"
      ]
     },
     "execution_count": 16,
     "metadata": {},
     "output_type": "execute_result"
    }
   ],
   "source": [
    "companies.name[companies.name.duplicated()]"
   ]
  },
  {
   "cell_type": "markdown",
   "metadata": {},
   "source": [
    "We see that there are two companies with duplicate entries. We can either keep one of them and redirect all the connections of the other node to this one or keep both of them and just redirect the connections. Since the webapp later relies on the uniqueness of the name of the company, we should be only keeping one of them and redirect all the connections of the other to this one. Hence we choose to keep the company id with the best address info as we later use it.\n",
    "\n",
    "Hence we have to:\n",
    " - Remove the unwanted id for both the companies\n",
    " - Change the company id to the one with better address in all the dataframes - competitors, suppliers, parents and partners\n",
    "  "
   ]
  },
  {
   "cell_type": "code",
   "execution_count": 39,
   "metadata": {},
   "outputs": [
    {
     "data": {
      "text/html": [
       "<div>\n",
       "<style scoped>\n",
       "    .dataframe tbody tr th:only-of-type {\n",
       "        vertical-align: middle;\n",
       "    }\n",
       "\n",
       "    .dataframe tbody tr th {\n",
       "        vertical-align: top;\n",
       "    }\n",
       "\n",
       "    .dataframe thead th {\n",
       "        text-align: right;\n",
       "    }\n",
       "</style>\n",
       "<table border=\"1\" class=\"dataframe\">\n",
       "  <thead>\n",
       "    <tr style=\"text-align: right;\">\n",
       "      <th></th>\n",
       "      <th>source_id</th>\n",
       "      <th>target_id</th>\n",
       "      <th>revenue_pct</th>\n",
       "      <th>start_date</th>\n",
       "      <th>source_name</th>\n",
       "      <th>targte_name</th>\n",
       "      <th>type</th>\n",
       "    </tr>\n",
       "  </thead>\n",
       "  <tbody>\n",
       "    <tr>\n",
       "      <th>62377</th>\n",
       "      <td>232901</td>\n",
       "      <td>323171</td>\n",
       "      <td>-999.0</td>\n",
       "      <td>2021-10-16</td>\n",
       "      <td>PureBase Corp.</td>\n",
       "      <td>Helena Agri-Enterprises LLC - USA</td>\n",
       "      <td>SUPPLIES</td>\n",
       "    </tr>\n",
       "  </tbody>\n",
       "</table>\n",
       "</div>"
      ],
      "text/plain": [
       "       source_id  target_id  revenue_pct  start_date     source_name  \\\n",
       "62377     232901     323171       -999.0  2021-10-16  PureBase Corp.   \n",
       "\n",
       "                             targte_name      type  \n",
       "62377  Helena Agri-Enterprises LLC - USA  SUPPLIES  "
      ]
     },
     "execution_count": 39,
     "metadata": {},
     "output_type": "execute_result"
    }
   ],
   "source": [
    "# For Helena - Agri\n",
    "competitors.loc[competitors.target_id == 323171, 'target_id'] = 323172\n",
    "suppliers.loc[suppliers.target_id == 323171,'target_id'] = 323172"
   ]
  },
  {
   "cell_type": "code",
   "execution_count": 68,
   "metadata": {},
   "outputs": [],
   "source": [
    "# For University of Pennyslvania\n",
    "parents.loc[parents.target_id == 322514, 'target_id'] = 322513\n",
    "suppliers.loc[suppliers.target_id == 322514, 'target_id'] = 322513\n"
   ]
  },
  {
   "cell_type": "code",
   "execution_count": 76,
   "metadata": {},
   "outputs": [],
   "source": [
    "#Drop the removed company id's\n",
    "companies.drop(index = companies.loc[companies.id==322514].index, inplace=True)\n",
    "companies.drop(index = companies.loc[companies.id==323171].index, inplace=True)"
   ]
  },
  {
   "cell_type": "code",
   "execution_count": 81,
   "metadata": {},
   "outputs": [
    {
     "data": {
      "text/plain": [
       "Series([], Name: name, dtype: object)"
      ]
     },
     "execution_count": 81,
     "metadata": {},
     "output_type": "execute_result"
    }
   ],
   "source": [
    "#Double check for duplicated entries\n",
    "companies.name[companies.name.duplicated()]"
   ]
  },
  {
   "cell_type": "markdown",
   "metadata": {},
   "source": [
    "## Exporting"
   ]
  },
  {
   "cell_type": "code",
   "execution_count": 82,
   "metadata": {},
   "outputs": [],
   "source": [
    "companies.to_csv('../data/processed/companies.csv',index=True, index_label='index')"
   ]
  },
  {
   "cell_type": "code",
   "execution_count": 83,
   "metadata": {},
   "outputs": [],
   "source": [
    "competitors = competitors[['source_id','target_id','start_date','type']]\n",
    "parents = parents[['source_id','target_id','start_date','type']]\n",
    "partners = partners[['source_id','target_id','start_date','type']]\n",
    "suppliers = suppliers[['source_id','target_id','revenue_pct','start_date','type']]"
   ]
  },
  {
   "cell_type": "code",
   "execution_count": 84,
   "metadata": {},
   "outputs": [],
   "source": [
    "competitors.to_csv('../data/processed/competitors.csv',index=True, index_label='index')\n",
    "parents.to_csv('../data/processed/parents.csv',index=True, index_label='index')\n",
    "partners.to_csv('../data/processed/partners.csv',index=True, index_label='index')\n",
    "suppliers.to_csv('../data/processed/suppliers.csv',index=True, index_label='index')\n",
    "info.to_csv('../data/processed/info.csv',index=True, index_label='index')"
   ]
  },
  {
   "cell_type": "code",
   "execution_count": 85,
   "metadata": {},
   "outputs": [
    {
     "data": {
      "text/plain": [
       "21"
      ]
     },
     "execution_count": 85,
     "metadata": {},
     "output_type": "execute_result"
    }
   ],
   "source": [
    "len(info.sector.unique())"
   ]
  },
  {
   "cell_type": "code",
   "execution_count": 86,
   "metadata": {},
   "outputs": [
    {
     "data": {
      "text/html": [
       "<div>\n",
       "<style scoped>\n",
       "    .dataframe tbody tr th:only-of-type {\n",
       "        vertical-align: middle;\n",
       "    }\n",
       "\n",
       "    .dataframe tbody tr th {\n",
       "        vertical-align: top;\n",
       "    }\n",
       "\n",
       "    .dataframe thead th {\n",
       "        text-align: right;\n",
       "    }\n",
       "</style>\n",
       "<table border=\"1\" class=\"dataframe\">\n",
       "  <thead>\n",
       "    <tr style=\"text-align: right;\">\n",
       "      <th></th>\n",
       "      <th>sector</th>\n",
       "      <th>id</th>\n",
       "      <th>industry</th>\n",
       "      <th>nace_description</th>\n",
       "      <th>code</th>\n",
       "    </tr>\n",
       "  </thead>\n",
       "  <tbody>\n",
       "    <tr>\n",
       "      <th>8</th>\n",
       "      <td>Finance</td>\n",
       "      <td>42024</td>\n",
       "      <td>42024</td>\n",
       "      <td>42024</td>\n",
       "      <td>42024</td>\n",
       "    </tr>\n",
       "    <tr>\n",
       "      <th>18</th>\n",
       "      <td>Technology Services</td>\n",
       "      <td>22936</td>\n",
       "      <td>22936</td>\n",
       "      <td>22936</td>\n",
       "      <td>22936</td>\n",
       "    </tr>\n",
       "    <tr>\n",
       "      <th>16</th>\n",
       "      <td>Producer Manufacturing</td>\n",
       "      <td>18634</td>\n",
       "      <td>18634</td>\n",
       "      <td>18634</td>\n",
       "      <td>18634</td>\n",
       "    </tr>\n",
       "    <tr>\n",
       "      <th>0</th>\n",
       "      <td>Commercial Services</td>\n",
       "      <td>17534</td>\n",
       "      <td>17534</td>\n",
       "      <td>17534</td>\n",
       "      <td>17534</td>\n",
       "    </tr>\n",
       "    <tr>\n",
       "      <th>4</th>\n",
       "      <td>Consumer Services</td>\n",
       "      <td>14800</td>\n",
       "      <td>14800</td>\n",
       "      <td>14800</td>\n",
       "      <td>14800</td>\n",
       "    </tr>\n",
       "    <tr>\n",
       "      <th>5</th>\n",
       "      <td>Distribution Services</td>\n",
       "      <td>12787</td>\n",
       "      <td>12787</td>\n",
       "      <td>12787</td>\n",
       "      <td>12787</td>\n",
       "    </tr>\n",
       "    <tr>\n",
       "      <th>11</th>\n",
       "      <td>Health Technology</td>\n",
       "      <td>12108</td>\n",
       "      <td>12108</td>\n",
       "      <td>12108</td>\n",
       "      <td>12108</td>\n",
       "    </tr>\n",
       "    <tr>\n",
       "      <th>15</th>\n",
       "      <td>Process Industries</td>\n",
       "      <td>11668</td>\n",
       "      <td>11668</td>\n",
       "      <td>11668</td>\n",
       "      <td>11668</td>\n",
       "    </tr>\n",
       "    <tr>\n",
       "      <th>6</th>\n",
       "      <td>Electronic Technology</td>\n",
       "      <td>11668</td>\n",
       "      <td>11668</td>\n",
       "      <td>11668</td>\n",
       "      <td>11668</td>\n",
       "    </tr>\n",
       "    <tr>\n",
       "      <th>12</th>\n",
       "      <td>Industrial Services</td>\n",
       "      <td>9331</td>\n",
       "      <td>9331</td>\n",
       "      <td>9331</td>\n",
       "      <td>9331</td>\n",
       "    </tr>\n",
       "  </tbody>\n",
       "</table>\n",
       "</div>"
      ],
      "text/plain": [
       "                    sector     id  industry  nace_description   code\n",
       "8                  Finance  42024     42024             42024  42024\n",
       "18     Technology Services  22936     22936             22936  22936\n",
       "16  Producer Manufacturing  18634     18634             18634  18634\n",
       "0      Commercial Services  17534     17534             17534  17534\n",
       "4        Consumer Services  14800     14800             14800  14800\n",
       "5    Distribution Services  12787     12787             12787  12787\n",
       "11       Health Technology  12108     12108             12108  12108\n",
       "15      Process Industries  11668     11668             11668  11668\n",
       "6    Electronic Technology  11668     11668             11668  11668\n",
       "12     Industrial Services   9331      9331              9331   9331"
      ]
     },
     "execution_count": 86,
     "metadata": {},
     "output_type": "execute_result"
    }
   ],
   "source": [
    "info.groupby(['sector']).count().reset_index().sort_values('code',ascending=False).head(10)"
   ]
  },
  {
   "cell_type": "code",
   "execution_count": 87,
   "metadata": {},
   "outputs": [
    {
     "data": {
      "text/html": [
       "<div>\n",
       "<style scoped>\n",
       "    .dataframe tbody tr th:only-of-type {\n",
       "        vertical-align: middle;\n",
       "    }\n",
       "\n",
       "    .dataframe tbody tr th {\n",
       "        vertical-align: top;\n",
       "    }\n",
       "\n",
       "    .dataframe thead th {\n",
       "        text-align: right;\n",
       "    }\n",
       "</style>\n",
       "<table border=\"1\" class=\"dataframe\">\n",
       "  <thead>\n",
       "    <tr style=\"text-align: right;\">\n",
       "      <th></th>\n",
       "      <th>id</th>\n",
       "      <th>sector</th>\n",
       "      <th>industry</th>\n",
       "      <th>nace_description</th>\n",
       "      <th>code</th>\n",
       "    </tr>\n",
       "  </thead>\n",
       "  <tbody>\n",
       "    <tr>\n",
       "      <th>0</th>\n",
       "      <td>93528</td>\n",
       "      <td>Process Industries</td>\n",
       "      <td>Agricultural Commodities/Milling</td>\n",
       "      <td>Growing of cereals (except rice), leguminous c...</td>\n",
       "      <td>01.11</td>\n",
       "    </tr>\n",
       "    <tr>\n",
       "      <th>1</th>\n",
       "      <td>72520</td>\n",
       "      <td>Process Industries</td>\n",
       "      <td>Agricultural Commodities/Milling</td>\n",
       "      <td>Growing of cereals (except rice), leguminous c...</td>\n",
       "      <td>01.11</td>\n",
       "    </tr>\n",
       "    <tr>\n",
       "      <th>2</th>\n",
       "      <td>64667</td>\n",
       "      <td>Process Industries</td>\n",
       "      <td>Agricultural Commodities/Milling</td>\n",
       "      <td>Growing of cereals (except rice), leguminous c...</td>\n",
       "      <td>01.11</td>\n",
       "    </tr>\n",
       "    <tr>\n",
       "      <th>3</th>\n",
       "      <td>278227</td>\n",
       "      <td>Process Industries</td>\n",
       "      <td>Agricultural Commodities/Milling</td>\n",
       "      <td>Growing of cereals (except rice), leguminous c...</td>\n",
       "      <td>01.11</td>\n",
       "    </tr>\n",
       "    <tr>\n",
       "      <th>4</th>\n",
       "      <td>72518</td>\n",
       "      <td>Process Industries</td>\n",
       "      <td>Agricultural Commodities/Milling</td>\n",
       "      <td>Growing of cereals (except rice), leguminous c...</td>\n",
       "      <td>01.11</td>\n",
       "    </tr>\n",
       "    <tr>\n",
       "      <th>...</th>\n",
       "      <td>...</td>\n",
       "      <td>...</td>\n",
       "      <td>...</td>\n",
       "      <td>...</td>\n",
       "      <td>...</td>\n",
       "    </tr>\n",
       "    <tr>\n",
       "      <th>236940</th>\n",
       "      <td>162438</td>\n",
       "      <td>Government</td>\n",
       "      <td>Supranational</td>\n",
       "      <td>Activities of extraterritorial organisations a...</td>\n",
       "      <td>99.00</td>\n",
       "    </tr>\n",
       "    <tr>\n",
       "      <th>236941</th>\n",
       "      <td>9627</td>\n",
       "      <td>Government</td>\n",
       "      <td>Supranational</td>\n",
       "      <td>Activities of extraterritorial organisations a...</td>\n",
       "      <td>99.00</td>\n",
       "    </tr>\n",
       "    <tr>\n",
       "      <th>236942</th>\n",
       "      <td>40206</td>\n",
       "      <td>Government</td>\n",
       "      <td>Supranational</td>\n",
       "      <td>Activities of extraterritorial organisations a...</td>\n",
       "      <td>99.00</td>\n",
       "    </tr>\n",
       "    <tr>\n",
       "      <th>236943</th>\n",
       "      <td>12488</td>\n",
       "      <td>Government</td>\n",
       "      <td>Supranational</td>\n",
       "      <td>Activities of extraterritorial organisations a...</td>\n",
       "      <td>99.00</td>\n",
       "    </tr>\n",
       "    <tr>\n",
       "      <th>236944</th>\n",
       "      <td>91784</td>\n",
       "      <td>Government</td>\n",
       "      <td>Supranational</td>\n",
       "      <td>Activities of extraterritorial organisations a...</td>\n",
       "      <td>99.00</td>\n",
       "    </tr>\n",
       "  </tbody>\n",
       "</table>\n",
       "<p>236945 rows × 5 columns</p>\n",
       "</div>"
      ],
      "text/plain": [
       "            id              sector                          industry  \\\n",
       "0        93528  Process Industries  Agricultural Commodities/Milling   \n",
       "1        72520  Process Industries  Agricultural Commodities/Milling   \n",
       "2        64667  Process Industries  Agricultural Commodities/Milling   \n",
       "3       278227  Process Industries  Agricultural Commodities/Milling   \n",
       "4        72518  Process Industries  Agricultural Commodities/Milling   \n",
       "...        ...                 ...                               ...   \n",
       "236940  162438          Government                     Supranational   \n",
       "236941    9627          Government                     Supranational   \n",
       "236942   40206          Government                     Supranational   \n",
       "236943   12488          Government                     Supranational   \n",
       "236944   91784          Government                     Supranational   \n",
       "\n",
       "                                         nace_description   code  \n",
       "0       Growing of cereals (except rice), leguminous c...  01.11  \n",
       "1       Growing of cereals (except rice), leguminous c...  01.11  \n",
       "2       Growing of cereals (except rice), leguminous c...  01.11  \n",
       "3       Growing of cereals (except rice), leguminous c...  01.11  \n",
       "4       Growing of cereals (except rice), leguminous c...  01.11  \n",
       "...                                                   ...    ...  \n",
       "236940  Activities of extraterritorial organisations a...  99.00  \n",
       "236941  Activities of extraterritorial organisations a...  99.00  \n",
       "236942  Activities of extraterritorial organisations a...  99.00  \n",
       "236943  Activities of extraterritorial organisations a...  99.00  \n",
       "236944  Activities of extraterritorial organisations a...  99.00  \n",
       "\n",
       "[236945 rows x 5 columns]"
      ]
     },
     "execution_count": 87,
     "metadata": {},
     "output_type": "execute_result"
    }
   ],
   "source": [
    "info"
   ]
  },
  {
   "cell_type": "code",
   "execution_count": 88,
   "metadata": {},
   "outputs": [
    {
     "data": {
      "text/plain": [
       "sector               industry                         \n",
       "Commercial Services  Advertising/Marketing Services        27\n",
       "                     Commercial Printing/Forms             24\n",
       "                     Financial Publishing/Services          9\n",
       "                     Miscellaneous Commercial Services    122\n",
       "                     Personnel Services                    17\n",
       "                                                         ... \n",
       "Transportation       Trucking                              10\n",
       "Utilities            Alternative Power Generation          11\n",
       "                     Electric Utilities                    12\n",
       "                     Gas Distributors                       9\n",
       "                     Water Utilities                        7\n",
       "Name: nace_description, Length: 137, dtype: int64"
      ]
     },
     "execution_count": 88,
     "metadata": {},
     "output_type": "execute_result"
    }
   ],
   "source": [
    "info.groupby(['sector', 'industry']).nace_description.nunique()"
   ]
  },
  {
   "cell_type": "markdown",
   "metadata": {},
   "source": [
    "## Supplier Analysis"
   ]
  },
  {
   "cell_type": "code",
   "execution_count": 89,
   "metadata": {},
   "outputs": [],
   "source": [
    "suppliers.start_date = pd.to_datetime(suppliers.start_date)"
   ]
  },
  {
   "cell_type": "code",
   "execution_count": 90,
   "metadata": {},
   "outputs": [],
   "source": [
    "import matplotlib.pyplot as plt\n",
    "\n"
   ]
  },
  {
   "cell_type": "code",
   "execution_count": 91,
   "metadata": {},
   "outputs": [
    {
     "ename": "NameError",
     "evalue": "name 'supplier_relation_start_counts' is not defined",
     "output_type": "error",
     "traceback": [
      "\u001b[1;31m---------------------------------------------------------------------------\u001b[0m",
      "\u001b[1;31mNameError\u001b[0m                                 Traceback (most recent call last)",
      "\u001b[1;32mc:\\Users\\nikte\\OneDrive - KU Leuven\\Thesis_code\\notebook\\EDA.ipynb Cell 34\u001b[0m line \u001b[0;36m1\n\u001b[1;32m----> <a href='vscode-notebook-cell:/c%3A/Users/nikte/OneDrive%20-%20KU%20Leuven/Thesis_code/notebook/EDA.ipynb#X42sZmlsZQ%3D%3D?line=0'>1</a>\u001b[0m supplier_relation_start_counts\u001b[39m.\u001b[39msort_values(\u001b[39m'\u001b[39m\u001b[39mindex\u001b[39m\u001b[39m'\u001b[39m)\u001b[39m.\u001b[39mcumsum()[\u001b[39m'\u001b[39m\u001b[39mstart_date\u001b[39m\u001b[39m'\u001b[39m]\u001b[39m/\u001b[39m\u001b[39m233753\u001b[39m\n",
      "\u001b[1;31mNameError\u001b[0m: name 'supplier_relation_start_counts' is not defined"
     ]
    }
   ],
   "source": [
    "supplier_relation_start_counts.sort_values('index').cumsum()['start_date']/233753"
   ]
  },
  {
   "cell_type": "code",
   "execution_count": 92,
   "metadata": {},
   "outputs": [],
   "source": [
    "suppliers[\"start_month\"]= suppliers.start_date.dt.month\n",
    "suppliers[\"start_year\"] = suppliers.start_date.dt.year"
   ]
  },
  {
   "cell_type": "code",
   "execution_count": 93,
   "metadata": {},
   "outputs": [],
   "source": [
    "supplier_grouped = suppliers.groupby(['start_year','start_month']).count()"
   ]
  },
  {
   "cell_type": "code",
   "execution_count": 94,
   "metadata": {},
   "outputs": [
    {
     "data": {
      "image/png": "[encoded data removed]",
      "text/plain": [
       "<Figure size 640x480 with 1 Axes>"
      ]
     },
     "metadata": {},
     "output_type": "display_data"
    }
   ],
   "source": [
    "supplier_grouped.sort_index().plot.bar(y='start_date')\n",
    "plt.show()"
   ]
  },
  {
   "cell_type": "code",
   "execution_count": 95,
   "metadata": {},
   "outputs": [
    {
     "data": {
      "text/html": [
       "<div>\n",
       "<style scoped>\n",
       "    .dataframe tbody tr th:only-of-type {\n",
       "        vertical-align: middle;\n",
       "    }\n",
       "\n",
       "    .dataframe tbody tr th {\n",
       "        vertical-align: top;\n",
       "    }\n",
       "\n",
       "    .dataframe thead th {\n",
       "        text-align: right;\n",
       "    }\n",
       "</style>\n",
       "<table border=\"1\" class=\"dataframe\">\n",
       "  <thead>\n",
       "    <tr style=\"text-align: right;\">\n",
       "      <th></th>\n",
       "      <th></th>\n",
       "      <th>source_id</th>\n",
       "      <th>target_id</th>\n",
       "      <th>revenue_pct</th>\n",
       "      <th>start_date</th>\n",
       "      <th>type</th>\n",
       "    </tr>\n",
       "    <tr>\n",
       "      <th>start_year</th>\n",
       "      <th>start_month</th>\n",
       "      <th></th>\n",
       "      <th></th>\n",
       "      <th></th>\n",
       "      <th></th>\n",
       "      <th></th>\n",
       "    </tr>\n",
       "  </thead>\n",
       "  <tbody>\n",
       "    <tr>\n",
       "      <th rowspan=\"5\" valign=\"top\">2003</th>\n",
       "      <th>4</th>\n",
       "      <td>103</td>\n",
       "      <td>103</td>\n",
       "      <td>103</td>\n",
       "      <td>103</td>\n",
       "      <td>103</td>\n",
       "    </tr>\n",
       "    <tr>\n",
       "      <th>5</th>\n",
       "      <td>28</td>\n",
       "      <td>28</td>\n",
       "      <td>28</td>\n",
       "      <td>28</td>\n",
       "      <td>28</td>\n",
       "    </tr>\n",
       "    <tr>\n",
       "      <th>6</th>\n",
       "      <td>7</td>\n",
       "      <td>7</td>\n",
       "      <td>7</td>\n",
       "      <td>7</td>\n",
       "      <td>7</td>\n",
       "    </tr>\n",
       "    <tr>\n",
       "      <th>7</th>\n",
       "      <td>4</td>\n",
       "      <td>4</td>\n",
       "      <td>4</td>\n",
       "      <td>4</td>\n",
       "      <td>4</td>\n",
       "    </tr>\n",
       "    <tr>\n",
       "      <th>8</th>\n",
       "      <td>9</td>\n",
       "      <td>9</td>\n",
       "      <td>9</td>\n",
       "      <td>9</td>\n",
       "      <td>9</td>\n",
       "    </tr>\n",
       "    <tr>\n",
       "      <th>...</th>\n",
       "      <th>...</th>\n",
       "      <td>...</td>\n",
       "      <td>...</td>\n",
       "      <td>...</td>\n",
       "      <td>...</td>\n",
       "      <td>...</td>\n",
       "    </tr>\n",
       "    <tr>\n",
       "      <th>2021</th>\n",
       "      <th>12</th>\n",
       "      <td>3995</td>\n",
       "      <td>3995</td>\n",
       "      <td>3995</td>\n",
       "      <td>3995</td>\n",
       "      <td>3995</td>\n",
       "    </tr>\n",
       "    <tr>\n",
       "      <th rowspan=\"4\" valign=\"top\">2022</th>\n",
       "      <th>1</th>\n",
       "      <td>2693</td>\n",
       "      <td>2693</td>\n",
       "      <td>2693</td>\n",
       "      <td>2693</td>\n",
       "      <td>2693</td>\n",
       "    </tr>\n",
       "    <tr>\n",
       "      <th>2</th>\n",
       "      <td>6595</td>\n",
       "      <td>6595</td>\n",
       "      <td>6595</td>\n",
       "      <td>6595</td>\n",
       "      <td>6595</td>\n",
       "    </tr>\n",
       "    <tr>\n",
       "      <th>3</th>\n",
       "      <td>12318</td>\n",
       "      <td>12318</td>\n",
       "      <td>12318</td>\n",
       "      <td>12318</td>\n",
       "      <td>12318</td>\n",
       "    </tr>\n",
       "    <tr>\n",
       "      <th>4</th>\n",
       "      <td>394</td>\n",
       "      <td>394</td>\n",
       "      <td>394</td>\n",
       "      <td>394</td>\n",
       "      <td>394</td>\n",
       "    </tr>\n",
       "  </tbody>\n",
       "</table>\n",
       "<p>210 rows × 5 columns</p>\n",
       "</div>"
      ],
      "text/plain": [
       "                        source_id  target_id  revenue_pct  start_date   type\n",
       "start_year start_month                                                      \n",
       "2003       4                  103        103          103         103    103\n",
       "           5                   28         28           28          28     28\n",
       "           6                    7          7            7           7      7\n",
       "           7                    4          4            4           4      4\n",
       "           8                    9          9            9           9      9\n",
       "...                           ...        ...          ...         ...    ...\n",
       "2021       12                3995       3995         3995        3995   3995\n",
       "2022       1                 2693       2693         2693        2693   2693\n",
       "           2                 6595       6595         6595        6595   6595\n",
       "           3                12318      12318        12318       12318  12318\n",
       "           4                  394        394          394         394    394\n",
       "\n",
       "[210 rows x 5 columns]"
      ]
     },
     "execution_count": 95,
     "metadata": {},
     "output_type": "execute_result"
    }
   ],
   "source": [
    "supplier_grouped"
   ]
  },
  {
   "cell_type": "markdown",
   "metadata": {},
   "source": [
    "We can split the data using the year. All the supplier relations uptil 2020 would be the training set, the year 2021 would be the validation set and the 2022 the test set."
   ]
  },
  {
   "cell_type": "markdown",
   "metadata": {},
   "source": []
  }
 ],
 "metadata": {
  "kernelspec": {
   "display_name": "thesis",
   "language": "python",
   "name": "python3"
  },
  "language_info": {
   "codemirror_mode": {
    "name": "ipython",
    "version": 3
   },
   "file_extension": ".py",
   "mimetype": "text/x-python",
   "name": "python",
   "nbconvert_exporter": "python",
   "pygments_lexer": "ipython3",
   "version": "3.10.11"
  },
  "orig_nbformat": 4
 },
 "nbformat": 4,
 "nbformat_minor": 2
}
