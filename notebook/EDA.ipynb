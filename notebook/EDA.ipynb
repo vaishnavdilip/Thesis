{
 "cells": [
  {
   "cell_type": "code",
   "execution_count": 1,
   "metadata": {},
   "outputs": [],
   "source": [
    "import sys\n",
    "sys.path.append('../')\n",
    "\n",
    "import pandas as pd"
   ]
  },
  {
   "cell_type": "code",
   "execution_count": 2,
   "metadata": {},
   "outputs": [],
   "source": [
    "competitors = pd.read_parquet('../data/raw/competitors.parquet.gzip')\n",
    "parents = pd.read_parquet('../data/raw/parents.parquet.gzip')\n",
    "partners = pd.read_parquet('../data/raw/partners.parquet.gzip')\n",
    "suppliers = pd.read_parquet('../data/raw/suppliers.parquet.gzip')"
   ]
  },
  {
   "cell_type": "code",
   "execution_count": null,
   "metadata": {},
   "outputs": [],
   "source": [
    "competitors.head()"
   ]
  },
  {
   "cell_type": "code",
   "execution_count": null,
   "metadata": {},
   "outputs": [],
   "source": [
    "parents.head()"
   ]
  },
  {
   "cell_type": "code",
   "execution_count": null,
   "metadata": {},
   "outputs": [],
   "source": [
    "partners.head()"
   ]
  },
  {
   "cell_type": "code",
   "execution_count": null,
   "metadata": {},
   "outputs": [],
   "source": [
    "suppliers.head()"
   ]
  },
  {
   "cell_type": "code",
   "execution_count": null,
   "metadata": {},
   "outputs": [],
   "source": []
  },
  {
   "cell_type": "code",
   "execution_count": null,
   "metadata": {},
   "outputs": [],
   "source": [
    "suppliers['revenue_pct'] = suppliers['revenue_pct'].fillna(-999)"
   ]
  },
  {
   "cell_type": "code",
   "execution_count": null,
   "metadata": {},
   "outputs": [],
   "source": [
    "companies_source = pd.concat([competitors[['source_id','source_name']],\n",
    "                      parents[['source_id','source_name']],\n",
    "                      partners[['source_id','source_name']],\n",
    "                      suppliers[['source_id','source_name']]],\n",
    "                             ).drop_duplicates().rename(columns={'source_id': 'id', 'source_name': 'name'})\n",
    "companies_target = pd.concat([competitors[['target_id','targte_name']],\n",
    "                      parents[['target_id','targte_name']],\n",
    "                      partners[['target_id','targte_name']],\n",
    "                      suppliers[['target_id','targte_name']]],\n",
    "                      ).drop_duplicates().rename(columns={'target_id':'id','targte_name':'name'})\n"
   ]
  },
  {
   "cell_type": "code",
   "execution_count": null,
   "metadata": {},
   "outputs": [],
   "source": [
    "companies = pd.concat([companies_source,companies_target]).drop_duplicates()"
   ]
  },
  {
   "cell_type": "code",
   "execution_count": null,
   "metadata": {},
   "outputs": [],
   "source": [
    "companies.to_csv('../data/processed/companies.csv',index=True, index_label='index')"
   ]
  },
  {
   "cell_type": "code",
   "execution_count": null,
   "metadata": {},
   "outputs": [],
   "source": [
    "competitors = competitors[['source_id','target_id','start_date','type']]\n",
    "parents = parents[['source_id','target_id','start_date','type']]\n",
    "partners = partners[['source_id','target_id','start_date','type']]\n",
    "suppliers = suppliers[['source_id','target_id','revenue_pct','start_date','type']]"
   ]
  },
  {
   "cell_type": "code",
   "execution_count": null,
   "metadata": {},
   "outputs": [],
   "source": [
    "competitors.to_csv('../data/processed/competitors.csv',index=True, index_label='index')\n",
    "parents.to_csv('../data/processed/parents.csv',index=True, index_label='index')\n",
    "partners.to_csv('../data/processed/partners.csv',index=True, index_label='index')\n",
    "suppliers.to_csv('../data/processed/suppliers.csv',index=True, index_label='index')"
   ]
  }
 ],
 "metadata": {
  "kernelspec": {
   "display_name": "thesis",
   "language": "python",
   "name": "python3"
  },
  "language_info": {
   "codemirror_mode": {
    "name": "ipython",
    "version": 3
   },
   "file_extension": ".py",
   "mimetype": "text/x-python",
   "name": "python",
   "nbconvert_exporter": "python",
   "pygments_lexer": "ipython3",
   "version": "3.11.0"
  },
  "orig_nbformat": 4
 },
 "nbformat": 4,
 "nbformat_minor": 2
}
