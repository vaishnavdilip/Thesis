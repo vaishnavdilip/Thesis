{
 "cells": [
  {
   "cell_type": "code",
   "execution_count": 1,
   "metadata": {},
   "outputs": [],
   "source": [
    "import sys\n",
    "sys.path.append('../')\n",
    "\n",
    "import pandas as pd\n",
    "import plotly.express as px\n",
    "import plotly.graph_objects as go\n",
    "\n",
    "from utils.plot_utils import export_plot\n"
   ]
  },
  {
   "cell_type": "code",
   "execution_count": 2,
   "metadata": {},
   "outputs": [],
   "source": [
    "competitors = pd.read_parquet('../data/raw/competitors.parquet.gzip')\n",
    "parents = pd.read_parquet('../data/raw/parents.parquet.gzip')\n",
    "partners = pd.read_parquet('../data/raw/partners.parquet.gzip')\n",
    "suppliers = pd.read_parquet('../data/raw/suppliers.parquet.gzip')\n",
    "info = pd.read_parquet('../data/raw/entity_info.parquet.gzip')\n",
    "address = pd.read_parquet('../data/raw/addresses.parquet.gzip')"
   ]
  },
  {
   "cell_type": "markdown",
   "metadata": {},
   "source": [
    "## Sector plot"
   ]
  },
  {
   "cell_type": "code",
   "execution_count": 3,
   "metadata": {},
   "outputs": [
    {
     "data": {
      "text/plain": [
       "'Exported'"
      ]
     },
     "execution_count": 3,
     "metadata": {},
     "output_type": "execute_result"
    }
   ],
   "source": [
    "df = info.groupby(['sector']).count().reset_index().sort_values('code',ascending=False)\n",
    "df.loc[df['code']<7000, 'sector']= 'Other'\n",
    "fig = px.pie(df, values='code', names='sector', title='Sector distribution', height=500, width=700)\n",
    "export_plot(fig, 'sector_distribution', ['html','png','svg'])"
   ]
  },
  {
   "cell_type": "markdown",
   "metadata": {},
   "source": [
    "## Bar plot of Start years in suppliers relationship"
   ]
  },
  {
   "cell_type": "code",
   "execution_count": 24,
   "metadata": {},
   "outputs": [],
   "source": [
    "suppliers.start_date = pd.to_datetime(suppliers.start_date)\n",
    "supplier_relation_start_counts = suppliers.start_date.dt.year.value_counts().reset_index()\n",
    "supplier_relation_start_counts.sort_values('index', inplace=True)"
   ]
  },
  {
   "cell_type": "code",
   "execution_count": 25,
   "metadata": {},
   "outputs": [
    {
     "data": {
      "text/plain": [
       "'Exported'"
      ]
     },
     "execution_count": 25,
     "metadata": {},
     "output_type": "execute_result"
    }
   ],
   "source": [
    "fig = px.bar(supplier_relation_start_counts, x='index', y='start_date',  height=500, width=700)\n",
    "\n",
    "fig.update_layout(\n",
    "    title='Number of supplier relations per year',\n",
    "    xaxis_title='Year',\n",
    "    yaxis_title='Number of supplier relations',\n",
    ")\n",
    "\n",
    "export_plot(fig, 'supplier_relation_start_counts', ['html', 'png', 'svg'])"
   ]
  },
  {
   "cell_type": "markdown",
   "metadata": {},
   "source": [
    "## Bar plot of Start years in Partners relationship"
   ]
  },
  {
   "cell_type": "code",
   "execution_count": 26,
   "metadata": {},
   "outputs": [],
   "source": [
    "partners.start_date = pd.to_datetime(partners.start_date)\n",
    "partner_relation_start_counts = partners.start_date.dt.year.value_counts().reset_index()\n",
    "partner_relation_start_counts.sort_values('index', inplace=True)"
   ]
  },
  {
   "cell_type": "code",
   "execution_count": 27,
   "metadata": {},
   "outputs": [
    {
     "data": {
      "text/plain": [
       "'Exported'"
      ]
     },
     "execution_count": 27,
     "metadata": {},
     "output_type": "execute_result"
    }
   ],
   "source": [
    "fig = px.bar(partner_relation_start_counts, x='index', y='start_date',  height=500, width=700)\n",
    "\n",
    "fig.update_layout(\n",
    "    title='Number of partner relations per year',\n",
    "    xaxis_title='Year',\n",
    "    yaxis_title='Number of partner relations',\n",
    ")\n",
    "\n",
    "export_plot(fig, 'partner_relation_start_counts', ['html', 'png', 'svg'])"
   ]
  },
  {
   "cell_type": "markdown",
   "metadata": {},
   "source": [
    "## Bar plot of Start years in competitors relationship"
   ]
  },
  {
   "cell_type": "code",
   "execution_count": 28,
   "metadata": {},
   "outputs": [],
   "source": [
    "competitors.start_date = pd.to_datetime(competitors.start_date)\n",
    "competitor_relation_start_counts = competitors.start_date.dt.year.value_counts().reset_index()\n",
    "competitor_relation_start_counts.sort_values('index', inplace=True)"
   ]
  },
  {
   "cell_type": "code",
   "execution_count": 29,
   "metadata": {},
   "outputs": [
    {
     "data": {
      "text/plain": [
       "'Exported'"
      ]
     },
     "execution_count": 29,
     "metadata": {},
     "output_type": "execute_result"
    }
   ],
   "source": [
    "fig = px.bar(competitor_relation_start_counts, x='index', y='start_date',  height=500, width=700)\n",
    "\n",
    "fig.update_layout(\n",
    "    title='Number of competitors relations per year',\n",
    "    xaxis_title='Year',\n",
    "    yaxis_title='Number of competitor relations',\n",
    ")\n",
    "\n",
    "export_plot(fig, 'competitor_relation_start_counts', ['html', 'png', 'svg'])"
   ]
  },
  {
   "cell_type": "markdown",
   "metadata": {},
   "source": [
    "## Plot of number of companies in countries"
   ]
  },
  {
   "cell_type": "code",
   "execution_count": 6,
   "metadata": {},
   "outputs": [],
   "source": [
    "availability = address.groupby(['country']).count().sort_values(by='name', ascending=False).reset_index()"
   ]
  },
  {
   "cell_type": "code",
   "execution_count": 7,
   "metadata": {},
   "outputs": [
    {
     "data": {
      "text/html": [
       "<div>\n",
       "<style scoped>\n",
       "    .dataframe tbody tr th:only-of-type {\n",
       "        vertical-align: middle;\n",
       "    }\n",
       "\n",
       "    .dataframe tbody tr th {\n",
       "        vertical-align: top;\n",
       "    }\n",
       "\n",
       "    .dataframe thead th {\n",
       "        text-align: right;\n",
       "    }\n",
       "</style>\n",
       "<table border=\"1\" class=\"dataframe\">\n",
       "  <thead>\n",
       "    <tr style=\"text-align: right;\">\n",
       "      <th></th>\n",
       "      <th>country</th>\n",
       "      <th>id</th>\n",
       "      <th>name</th>\n",
       "      <th>city_state_postal</th>\n",
       "      <th>location_street1</th>\n",
       "    </tr>\n",
       "  </thead>\n",
       "  <tbody>\n",
       "    <tr>\n",
       "      <th>0</th>\n",
       "      <td>USA</td>\n",
       "      <td>48514</td>\n",
       "      <td>48514</td>\n",
       "      <td>43972</td>\n",
       "      <td>42607</td>\n",
       "    </tr>\n",
       "    <tr>\n",
       "      <th>1</th>\n",
       "      <td>CHN</td>\n",
       "      <td>19894</td>\n",
       "      <td>19894</td>\n",
       "      <td>14127</td>\n",
       "      <td>12776</td>\n",
       "    </tr>\n",
       "    <tr>\n",
       "      <th>2</th>\n",
       "      <td>JPN</td>\n",
       "      <td>11781</td>\n",
       "      <td>11781</td>\n",
       "      <td>8659</td>\n",
       "      <td>8318</td>\n",
       "    </tr>\n",
       "    <tr>\n",
       "      <th>3</th>\n",
       "      <td>GBR</td>\n",
       "      <td>11312</td>\n",
       "      <td>11312</td>\n",
       "      <td>10177</td>\n",
       "      <td>9979</td>\n",
       "    </tr>\n",
       "    <tr>\n",
       "      <th>4</th>\n",
       "      <td>DEU</td>\n",
       "      <td>7357</td>\n",
       "      <td>7357</td>\n",
       "      <td>6580</td>\n",
       "      <td>6496</td>\n",
       "    </tr>\n",
       "    <tr>\n",
       "      <th>...</th>\n",
       "      <td>...</td>\n",
       "      <td>...</td>\n",
       "      <td>...</td>\n",
       "      <td>...</td>\n",
       "      <td>...</td>\n",
       "    </tr>\n",
       "    <tr>\n",
       "      <th>204</th>\n",
       "      <td>GUF</td>\n",
       "      <td>1</td>\n",
       "      <td>1</td>\n",
       "      <td>1</td>\n",
       "      <td>1</td>\n",
       "    </tr>\n",
       "    <tr>\n",
       "      <th>205</th>\n",
       "      <td>ERI</td>\n",
       "      <td>1</td>\n",
       "      <td>1</td>\n",
       "      <td>0</td>\n",
       "      <td>0</td>\n",
       "    </tr>\n",
       "    <tr>\n",
       "      <th>206</th>\n",
       "      <td>ASM</td>\n",
       "      <td>1</td>\n",
       "      <td>1</td>\n",
       "      <td>0</td>\n",
       "      <td>0</td>\n",
       "    </tr>\n",
       "    <tr>\n",
       "      <th>207</th>\n",
       "      <td>VAT</td>\n",
       "      <td>1</td>\n",
       "      <td>1</td>\n",
       "      <td>1</td>\n",
       "      <td>0</td>\n",
       "    </tr>\n",
       "    <tr>\n",
       "      <th>208</th>\n",
       "      <td>SMR</td>\n",
       "      <td>1</td>\n",
       "      <td>1</td>\n",
       "      <td>1</td>\n",
       "      <td>1</td>\n",
       "    </tr>\n",
       "  </tbody>\n",
       "</table>\n",
       "<p>209 rows × 5 columns</p>\n",
       "</div>"
      ],
      "text/plain": [
       "    country     id   name  city_state_postal  location_street1\n",
       "0       USA  48514  48514              43972             42607\n",
       "1       CHN  19894  19894              14127             12776\n",
       "2       JPN  11781  11781               8659              8318\n",
       "3       GBR  11312  11312              10177              9979\n",
       "4       DEU   7357   7357               6580              6496\n",
       "..      ...    ...    ...                ...               ...\n",
       "204     GUF      1      1                  1                 1\n",
       "205     ERI      1      1                  0                 0\n",
       "206     ASM      1      1                  0                 0\n",
       "207     VAT      1      1                  1                 0\n",
       "208     SMR      1      1                  1                 1\n",
       "\n",
       "[209 rows x 5 columns]"
      ]
     },
     "execution_count": 7,
     "metadata": {},
     "output_type": "execute_result"
    }
   ],
   "source": [
    "availability"
   ]
  },
  {
   "cell_type": "code",
   "execution_count": 14,
   "metadata": {},
   "outputs": [
    {
     "data": {
      "text/plain": [
       "'Exported'"
      ]
     },
     "execution_count": 14,
     "metadata": {},
     "output_type": "execute_result"
    }
   ],
   "source": [
    "fig = px.choropleth(availability, locations=\"country\",\n",
    "                    color=\"name\", # lifeExp is a column of gapminder\n",
    "                    hover_name=\"country\", # column to add to hover information\n",
    "                    color_continuous_scale=px.colors.sequential.Plasma,\n",
    "                    height=500, width=1000,)\n",
    "\n",
    "fig.update_layout(\n",
    "    coloraxis_colorbar=dict(\n",
    "    title=\"Number of Bills per Cell\",\n",
    "    len=1\n",
    "    ),\n",
    "    title_text = 'Availability of company data based on country'\n",
    ")\n",
    "\n",
    "export_plot(fig, 'availability', ['html', 'png', 'svg'])"
   ]
  },
  {
   "cell_type": "code",
   "execution_count": null,
   "metadata": {},
   "outputs": [],
   "source": []
  }
 ],
 "metadata": {
  "kernelspec": {
   "display_name": "venv",
   "language": "python",
   "name": "python3"
  },
  "language_info": {
   "codemirror_mode": {
    "name": "ipython",
    "version": 3
   },
   "file_extension": ".py",
   "mimetype": "text/x-python",
   "name": "python",
   "nbconvert_exporter": "python",
   "pygments_lexer": "ipython3",
   "version": "3.10.10"
  },
  "orig_nbformat": 4
 },
 "nbformat": 4,
 "nbformat_minor": 2
}
