{
 "cells": [
  {
   "cell_type": "code",
   "execution_count": 1,
   "metadata": {},
   "outputs": [],
   "source": [
    "import sys\n",
    "sys.path.append('../')\n",
    "from utils import Graph"
   ]
  },
  {
   "cell_type": "code",
   "execution_count": 2,
   "metadata": {},
   "outputs": [],
   "source": [
    "first = Graph(\"bolt://localhost:7687\",\"neo4j\", \"neo4jneo4j\")"
   ]
  },
  {
   "cell_type": "code",
   "execution_count": 4,
   "metadata": {},
   "outputs": [
    {
     "name": "stdout",
     "output_type": "stream",
     "text": [
      "[]\n",
      "[]\n",
      "[]\n",
      "[]\n",
      "[]\n",
      "[]\n",
      "None\n",
      "[]\n",
      "None\n",
      "[]\n",
      "None\n",
      "[]\n",
      "None\n",
      "[]\n",
      "None\n"
     ]
    }
   ],
   "source": [
    "first.create_constraints()\n",
    "#takes around 10 secs\n",
    "\n",
    "first.create_company()\n",
    "# takes 17.4 seconds\n",
    "\n",
    "first.create_sector()\n",
    "\n",
    "first.add_sector_info()\n",
    "\n",
    "first.create_locations()\n",
    "\n",
    "first.add_location_info()"
   ]
  },
  {
   "cell_type": "code",
   "execution_count": 5,
   "metadata": {},
   "outputs": [
    {
     "name": "stdout",
     "output_type": "stream",
     "text": [
      "[]\n",
      "None\n",
      "[]\n",
      "None\n"
     ]
    }
   ],
   "source": [
    "first.create_competitors()\n",
    "# Takes around 12.2 secs\n",
    "\n",
    "first.create_parents()\n",
    "#takes around 13.2 secs"
   ]
  },
  {
   "cell_type": "code",
   "execution_count": 6,
   "metadata": {},
   "outputs": [
    {
     "name": "stdout",
     "output_type": "stream",
     "text": [
      "[]\n",
      "None\n",
      "[]\n",
      "None\n"
     ]
    }
   ],
   "source": [
    "first.create_partners()\n",
    "# takes 21 seconds\n",
    "\n",
    "first.create_suppliers()\n",
    "#takes 43.6 seconds"
   ]
  },
  {
   "cell_type": "code",
   "execution_count": 3,
   "metadata": {},
   "outputs": [
    {
     "name": "stdout",
     "output_type": "stream",
     "text": [
      "[]\n",
      "[]\n",
      "[]\n",
      "[]\n",
      "[]\n",
      "[]\n",
      "[]\n",
      "None\n"
     ]
    }
   ],
   "source": [
    "first.drop_constraints()\n",
    "first.clear_database()"
   ]
  },
  {
   "cell_type": "code",
   "execution_count": null,
   "metadata": {},
   "outputs": [],
   "source": []
  }
 ],
 "metadata": {
  "kernelspec": {
   "display_name": "thesis",
   "language": "python",
   "name": "python3"
  },
  "language_info": {
   "codemirror_mode": {
    "name": "ipython",
    "version": 3
   },
   "file_extension": ".py",
   "mimetype": "text/x-python",
   "name": "python",
   "nbconvert_exporter": "python",
   "pygments_lexer": "ipython3",
   "version": "3.10.11"
  },
  "orig_nbformat": 4
 },
 "nbformat": 4,
 "nbformat_minor": 2
}
