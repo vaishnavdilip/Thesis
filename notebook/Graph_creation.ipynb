{
 "cells": [
  {
   "cell_type": "code",
   "execution_count": null,
   "metadata": {},
   "outputs": [],
   "source": [
    "import sys\n",
    "sys.path.append('../')\n",
    "from utils import Graph"
   ]
  },
  {
   "cell_type": "code",
   "execution_count": null,
   "metadata": {},
   "outputs": [],
   "source": [
    "first = Graph('bolt://localhost:7687', 'neo4j', 'neo4jneo4j')\n"
   ]
  },
  {
   "cell_type": "code",
   "execution_count": null,
   "metadata": {},
   "outputs": [],
   "source": [
    "first.create_constraints()\n",
    "#takes around 10 secs\n",
    "\n",
    "first.create_company()\n",
    "# takes 17.4 seconds\n",
    "\n",
    "first.create_competitors()\n",
    "# Takes around 12.2 secs\n",
    "\n",
    "first.create_parents()\n",
    "#takes around 13.2 secs\n",
    "\n",
    "first.create_partners()\n",
    "# takes 21 seconds\n",
    "\n",
    "first.create_suppliers()\n",
    "# takes 43.6 seconds"
   ]
  },
  {
   "cell_type": "code",
   "execution_count": null,
   "metadata": {},
   "outputs": [],
   "source": [
    "first.clear_database()\n",
    "first.drop_constraints()"
   ]
  }
 ],
 "metadata": {
  "language_info": {
   "name": "python"
  },
  "orig_nbformat": 4
 },
 "nbformat": 4,
 "nbformat_minor": 2
}
