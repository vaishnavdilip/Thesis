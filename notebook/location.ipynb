{
 "cells": [
  {
   "attachments": {},
   "cell_type": "markdown",
   "metadata": {},
   "source": [
    "# Google search try"
   ]
  },
  {
   "cell_type": "code",
   "execution_count": null,
   "metadata": {},
   "outputs": [],
   "source": [
    "from googlesearch import search\n",
    "import re\n",
    "import pandas as pd"
   ]
  },
  {
   "cell_type": "code",
   "execution_count": null,
   "metadata": {},
   "outputs": [],
   "source": [
    "companies = pd.read_csv('../data/processed/companies.csv')"
   ]
  },
  {
   "cell_type": "code",
   "execution_count": null,
   "metadata": {},
   "outputs": [],
   "source": [
    "companies = companies['name'].tolist()"
   ]
  },
  {
   "cell_type": "code",
   "execution_count": null,
   "metadata": {},
   "outputs": [],
   "source": [
    "# to search\n",
    "found = set()\n",
    "\n",
    "for idx,company in enumerate(companies):\n",
    "    for j in search(company, tld=\"com\"):\n",
    "        print(idx)\n",
    "        if re.search('wikipedia',j):\n",
    "            found.add(company)\n",
    "            break"
   ]
  },
  {
   "cell_type": "code",
   "execution_count": null,
   "metadata": {},
   "outputs": [],
   "source": [
    "search"
   ]
  },
  {
   "cell_type": "code",
   "execution_count": null,
   "metadata": {},
   "outputs": [],
   "source": [
    "import bs4 as bs\n",
    "import urllib\n",
    "\n",
    "comp = 'The Bank of East Asia Ltd'\n",
    "url = 'https://en.wikipedia.org/wiki/'\n",
    "print(urllib.parse.urlencode(comp))\n",
    "# source = urllib.request.urlopen(url).read()"
   ]
  },
  {
   "cell_type": "code",
   "execution_count": null,
   "metadata": {},
   "outputs": [],
   "source": [
    "soup = bs.BeautifulSoup(source,'html')"
   ]
  },
  {
   "cell_type": "code",
   "execution_count": null,
   "metadata": {},
   "outputs": [],
   "source": [
    "for tag in soup.find_all('td'):\n",
    "    if tag.get('class') == ['infobox-data', 'adr']:\n",
    "        print(tag.text)"
   ]
  },
  {
   "attachments": {},
   "cell_type": "markdown",
   "metadata": {},
   "source": [
    "# Nominatim"
   ]
  },
  {
   "cell_type": "code",
   "execution_count": 1,
   "metadata": {},
   "outputs": [],
   "source": [
    "from geopy.geocoders import Nominatim\n",
    "import pandas as pd \n",
    "import os\n",
    "import sys\n",
    "import ssl\n",
    "import numpy as np\n",
    "\n",
    "\n",
    "sys.path.append('../')"
   ]
  },
  {
   "cell_type": "code",
   "execution_count": 2,
   "metadata": {},
   "outputs": [],
   "source": [
    "# setting security certificate context\n",
    "ssl_context = ssl.create_default_context()\n",
    "ssl_context.check_hostname = False\n",
    "ssl_context.verify_mode = ssl.CERT_NONE"
   ]
  },
  {
   "cell_type": "code",
   "execution_count": 3,
   "metadata": {},
   "outputs": [],
   "source": [
    "# making the nominatim object \n",
    "geolocator = Nominatim(user_agent=\"my-application3\", ssl_context=ssl_context, timeout=None)"
   ]
  },
  {
   "cell_type": "code",
   "execution_count": 4,
   "metadata": {},
   "outputs": [
    {
     "data": {
      "text/plain": [
       "40.741059199999995"
      ]
     },
     "execution_count": 4,
     "metadata": {},
     "output_type": "execute_result"
    }
   ],
   "source": [
    "# Random test\n",
    "location = geolocator.geocode(\"175 5th Avenue NYC, United states\")\n",
    "location.latitude "
   ]
  },
  {
   "cell_type": "code",
   "execution_count": 5,
   "metadata": {},
   "outputs": [],
   "source": [
    "address = pd.read_parquet('../data/raw/addresses.parquet.gzip')\n",
    "country_codes  = pd.read_excel('../data/raw/Countries.xlsx')"
   ]
  },
  {
   "cell_type": "code",
   "execution_count": 6,
   "metadata": {},
   "outputs": [],
   "source": [
    "address['completed'] = np.nan "
   ]
  },
  {
   "cell_type": "code",
   "execution_count": 7,
   "metadata": {},
   "outputs": [],
   "source": [
    "address['city'] = address['city_state_postal'].str.split(',').str[0]"
   ]
  },
  {
   "cell_type": "code",
   "execution_count": 8,
   "metadata": {},
   "outputs": [],
   "source": [
    "address.loc[(address['country'] == 'NAM')&(address['city'] == 'Aachen'), 'country'] = 'DEU'\n",
    "address.loc[(address['country'] == 'NAM')&(address['city'] == 'Artarmon'), 'country'] = 'AUS'\n",
    "address.loc[(address['country'] == 'NAM')&(address['city'] == 'Ann Arbor'), 'country'] = 'USA'\n",
    "address.loc[(address['country'] == 'NAM')&(address['city'] == 'Bangalore'), 'country'] = 'IND'\n",
    "address.loc[(address['country'] == 'NAM')&(address['city'] == 'Blindern'), 'country'] = 'NOR'\n",
    "address.loc[(address['country'] == 'NAM')&(address['city'] == 'Boulder'), 'country'] = 'USA'\n",
    "address.loc[(address['country'] == 'NAM')&(address['city'] == 'Cambridge'), 'country'] = 'GBR'\n",
    "address.loc[(address['country'] == 'NAM')&(address['city'] == 'Lausanne'), 'country'] = 'CHE'\n",
    "address.loc[(address['country'] == 'NAM')&(address['city'] == 'Milwaukee'), 'country'] = 'USA'\n",
    "address.loc[(address['country'] == 'NAM')&(address['city'] == 'Munich'), 'country'] = 'DEU'\n",
    "address.loc[(address['country'] == 'NAM')&(address['city'] == 'New York'), 'country'] = 'USA'\n",
    "address.loc[(address['country'] == 'NAM')&(address['city'] == 'Norwich'), 'country'] = 'GBR'\n",
    "address.loc[(address['country'] == 'NAM')&(address['city'] == 'Oberhaching'), 'country'] = 'DEU'\n",
    "address.loc[(address['country'] == 'NAM')&(address['city'] == 'Paris'), 'country'] = 'FRA'\n",
    "address.loc[(address['country'] == 'NAM')&(address['city'] == 'Philadelphia'), 'country'] = 'USA'\n",
    "address.loc[(address['country'] == 'NAM')&(address['city'] == 'Snoqualmie'), 'country'] = 'USA'\n",
    "address.loc[(address['country'] == 'NAM')&(address['city'] == 'Southborough'), 'country'] = 'USA'\n",
    "address.loc[(address['country'] == 'NAM')&(address['city'] == 'Stockholm 111 37'), 'country'] = 'SWE'\n",
    "address.loc[(address['country'] == 'NAM')&(address['city'] == 'Towson'), 'country'] = 'USA'\n",
    "address.loc[(address['country'] == 'NAM')&(address['city'] == 'Waltham'), 'country'] = 'USA'\n",
    "address.loc[(address['country'] == 'NAM')&(address['city'] == 'Zurich 8002'), 'country'] = 'CHE'\n",
    "\n",
    "# Adding the only other company with location_street1\n",
    "address.loc[(address['name'] == 'Fennoa Oy'), 'city'] = 'Alavus'\n",
    "address.loc[(address['name'] == 'Fennoa Oy'), 'country'] = 'FIN'\n",
    "address.loc[(address['name'] == 'Fennoa Oy'), 'city_state_postal'] = 'Alavus, 63300'\n",
    "address.loc[(address['name'] == 'Fennoa Oy'), 'location_street1'] = 'Mikko Kalliovaara Rinteentie 136'"
   ]
  },
  {
   "cell_type": "code",
   "execution_count": 9,
   "metadata": {},
   "outputs": [],
   "source": [
    "address.loc[(address.country == 'NAM'), 'country'] = None"
   ]
  },
  {
   "cell_type": "code",
   "execution_count": 10,
   "metadata": {},
   "outputs": [],
   "source": [
    "address = address.merge(country_codes, how='left', left_on='country', right_on='ISO-alpha3 Code')"
   ]
  },
  {
   "cell_type": "code",
   "execution_count": 11,
   "metadata": {},
   "outputs": [],
   "source": [
    "# Have to take care of this when finding the location\n",
    "# address.loc[(~address['location_street1'].isnull())&(address.city_state_postal.isnull())] "
   ]
  },
  {
   "cell_type": "code",
   "execution_count": 12,
   "metadata": {},
   "outputs": [],
   "source": [
    "address.drop(columns=['No','M49 Code','Region 1', 'Region 2', 'country'], inplace=True)\n",
    "address.rename(columns={'Country or Area':'country'}, inplace=True)"
   ]
  },
  {
   "cell_type": "code",
   "execution_count": 13,
   "metadata": {},
   "outputs": [
    {
     "data": {
      "text/html": [
       "<div>\n",
       "<style scoped>\n",
       "    .dataframe tbody tr th:only-of-type {\n",
       "        vertical-align: middle;\n",
       "    }\n",
       "\n",
       "    .dataframe tbody tr th {\n",
       "        vertical-align: top;\n",
       "    }\n",
       "\n",
       "    .dataframe thead th {\n",
       "        text-align: right;\n",
       "    }\n",
       "</style>\n",
       "<table border=\"1\" class=\"dataframe\">\n",
       "  <thead>\n",
       "    <tr style=\"text-align: right;\">\n",
       "      <th></th>\n",
       "      <th>id</th>\n",
       "      <th>name</th>\n",
       "      <th>city_state_postal</th>\n",
       "      <th>location_street1</th>\n",
       "      <th>completed</th>\n",
       "      <th>city</th>\n",
       "      <th>country</th>\n",
       "      <th>ISO-alpha3 Code</th>\n",
       "      <th>Continent</th>\n",
       "    </tr>\n",
       "  </thead>\n",
       "  <tbody>\n",
       "    <tr>\n",
       "      <th>0</th>\n",
       "      <td>50472</td>\n",
       "      <td>Infinity Pharmaceuticals, Inc.</td>\n",
       "      <td>Cambridge, MA 02138</td>\n",
       "      <td>1100 Massachusetts Avenue</td>\n",
       "      <td>NaN</td>\n",
       "      <td>Cambridge</td>\n",
       "      <td>United States of America</td>\n",
       "      <td>USA</td>\n",
       "      <td>North America</td>\n",
       "    </tr>\n",
       "    <tr>\n",
       "      <th>1</th>\n",
       "      <td>282940</td>\n",
       "      <td>Bozhon Precision Industry Technology Co., Ltd.</td>\n",
       "      <td>Suzhou, Jiangsu 215222</td>\n",
       "      <td>666 Huxin West Road</td>\n",
       "      <td>NaN</td>\n",
       "      <td>Suzhou</td>\n",
       "      <td>China</td>\n",
       "      <td>CHN</td>\n",
       "      <td>Asia</td>\n",
       "    </tr>\n",
       "  </tbody>\n",
       "</table>\n",
       "</div>"
      ],
      "text/plain": [
       "       id                                            name  \\\n",
       "0   50472                  Infinity Pharmaceuticals, Inc.   \n",
       "1  282940  Bozhon Precision Industry Technology Co., Ltd.   \n",
       "\n",
       "        city_state_postal           location_street1  completed       city  \\\n",
       "0     Cambridge, MA 02138  1100 Massachusetts Avenue        NaN  Cambridge   \n",
       "1  Suzhou, Jiangsu 215222        666 Huxin West Road        NaN     Suzhou   \n",
       "\n",
       "                    country ISO-alpha3 Code      Continent  \n",
       "0  United States of America             USA  North America  \n",
       "1                     China             CHN           Asia  "
      ]
     },
     "execution_count": 13,
     "metadata": {},
     "output_type": "execute_result"
    }
   ],
   "source": [
    "address.head(2)"
   ]
  },
  {
   "cell_type": "markdown",
   "metadata": {},
   "source": [
    "### Getting the latitude and longitude from Nominatim"
   ]
  },
  {
   "cell_type": "code",
   "execution_count": 14,
   "metadata": {},
   "outputs": [],
   "source": [
    "def api_call(search_str):\n",
    "    \"\"\"\n",
    "    This function takes a search string and returns a location object obtained from the Nomnatim API.\n",
    "\n",
    "    Parameters:\n",
    "    search_str (str): The search string to be used in the API call.\n",
    "\n",
    "    Returns:\n",
    "    location (object): The location object returned from the API call. \n",
    "    \"\"\"\n",
    "    try:\n",
    "        location = geolocator.geocode(search_str)\n",
    "        return location\n",
    "    except:\n",
    "        return None\n",
    "\n",
    "\n",
    "\n",
    "def new_search_str(old_search_str, city_state_postal, location_street1, country):\n",
    "    \"\"\"\n",
    "    This function modifies the search string to be used in the API call. If the search string is None, it creates one from the \n",
    "    city_state_postal, location_street1, and country columns. If the search string is not None, it modifies the search string.\n",
    "\n",
    "    Parameters:\n",
    "    old_search_str (str): The search string to be modified.\n",
    "    city_state_postal (str): The city, state, and postal code of the company.\n",
    "    location_street1 (str): The street address of the company.\n",
    "    country (str): The country of the company.\n",
    "\n",
    "    Returns:\n",
    "    search_str (str): The modified search string.\n",
    "\n",
    "    \"\"\"\n",
    "\n",
    "    if old_search_str is None:\n",
    "\n",
    "        # we create a new search string\n",
    "\n",
    "        if country is None:\n",
    "            search_str = None\n",
    "        \n",
    "        else:\n",
    "            if (city_state_postal is None) & (location_street1 is None):\n",
    "                search_str = country\n",
    "            \n",
    "            if (city_state_postal is None) & (location_street1 is not None):\n",
    "                search_str = location_street1 + ', ' + country\n",
    "            \n",
    "            if (city_state_postal is not None) & (location_street1 is None):\n",
    "                search_str = city_state_postal + ', ' + country\n",
    "\n",
    "            if (city_state_postal is not None) & (location_street1 is not None):\n",
    "                search_str = location_street1 + ', ' +  city_state_postal + ', ' + country\n",
    "\n",
    "    else:\n",
    "\n",
    "        # If the old search string doesnt give proper results, we modify it\n",
    "        # we remove the first word from the search string and try again\n",
    "\n",
    "        search_str = old_search_str[old_search_str.find(\" \")+1:]\n",
    "\n",
    "    return search_str\n",
    "\n",
    "\n",
    "def get_location(row):\n",
    "    \"\"\"\n",
    "    This function takes a row from the address dataframe and returns a location object obtained from the Nomnatim API.\n",
    "\n",
    "    Parameters:\n",
    "    row (series): A row from the address dataframe.\n",
    "\n",
    "    Returns:\n",
    "    location (object): The location object returned from the API call. \n",
    "    \"\"\"\n",
    "    old_search_str = None\n",
    "    x = None \n",
    "\n",
    "    while x is None:\n",
    "\n",
    "        search_str = new_search_str(old_search_str, row['city_state_postal'], row['location_street1'], row['country'])\n",
    "        x = api_call(search_str)\n",
    "        \n",
    "        if x is None:\n",
    "            old_search_str = search_str\n",
    "            completed = 0\n",
    "            continue\n",
    "\n",
    "        if x is not None:\n",
    " \n",
    "            completed = 1\n",
    "            break\n",
    "\n",
    "        if search_str == old_search_str:\n",
    "            completed = 1\n",
    "            break\n",
    "\n",
    "    return completed, x"
   ]
  },
  {
   "cell_type": "code",
   "execution_count": 15,
   "metadata": {},
   "outputs": [],
   "source": [
    "address = pd.read_parquet('../data/processed/addresses1.parquet.gzip')"
   ]
  },
  {
   "cell_type": "code",
   "execution_count": null,
   "metadata": {},
   "outputs": [],
   "source": [
    "address_new = address.loc[(address['completed'] != 1)]\n",
    "\n",
    "for id, rows in address_new.iterrows():\n",
    "\n",
    "    print(id)\n",
    "\n",
    "    if rows['completed'] != 1:\n",
    "\n",
    "        get_location(rows)\n",
    "\n",
    "        old_search_str = None\n",
    "        x = None \n",
    "\n",
    "        while x is None:\n",
    "\n",
    "            search_str = new_search_str(old_search_str, rows['city_state_postal'], rows['location_street1'], rows['country'])\n",
    "            x = api_call(search_str)\n",
    "            \n",
    "            if x is None:\n",
    "                old_search_str = search_str\n",
    "                address.loc[id,'completed'] = 0\n",
    "                continue\n",
    "\n",
    "            if x is not None:\n",
    "                lat = x.latitude\n",
    "                log = x.longitude\n",
    "                address.loc[id,'lat'] = lat\n",
    "                address.loc[id,'log'] = log\n",
    "                address.loc[id,'completed'] = 1\n",
    "                break\n",
    "\n",
    "            if search_str == old_search_str:\n",
    "                address.loc[id,'completed'] = 1\n",
    "                break\n",
    "            # i = 1\n",
    "            # while i < len(rows['city_state_postal'].split(',')) :\n",
    "            #     search_str = ','.join(rows['city_state_postal'].split(',')[0:i])+\", \" + rows['country']\n",
    "            #     print(search_str)\n",
    "            #     x = geolocator.geocode(search_str)\n",
    "            #     if x is None:\n",
    "            #         i += 1\n",
    "            #         continue\n",
    "            #     if x is not None:\n",
    "            #         lat = x.latitude\n",
    "            #         log = x.longitude\n",
    "            #         address.loc[id,'lat'] = lat\n",
    "            #         address.loc[id,'log'] = log\n",
    "            #         address.loc[id,'completed'] = 1\n",
    "            #         break\n",
    "    \n",
    "    if id % 100 == 0:\n",
    "        address.to_parquet('../data/processed/addresses1.parquet.gzip', compression='gzip')\n",
    "        print('saved')"
   ]
  },
  {
   "cell_type": "code",
   "execution_count": 5,
   "metadata": {},
   "outputs": [
    {
     "data": {
      "text/html": [
       "<div>\n",
       "<style scoped>\n",
       "    .dataframe tbody tr th:only-of-type {\n",
       "        vertical-align: middle;\n",
       "    }\n",
       "\n",
       "    .dataframe tbody tr th {\n",
       "        vertical-align: top;\n",
       "    }\n",
       "\n",
       "    .dataframe thead th {\n",
       "        text-align: right;\n",
       "    }\n",
       "</style>\n",
       "<table border=\"1\" class=\"dataframe\">\n",
       "  <thead>\n",
       "    <tr style=\"text-align: right;\">\n",
       "      <th></th>\n",
       "      <th>id</th>\n",
       "      <th>name</th>\n",
       "      <th>city_state_postal</th>\n",
       "      <th>location_street1</th>\n",
       "      <th>completed</th>\n",
       "      <th>city</th>\n",
       "      <th>country</th>\n",
       "      <th>ISO-alpha3 Code</th>\n",
       "      <th>Continent</th>\n",
       "      <th>lat</th>\n",
       "      <th>log</th>\n",
       "    </tr>\n",
       "  </thead>\n",
       "  <tbody>\n",
       "    <tr>\n",
       "      <th>2149</th>\n",
       "      <td>170181</td>\n",
       "      <td>amaysim Australia Ltd.</td>\n",
       "      <td>Wollstonecraft, New South Wales (NSW) 2065</td>\n",
       "      <td>None</td>\n",
       "      <td>1.0</td>\n",
       "      <td>Wollstonecraft</td>\n",
       "      <td>Australia</td>\n",
       "      <td>AUS</td>\n",
       "      <td>Oceania</td>\n",
       "      <td>-33.833204</td>\n",
       "      <td>151.195927</td>\n",
       "    </tr>\n",
       "    <tr>\n",
       "      <th>4276</th>\n",
       "      <td>15108</td>\n",
       "      <td>WebMD Health Corp.</td>\n",
       "      <td>New York, NY</td>\n",
       "      <td>None</td>\n",
       "      <td>1.0</td>\n",
       "      <td>New York</td>\n",
       "      <td>United States of America</td>\n",
       "      <td>USA</td>\n",
       "      <td>North America</td>\n",
       "      <td>40.712728</td>\n",
       "      <td>-74.006015</td>\n",
       "    </tr>\n",
       "    <tr>\n",
       "      <th>4958</th>\n",
       "      <td>188189</td>\n",
       "      <td>Viggle Media, Inc.</td>\n",
       "      <td>New York, NY</td>\n",
       "      <td>None</td>\n",
       "      <td>1.0</td>\n",
       "      <td>New York</td>\n",
       "      <td>United States of America</td>\n",
       "      <td>USA</td>\n",
       "      <td>North America</td>\n",
       "      <td>40.712728</td>\n",
       "      <td>-74.006015</td>\n",
       "    </tr>\n",
       "    <tr>\n",
       "      <th>6634</th>\n",
       "      <td>10400</td>\n",
       "      <td>A.C.N. 004 410 833 Ltd.</td>\n",
       "      <td>Sydney, New South Wales (NSW) 2000</td>\n",
       "      <td>None</td>\n",
       "      <td>1.0</td>\n",
       "      <td>Sydney</td>\n",
       "      <td>Australia</td>\n",
       "      <td>AUS</td>\n",
       "      <td>Oceania</td>\n",
       "      <td>-33.869844</td>\n",
       "      <td>151.208285</td>\n",
       "    </tr>\n",
       "    <tr>\n",
       "      <th>6761</th>\n",
       "      <td>141488</td>\n",
       "      <td>Did Corp.</td>\n",
       "      <td>None</td>\n",
       "      <td>None</td>\n",
       "      <td>1.0</td>\n",
       "      <td>None</td>\n",
       "      <td>Republic of Korea</td>\n",
       "      <td>KOR</td>\n",
       "      <td>Asia</td>\n",
       "      <td>36.638392</td>\n",
       "      <td>127.696119</td>\n",
       "    </tr>\n",
       "    <tr>\n",
       "      <th>...</th>\n",
       "      <td>...</td>\n",
       "      <td>...</td>\n",
       "      <td>...</td>\n",
       "      <td>...</td>\n",
       "      <td>...</td>\n",
       "      <td>...</td>\n",
       "      <td>...</td>\n",
       "      <td>...</td>\n",
       "      <td>...</td>\n",
       "      <td>...</td>\n",
       "      <td>...</td>\n",
       "    </tr>\n",
       "    <tr>\n",
       "      <th>195912</th>\n",
       "      <td>298187</td>\n",
       "      <td>Mey-Ram Electricity Infrastrutures Ltd.</td>\n",
       "      <td>None</td>\n",
       "      <td>None</td>\n",
       "      <td>NaN</td>\n",
       "      <td>None</td>\n",
       "      <td>Israel</td>\n",
       "      <td>ISR</td>\n",
       "      <td>Asia</td>\n",
       "      <td>NaN</td>\n",
       "      <td>NaN</td>\n",
       "    </tr>\n",
       "    <tr>\n",
       "      <th>195916</th>\n",
       "      <td>307471</td>\n",
       "      <td>KTC ozora, Inc.</td>\n",
       "      <td>None</td>\n",
       "      <td>None</td>\n",
       "      <td>NaN</td>\n",
       "      <td>None</td>\n",
       "      <td>Japan</td>\n",
       "      <td>JPN</td>\n",
       "      <td>Asia</td>\n",
       "      <td>NaN</td>\n",
       "      <td>NaN</td>\n",
       "    </tr>\n",
       "    <tr>\n",
       "      <th>195920</th>\n",
       "      <td>371047</td>\n",
       "      <td>Zeneca Pharmaceuticals</td>\n",
       "      <td>Delaware</td>\n",
       "      <td>None</td>\n",
       "      <td>NaN</td>\n",
       "      <td>Delaware</td>\n",
       "      <td>United States of America</td>\n",
       "      <td>USA</td>\n",
       "      <td>North America</td>\n",
       "      <td>NaN</td>\n",
       "      <td>NaN</td>\n",
       "    </tr>\n",
       "    <tr>\n",
       "      <th>195923</th>\n",
       "      <td>310366</td>\n",
       "      <td>Texas Health Resources</td>\n",
       "      <td>None</td>\n",
       "      <td>None</td>\n",
       "      <td>NaN</td>\n",
       "      <td>None</td>\n",
       "      <td>None</td>\n",
       "      <td>None</td>\n",
       "      <td>None</td>\n",
       "      <td>NaN</td>\n",
       "      <td>NaN</td>\n",
       "    </tr>\n",
       "    <tr>\n",
       "      <th>195924</th>\n",
       "      <td>309529</td>\n",
       "      <td>J. Crew Group, Inc. /Private/</td>\n",
       "      <td>None</td>\n",
       "      <td>None</td>\n",
       "      <td>NaN</td>\n",
       "      <td>None</td>\n",
       "      <td>United States of America</td>\n",
       "      <td>USA</td>\n",
       "      <td>North America</td>\n",
       "      <td>NaN</td>\n",
       "      <td>NaN</td>\n",
       "    </tr>\n",
       "  </tbody>\n",
       "</table>\n",
       "<p>45476 rows × 11 columns</p>\n",
       "</div>"
      ],
      "text/plain": [
       "            id                                     name  \\\n",
       "2149    170181                   amaysim Australia Ltd.   \n",
       "4276     15108                       WebMD Health Corp.   \n",
       "4958    188189                       Viggle Media, Inc.   \n",
       "6634     10400                  A.C.N. 004 410 833 Ltd.   \n",
       "6761    141488                                Did Corp.   \n",
       "...        ...                                      ...   \n",
       "195912  298187  Mey-Ram Electricity Infrastrutures Ltd.   \n",
       "195916  307471                          KTC ozora, Inc.   \n",
       "195920  371047                   Zeneca Pharmaceuticals   \n",
       "195923  310366                   Texas Health Resources   \n",
       "195924  309529            J. Crew Group, Inc. /Private/   \n",
       "\n",
       "                                 city_state_postal location_street1  \\\n",
       "2149    Wollstonecraft, New South Wales (NSW) 2065             None   \n",
       "4276                                  New York, NY             None   \n",
       "4958                                  New York, NY             None   \n",
       "6634            Sydney, New South Wales (NSW) 2000             None   \n",
       "6761                                          None             None   \n",
       "...                                            ...              ...   \n",
       "195912                                        None             None   \n",
       "195916                                        None             None   \n",
       "195920                                    Delaware             None   \n",
       "195923                                        None             None   \n",
       "195924                                        None             None   \n",
       "\n",
       "        completed            city                   country ISO-alpha3 Code  \\\n",
       "2149          1.0  Wollstonecraft                 Australia             AUS   \n",
       "4276          1.0        New York  United States of America             USA   \n",
       "4958          1.0        New York  United States of America             USA   \n",
       "6634          1.0          Sydney                 Australia             AUS   \n",
       "6761          1.0            None         Republic of Korea             KOR   \n",
       "...           ...             ...                       ...             ...   \n",
       "195912        NaN            None                    Israel             ISR   \n",
       "195916        NaN            None                     Japan             JPN   \n",
       "195920        NaN        Delaware  United States of America             USA   \n",
       "195923        NaN            None                      None            None   \n",
       "195924        NaN            None  United States of America             USA   \n",
       "\n",
       "            Continent        lat         log  \n",
       "2149          Oceania -33.833204  151.195927  \n",
       "4276    North America  40.712728  -74.006015  \n",
       "4958    North America  40.712728  -74.006015  \n",
       "6634          Oceania -33.869844  151.208285  \n",
       "6761             Asia  36.638392  127.696119  \n",
       "...               ...        ...         ...  \n",
       "195912           Asia        NaN         NaN  \n",
       "195916           Asia        NaN         NaN  \n",
       "195920  North America        NaN         NaN  \n",
       "195923           None        NaN         NaN  \n",
       "195924  North America        NaN         NaN  \n",
       "\n",
       "[45476 rows x 11 columns]"
      ]
     },
     "execution_count": 5,
     "metadata": {},
     "output_type": "execute_result"
    }
   ],
   "source": [
    "address = pd.read_parquet('../data/processed/addresses1.parquet.gzip')\n",
    "address.loc[(address.location_street1.isnull())] "
   ]
  },
  {
   "cell_type": "code",
   "execution_count": null,
   "metadata": {},
   "outputs": [],
   "source": [
    "address = pd.read_parquet('../data/processed/addresses.parquet.gzip')\n",
    "address"
   ]
  },
  {
   "cell_type": "code",
   "execution_count": null,
   "metadata": {},
   "outputs": [],
   "source": [
    "address.to_parquet('../data/processed/addresses.parquet.gzip', compression='gzip')"
   ]
  },
  {
   "cell_type": "code",
   "execution_count": null,
   "metadata": {},
   "outputs": [],
   "source": [
    "address.country.isna().sum()"
   ]
  },
  {
   "cell_type": "code",
   "execution_count": null,
   "metadata": {},
   "outputs": [],
   "source": [
    "country_codes "
   ]
  },
  {
   "cell_type": "code",
   "execution_count": null,
   "metadata": {},
   "outputs": [],
   "source": []
  },
  {
   "cell_type": "code",
   "execution_count": null,
   "metadata": {},
   "outputs": [],
   "source": [
    "uni = address.groupby('city').agg(\n",
    "    unique_country = pd.NamedAgg('country',lambda x: x.unique().tolist())\n",
    ").reset_index()"
   ]
  },
  {
   "cell_type": "code",
   "execution_count": null,
   "metadata": {},
   "outputs": [],
   "source": [
    "mult = uni.loc[uni['unique_country'].apply(lambda x: len(x)) > 1]"
   ]
  },
  {
   "cell_type": "code",
   "execution_count": null,
   "metadata": {},
   "outputs": [],
   "source": [
    "mult_city = mult.explode('unique_country')"
   ]
  },
  {
   "cell_type": "code",
   "execution_count": null,
   "metadata": {},
   "outputs": [],
   "source": [
    "address = mult_city.merge(country_codes, left_on='unique_country', right_on='Alpha-3 code', how='left')"
   ]
  },
  {
   "cell_type": "code",
   "execution_count": null,
   "metadata": {},
   "outputs": [],
   "source": [
    "address.loc[(address['unique_country'] == 'NAM')&(address['city'] == 'Aachen'), 'Country'] = 'Germany'\n",
    "address.loc[(address['unique_country'] == 'NAM')&(address['city'] == 'Artarmon'), 'Country'] = 'Australia'\n",
    "address.loc[(address['unique_country'] == 'NAM')&(address['city'] == 'Ann Arbor'), 'Country'] = 'United States'\n",
    "address.loc[(address['unique_country'] == 'NAM')&(address['city'] == 'Bangalore'), 'Country'] = 'India'\n",
    "address.loc[(address['unique_country'] == 'NAM')&(address['city'] == 'Boulder'), 'Country'] = 'United States'\n",
    "address.loc[(address['unique_country'] == 'NAM')&(address['city'] == 'Cambridge'), 'Country'] = 'United Kingdom'\n",
    "address.loc[(address['unique_country'] == 'NAM')&(address['city'] == 'Lausanne'), 'Country'] = 'Switzerland'\n",
    "address.loc[(address['unique_country'] == 'NAM')&(address['city'] == 'Milwaukee'), 'Country'] = 'United States'\n",
    "address.loc[(address['unique_country'] == 'NAM')&(address['city'] == 'Munich'), 'Country'] = 'Germany'\n",
    "address.loc[(address['unique_country'] == 'NAM')&(address['city'] == 'New York'), 'Country'] = 'United States'\n",
    "address.loc[(address['unique_country'] == 'NAM')&(address['city'] == 'Norwich'), 'Country'] = 'United Kingdom'\n",
    "address.loc[(address['unique_country'] == 'NAM')&(address['city'] == 'Oberhaching'), 'Country'] = 'Germany'\n",
    "address.loc[(address['unique_country'] == 'NAM')&(address['city'] == 'Paris'), 'Country'] = 'France'\n",
    "address.loc[(address['unique_country'] == 'NAM')&(address['city'] == 'Philadelphia'), 'Country'] = 'United States'\n",
    "address.loc[(address['unique_country'] == 'NAM')&(address['city'] == 'Snoqualmie'), 'Country'] = 'United States'\n",
    "address.loc[(address['unique_country'] == 'NAM')&(address['city'] == 'Southborough'), 'Country'] = 'United States'\n",
    "address.loc[(address['unique_country'] == 'NAM')&(address['city'] == 'Stockholm 111 37'), 'Country'] = 'Sweden'\n",
    "address.loc[(address['unique_country'] == 'NAM')&(address['city'] == 'Towson'), 'Country'] = 'United States'\n",
    "address.loc[(address['unique_country'] == 'NAM')&(address['city'] == 'Waltham'), 'Country'] = 'United States'\n",
    "address.loc[(address['unique_country'] == 'NAM')&(address['city'] == 'Zurich 8002'), 'Country'] = 'Switzerland'"
   ]
  },
  {
   "cell_type": "code",
   "execution_count": null,
   "metadata": {},
   "outputs": [],
   "source": [
    "address"
   ]
  },
  {
   "cell_type": "code",
   "execution_count": null,
   "metadata": {},
   "outputs": [],
   "source": [
    "for id, row in address.iterrows():\n",
    "    print(id)\n",
    "    mask = (address['city'] == row['city'])&(address['country'] == row['unique_country'])\n",
    "\n",
    "    x = geolocator.geocode(row['city']+ \", \"+ row['Country'])\n",
    "    \n",
    "    if x is not None:\n",
    "\n",
    "        lat = x.latitude\n",
    "        log = x.longitude\n",
    "\n",
    "        address.loc[mask,'lat'] = lat\n",
    "        address.loc[mask,'log'] = log\n",
    "\n",
    "    if x is None:\n",
    "\n",
    "        address.loc[mask, 'lat'] = None\n",
    "        address.loc[mask, 'log'] = None\n",
    "    \n",
    "    if id % 100 == 0:\n",
    "        address.to_parquet('../data/processed/addresses.parquet.gzip', compression='gzip')\n",
    "        print('saved')\n",
    "    "
   ]
  },
  {
   "cell_type": "markdown",
   "metadata": {},
   "source": [
    "## Cocatenate"
   ]
  },
  {
   "cell_type": "code",
   "execution_count": 6,
   "metadata": {},
   "outputs": [],
   "source": [
    "import pandas as pd\n",
    "import numpy as np"
   ]
  },
  {
   "cell_type": "code",
   "execution_count": 7,
   "metadata": {},
   "outputs": [],
   "source": [
    "address1 = pd.read_parquet('../data/processed/addresses1.parquet.gzip')\n",
    "address2 = pd.read_parquet('../data/processed/addresses2.parquet.gzip')\n",
    "address3 = pd.read_parquet('../data/processed/addresses3.parquet.gzip')\n",
    "address4 = pd.read_parquet('../data/processed/addresses4.parquet.gzip')"
   ]
  },
  {
   "cell_type": "code",
   "execution_count": 8,
   "metadata": {},
   "outputs": [],
   "source": [
    "address1 = address1.loc[:49999]\n",
    "address2 = address2.loc[100001:149999]"
   ]
  },
  {
   "cell_type": "code",
   "execution_count": 9,
   "metadata": {},
   "outputs": [],
   "source": [
    "address = pd.concat([address1, address4, address2, address3])"
   ]
  },
  {
   "cell_type": "code",
   "execution_count": 10,
   "metadata": {},
   "outputs": [],
   "source": [
    "address.dropna(subset=['Continent'], inplace=True)"
   ]
  },
  {
   "cell_type": "code",
   "execution_count": 11,
   "metadata": {},
   "outputs": [],
   "source": [
    "address.to_csv('../data/processed/addresses.csv')"
   ]
  },
  {
   "cell_type": "code",
   "execution_count": 15,
   "metadata": {},
   "outputs": [
    {
     "data": {
      "text/plain": [
       "0"
      ]
     },
     "execution_count": 15,
     "metadata": {},
     "output_type": "execute_result"
    }
   ],
   "source": [
    "address.country.isna().sum()\n"
   ]
  },
  {
   "cell_type": "code",
   "execution_count": null,
   "metadata": {},
   "outputs": [],
   "source": []
  }
 ],
 "metadata": {
  "kernelspec": {
   "display_name": "thesis",
   "language": "python",
   "name": "python3"
  },
  "language_info": {
   "codemirror_mode": {
    "name": "ipython",
    "version": 3
   },
   "file_extension": ".py",
   "mimetype": "text/x-python",
   "name": "python",
   "nbconvert_exporter": "python",
   "pygments_lexer": "ipython3",
   "version": "3.11.0"
  },
  "orig_nbformat": 4
 },
 "nbformat": 4,
 "nbformat_minor": 2
}
