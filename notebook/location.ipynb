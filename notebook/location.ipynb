{
 "cells": [
  {
   "attachments": {},
   "cell_type": "markdown",
   "metadata": {},
   "source": [
    "# Google search try"
   ]
  },
  {
   "cell_type": "code",
   "execution_count": null,
   "metadata": {},
   "outputs": [],
   "source": [
    "from googlesearch import search\n",
    "import re\n",
    "import pandas as pd"
   ]
  },
  {
   "cell_type": "code",
   "execution_count": null,
   "metadata": {},
   "outputs": [],
   "source": [
    "companies = pd.read_csv('../data/processed/companies.csv')"
   ]
  },
  {
   "cell_type": "code",
   "execution_count": null,
   "metadata": {},
   "outputs": [],
   "source": [
    "companies = companies['name'].tolist()"
   ]
  },
  {
   "cell_type": "code",
   "execution_count": null,
   "metadata": {},
   "outputs": [],
   "source": [
    "# to search\n",
    "found = set()\n",
    "\n",
    "for idx,company in enumerate(companies):\n",
    "    for j in search(company, tld=\"com\"):\n",
    "        print(idx)\n",
    "        if re.search('wikipedia',j):\n",
    "            found.add(company)\n",
    "            break"
   ]
  },
  {
   "cell_type": "code",
   "execution_count": null,
   "metadata": {},
   "outputs": [],
   "source": [
    "search"
   ]
  },
  {
   "cell_type": "code",
   "execution_count": null,
   "metadata": {},
   "outputs": [],
   "source": [
    "import bs4 as bs\n",
    "import urllib\n",
    "\n",
    "comp = 'The Bank of East Asia Ltd'\n",
    "url = 'https://en.wikipedia.org/wiki/'\n",
    "print(urllib.parse.urlencode(comp))\n",
    "# source = urllib.request.urlopen(url).read()"
   ]
  },
  {
   "cell_type": "code",
   "execution_count": null,
   "metadata": {},
   "outputs": [],
   "source": [
    "soup = bs.BeautifulSoup(source,'html')"
   ]
  },
  {
   "cell_type": "code",
   "execution_count": null,
   "metadata": {},
   "outputs": [],
   "source": [
    "for tag in soup.find_all('td'):\n",
    "    if tag.get('class') == ['infobox-data', 'adr']:\n",
    "        print(tag.text)"
   ]
  },
  {
   "attachments": {},
   "cell_type": "markdown",
   "metadata": {},
   "source": [
    "# Nominatim"
   ]
  },
  {
   "cell_type": "code",
   "execution_count": 1,
   "metadata": {},
   "outputs": [],
   "source": [
    "from geopy.geocoders import Nominatim\n",
    "import pandas as pd \n",
    "import os\n",
    "import sys\n",
    "import ssl\n",
    "import numpy as np\n",
    "\n",
    "\n",
    "sys.path.append('../')"
   ]
  },
  {
   "cell_type": "code",
   "execution_count": 2,
   "metadata": {},
   "outputs": [],
   "source": [
    "ssl_context = ssl.create_default_context()\n",
    "ssl_context.check_hostname = False\n",
    "ssl_context.verify_mode = ssl.CERT_NONE"
   ]
  },
  {
   "cell_type": "code",
   "execution_count": 3,
   "metadata": {},
   "outputs": [],
   "source": [
    "geolocator = Nominatim(user_agent=\"my-application3\", ssl_context=ssl_context, timeout=None)"
   ]
  },
  {
   "cell_type": "code",
   "execution_count": 4,
   "metadata": {},
   "outputs": [
    {
     "data": {
      "text/plain": [
       "40.741059199999995"
      ]
     },
     "execution_count": 4,
     "metadata": {},
     "output_type": "execute_result"
    }
   ],
   "source": [
    "# Random test\n",
    "location = geolocator.geocode(\"175 5th Avenue NYC, United states\")\n",
    "location.latitude "
   ]
  },
  {
   "cell_type": "code",
   "execution_count": 5,
   "metadata": {},
   "outputs": [],
   "source": [
    "address = pd.read_parquet('../data/raw/addresses.parquet.gzip')\n",
    "country_codes  = pd.read_excel('../data/raw/Countries.xlsx')"
   ]
  },
  {
   "cell_type": "code",
   "execution_count": 6,
   "metadata": {},
   "outputs": [
    {
     "data": {
      "text/html": [
       "<div>\n",
       "<style scoped>\n",
       "    .dataframe tbody tr th:only-of-type {\n",
       "        vertical-align: middle;\n",
       "    }\n",
       "\n",
       "    .dataframe tbody tr th {\n",
       "        vertical-align: top;\n",
       "    }\n",
       "\n",
       "    .dataframe thead th {\n",
       "        text-align: right;\n",
       "    }\n",
       "</style>\n",
       "<table border=\"1\" class=\"dataframe\">\n",
       "  <thead>\n",
       "    <tr style=\"text-align: right;\">\n",
       "      <th></th>\n",
       "      <th>id</th>\n",
       "      <th>name</th>\n",
       "      <th>country</th>\n",
       "      <th>city_state_postal</th>\n",
       "      <th>location_street1</th>\n",
       "    </tr>\n",
       "  </thead>\n",
       "  <tbody>\n",
       "    <tr>\n",
       "      <th>0</th>\n",
       "      <td>50472</td>\n",
       "      <td>Infinity Pharmaceuticals, Inc.</td>\n",
       "      <td>USA</td>\n",
       "      <td>Cambridge, MA 02138</td>\n",
       "      <td>1100 Massachusetts Avenue</td>\n",
       "    </tr>\n",
       "    <tr>\n",
       "      <th>1</th>\n",
       "      <td>282940</td>\n",
       "      <td>Bozhon Precision Industry Technology Co., Ltd.</td>\n",
       "      <td>CHN</td>\n",
       "      <td>Suzhou, Jiangsu 215222</td>\n",
       "      <td>666 Huxin West Road</td>\n",
       "    </tr>\n",
       "    <tr>\n",
       "      <th>2</th>\n",
       "      <td>313953</td>\n",
       "      <td>Quaker Houghton</td>\n",
       "      <td>USA</td>\n",
       "      <td>Conshohocken, PA 19428-2380</td>\n",
       "      <td>One Quaker Park</td>\n",
       "    </tr>\n",
       "    <tr>\n",
       "      <th>3</th>\n",
       "      <td>1441</td>\n",
       "      <td>Kohl's Corp.</td>\n",
       "      <td>USA</td>\n",
       "      <td>Menomonee Falls, WI 53051</td>\n",
       "      <td>N56 West17000 Ridgewood Drive</td>\n",
       "    </tr>\n",
       "    <tr>\n",
       "      <th>4</th>\n",
       "      <td>135666</td>\n",
       "      <td>Sorrento Therapeutics, Inc.</td>\n",
       "      <td>USA</td>\n",
       "      <td>San Diego, CA 92121</td>\n",
       "      <td>4955 Directors Place</td>\n",
       "    </tr>\n",
       "  </tbody>\n",
       "</table>\n",
       "</div>"
      ],
      "text/plain": [
       "       id                                            name country  \\\n",
       "0   50472                  Infinity Pharmaceuticals, Inc.     USA   \n",
       "1  282940  Bozhon Precision Industry Technology Co., Ltd.     CHN   \n",
       "2  313953                                 Quaker Houghton     USA   \n",
       "3    1441                                    Kohl's Corp.     USA   \n",
       "4  135666                     Sorrento Therapeutics, Inc.     USA   \n",
       "\n",
       "             city_state_postal               location_street1  \n",
       "0          Cambridge, MA 02138      1100 Massachusetts Avenue  \n",
       "1       Suzhou, Jiangsu 215222            666 Huxin West Road  \n",
       "2  Conshohocken, PA 19428-2380                One Quaker Park  \n",
       "3    Menomonee Falls, WI 53051  N56 West17000 Ridgewood Drive  \n",
       "4          San Diego, CA 92121           4955 Directors Place  "
      ]
     },
     "execution_count": 6,
     "metadata": {},
     "output_type": "execute_result"
    }
   ],
   "source": [
    "address.head()"
   ]
  },
  {
   "cell_type": "code",
   "execution_count": 7,
   "metadata": {},
   "outputs": [],
   "source": [
    "address['completed'] = np.nan "
   ]
  },
  {
   "cell_type": "code",
   "execution_count": 8,
   "metadata": {},
   "outputs": [],
   "source": [
    "address['city'] = address['city_state_postal'].str.split(',').str[0]"
   ]
  },
  {
   "cell_type": "code",
   "execution_count": 9,
   "metadata": {},
   "outputs": [],
   "source": [
    "address.loc[(address['country'] == 'NAM')&(address['city'] == 'Aachen'), 'country'] = 'DEU'\n",
    "address.loc[(address['country'] == 'NAM')&(address['city'] == 'Artarmon'), 'country'] = 'AUS'\n",
    "address.loc[(address['country'] == 'NAM')&(address['city'] == 'Ann Arbor'), 'country'] = 'USA'\n",
    "address.loc[(address['country'] == 'NAM')&(address['city'] == 'Bangalore'), 'country'] = 'IND'\n",
    "address.loc[(address['country'] == 'NAM')&(address['city'] == 'Blindern'), 'country'] = 'NOR'\n",
    "address.loc[(address['country'] == 'NAM')&(address['city'] == 'Boulder'), 'country'] = 'USA'\n",
    "address.loc[(address['country'] == 'NAM')&(address['city'] == 'Cambridge'), 'country'] = 'GBR'\n",
    "address.loc[(address['country'] == 'NAM')&(address['city'] == 'Lausanne'), 'country'] = 'CHE'\n",
    "address.loc[(address['country'] == 'NAM')&(address['city'] == 'Milwaukee'), 'country'] = 'USA'\n",
    "address.loc[(address['country'] == 'NAM')&(address['city'] == 'Munich'), 'country'] = 'DEU'\n",
    "address.loc[(address['country'] == 'NAM')&(address['city'] == 'New York'), 'country'] = 'USA'\n",
    "address.loc[(address['country'] == 'NAM')&(address['city'] == 'Norwich'), 'country'] = 'GBR'\n",
    "address.loc[(address['country'] == 'NAM')&(address['city'] == 'Oberhaching'), 'country'] = 'DEU'\n",
    "address.loc[(address['country'] == 'NAM')&(address['city'] == 'Paris'), 'country'] = 'FRA'\n",
    "address.loc[(address['country'] == 'NAM')&(address['city'] == 'Philadelphia'), 'country'] = 'USA'\n",
    "address.loc[(address['country'] == 'NAM')&(address['city'] == 'Snoqualmie'), 'country'] = 'USA'\n",
    "address.loc[(address['country'] == 'NAM')&(address['city'] == 'Southborough'), 'country'] = 'USA'\n",
    "address.loc[(address['country'] == 'NAM')&(address['city'] == 'Stockholm 111 37'), 'country'] = 'SWE'\n",
    "address.loc[(address['country'] == 'NAM')&(address['city'] == 'Towson'), 'country'] = 'USA'\n",
    "address.loc[(address['country'] == 'NAM')&(address['city'] == 'Waltham'), 'country'] = 'USA'\n",
    "address.loc[(address['country'] == 'NAM')&(address['city'] == 'Zurich 8002'), 'country'] = 'CHE'\n",
    "\n",
    "# Adding the only other company with location_street1\n",
    "address.loc[(address['name'] == 'Fennoa Oy'), 'city'] = 'Alavus'\n",
    "address.loc[(address['name'] == 'Fennoa Oy'), 'country'] = 'FIN'\n",
    "address.loc[(address['name'] == 'Fennoa Oy'), 'city_state_postal'] = 'Alavus, 63300'\n",
    "address.loc[(address['name'] == 'Fennoa Oy'), 'location_street1'] = 'Mikko Kalliovaara Rinteentie 136'"
   ]
  },
  {
   "cell_type": "code",
   "execution_count": null,
   "metadata": {},
   "outputs": [],
   "source": [
    "address = address.merge(country_codes, how='left', left_on='country', right_on='Alpha-3 code')"
   ]
  },
  {
   "cell_type": "code",
   "execution_count": null,
   "metadata": {},
   "outputs": [],
   "source": [
    "address"
   ]
  },
  {
   "cell_type": "code",
   "execution_count": null,
   "metadata": {},
   "outputs": [],
   "source": [
    "address_new = address.loc[(address['completed'] != 1)&(address['country'] != 'NAM'))]\n",
    "\n",
    "for id, rows in address_new.iterrows():\n",
    "\n",
    "    print(id)\n",
    "\n",
    "    if rows['completed'] != 1:\n",
    "\n",
    "        if rows['city_state_postal'] is None:\n",
    "            continue\n",
    "\n",
    "        else:\n",
    "             \n",
    "            i = 0\n",
    "            while i < len(rows['city_state_postal'].split(',')) :\n",
    "                search_str = rows['city_state_postal'].split(',')[0:i].join(',') + rows['country']\n",
    "                x = geolocator.geocode(search_str)\n",
    "                if x is None:\n",
    "                    i += 1\n",
    "                    continue\n",
    "                if x is not None:\n",
    "                    lat = x.latitude\n",
    "                    log = x.longitude\n",
    "                    address.loc[id,'lat'] = lat\n",
    "                    address.loc[id,'log'] = log\n",
    "                    address.loc[id,'completed'] = 1\n",
    "                    break\n",
    "    \n",
    "    if id % 1000 == 0:\n",
    "        address.to_parquet('../data/processed/addresses.parquet.gzip', compression='gzip')\n",
    "        print('saved')"
   ]
  },
  {
   "cell_type": "code",
   "execution_count": null,
   "metadata": {},
   "outputs": [],
   "source": [
    "address = pd.read_parquet('../data/processed/addresses.parquet.gzip')"
   ]
  },
  {
   "cell_type": "code",
   "execution_count": null,
   "metadata": {},
   "outputs": [],
   "source": [
    "address.to_parquet('../data/processed/addresses.parquet.gzip', compression='gzip')"
   ]
  },
  {
   "cell_type": "code",
   "execution_count": null,
   "metadata": {},
   "outputs": [],
   "source": [
    "address.country.isna().sum()"
   ]
  },
  {
   "cell_type": "code",
   "execution_count": null,
   "metadata": {},
   "outputs": [],
   "source": [
    "country_codes "
   ]
  },
  {
   "cell_type": "code",
   "execution_count": null,
   "metadata": {},
   "outputs": [],
   "source": []
  },
  {
   "cell_type": "code",
   "execution_count": null,
   "metadata": {},
   "outputs": [],
   "source": [
    "uni = address.groupby('city').agg(\n",
    "    unique_country = pd.NamedAgg('country',lambda x: x.unique().tolist())\n",
    ").reset_index()"
   ]
  },
  {
   "cell_type": "code",
   "execution_count": null,
   "metadata": {},
   "outputs": [],
   "source": [
    "mult = uni.loc[uni['unique_country'].apply(lambda x: len(x)) > 1]"
   ]
  },
  {
   "cell_type": "code",
   "execution_count": null,
   "metadata": {},
   "outputs": [],
   "source": [
    "mult_city = mult.explode('unique_country')"
   ]
  },
  {
   "cell_type": "code",
   "execution_count": null,
   "metadata": {},
   "outputs": [],
   "source": [
    "address = mult_city.merge(country_codes, left_on='unique_country', right_on='Alpha-3 code', how='left')"
   ]
  },
  {
   "cell_type": "code",
   "execution_count": null,
   "metadata": {},
   "outputs": [],
   "source": [
    "address.loc[(address['unique_country'] == 'NAM')&(address['city'] == 'Aachen'), 'Country'] = 'Germany'\n",
    "address.loc[(address['unique_country'] == 'NAM')&(address['city'] == 'Artarmon'), 'Country'] = 'Australia'\n",
    "address.loc[(address['unique_country'] == 'NAM')&(address['city'] == 'Ann Arbor'), 'Country'] = 'United States'\n",
    "address.loc[(address['unique_country'] == 'NAM')&(address['city'] == 'Bangalore'), 'Country'] = 'India'\n",
    "address.loc[(address['unique_country'] == 'NAM')&(address['city'] == 'Boulder'), 'Country'] = 'United States'\n",
    "address.loc[(address['unique_country'] == 'NAM')&(address['city'] == 'Cambridge'), 'Country'] = 'United Kingdom'\n",
    "address.loc[(address['unique_country'] == 'NAM')&(address['city'] == 'Lausanne'), 'Country'] = 'Switzerland'\n",
    "address.loc[(address['unique_country'] == 'NAM')&(address['city'] == 'Milwaukee'), 'Country'] = 'United States'\n",
    "address.loc[(address['unique_country'] == 'NAM')&(address['city'] == 'Munich'), 'Country'] = 'Germany'\n",
    "address.loc[(address['unique_country'] == 'NAM')&(address['city'] == 'New York'), 'Country'] = 'United States'\n",
    "address.loc[(address['unique_country'] == 'NAM')&(address['city'] == 'Norwich'), 'Country'] = 'United Kingdom'\n",
    "address.loc[(address['unique_country'] == 'NAM')&(address['city'] == 'Oberhaching'), 'Country'] = 'Germany'\n",
    "address.loc[(address['unique_country'] == 'NAM')&(address['city'] == 'Paris'), 'Country'] = 'France'\n",
    "address.loc[(address['unique_country'] == 'NAM')&(address['city'] == 'Philadelphia'), 'Country'] = 'United States'\n",
    "address.loc[(address['unique_country'] == 'NAM')&(address['city'] == 'Snoqualmie'), 'Country'] = 'United States'\n",
    "address.loc[(address['unique_country'] == 'NAM')&(address['city'] == 'Southborough'), 'Country'] = 'United States'\n",
    "address.loc[(address['unique_country'] == 'NAM')&(address['city'] == 'Stockholm 111 37'), 'Country'] = 'Sweden'\n",
    "address.loc[(address['unique_country'] == 'NAM')&(address['city'] == 'Towson'), 'Country'] = 'United States'\n",
    "address.loc[(address['unique_country'] == 'NAM')&(address['city'] == 'Waltham'), 'Country'] = 'United States'\n",
    "address.loc[(address['unique_country'] == 'NAM')&(address['city'] == 'Zurich 8002'), 'Country'] = 'Switzerland'"
   ]
  },
  {
   "cell_type": "code",
   "execution_count": null,
   "metadata": {},
   "outputs": [],
   "source": [
    "address"
   ]
  },
  {
   "cell_type": "code",
   "execution_count": null,
   "metadata": {},
   "outputs": [],
   "source": [
    "for id, row in address.iterrows():\n",
    "    print(id)\n",
    "    mask = (address['city'] == row['city'])&(address['country'] == row['unique_country'])\n",
    "\n",
    "    x = geolocator.geocode(row['city']+ \", \"+ row['Country'])\n",
    "    \n",
    "    if x is not None:\n",
    "\n",
    "        lat = x.latitude\n",
    "        log = x.longitude\n",
    "\n",
    "        address.loc[mask,'lat'] = lat\n",
    "        address.loc[mask,'log'] = log\n",
    "\n",
    "    if x is None:\n",
    "\n",
    "        address.loc[mask, 'lat'] = None\n",
    "        address.loc[mask, 'log'] = None\n",
    "    \n",
    "    if id % 100 == 0:\n",
    "        address.to_parquet('../data/processed/addresses.parquet.gzip', compression='gzip')\n",
    "        print('saved')\n",
    "    "
   ]
  },
  {
   "cell_type": "code",
   "execution_count": null,
   "metadata": {},
   "outputs": [],
   "source": [
    "address.to_csv('../data/processed/addresses.csv')"
   ]
  },
  {
   "cell_type": "code",
   "execution_count": null,
   "metadata": {},
   "outputs": [],
   "source": []
  }
 ],
 "metadata": {
  "kernelspec": {
   "display_name": "thesis",
   "language": "python",
   "name": "python3"
  },
  "language_info": {
   "codemirror_mode": {
    "name": "ipython",
    "version": 3
   },
   "file_extension": ".py",
   "mimetype": "text/x-python",
   "name": "python",
   "nbconvert_exporter": "python",
   "pygments_lexer": "ipython3",
   "version": "3.11.0"
  },
  "orig_nbformat": 4
 },
 "nbformat": 4,
 "nbformat_minor": 2
}
