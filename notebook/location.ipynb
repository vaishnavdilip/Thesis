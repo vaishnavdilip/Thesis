{
 "cells": [
  {
   "attachments": {},
   "cell_type": "markdown",
   "metadata": {},
   "source": [
    "# Google search try"
   ]
  },
  {
   "cell_type": "code",
   "execution_count": null,
   "metadata": {},
   "outputs": [],
   "source": [
    "from googlesearch import search\n",
    "import re\n",
    "import pandas as pd"
   ]
  },
  {
   "cell_type": "code",
   "execution_count": null,
   "metadata": {},
   "outputs": [],
   "source": [
    "companies = pd.read_csv('../data/processed/companies.csv')"
   ]
  },
  {
   "cell_type": "code",
   "execution_count": null,
   "metadata": {},
   "outputs": [],
   "source": [
    "companies = companies['name'].tolist()"
   ]
  },
  {
   "cell_type": "code",
   "execution_count": null,
   "metadata": {},
   "outputs": [],
   "source": [
    "# to search\n",
    "found = set()\n",
    "\n",
    "for idx,company in enumerate(companies):\n",
    "    for j in search(company, tld=\"com\"):\n",
    "        print(idx)\n",
    "        if re.search('wikipedia',j):\n",
    "            found.add(company)\n",
    "            break"
   ]
  },
  {
   "cell_type": "code",
   "execution_count": null,
   "metadata": {},
   "outputs": [],
   "source": [
    "search"
   ]
  },
  {
   "cell_type": "code",
   "execution_count": null,
   "metadata": {},
   "outputs": [],
   "source": [
    "import bs4 as bs\n",
    "import urllib\n",
    "\n",
    "comp = 'The Bank of East Asia Ltd'\n",
    "url = 'https://en.wikipedia.org/wiki/'\n",
    "print(urllib.parse.urlencode(comp))\n",
    "# source = urllib.request.urlopen(url).read()"
   ]
  },
  {
   "cell_type": "code",
   "execution_count": null,
   "metadata": {},
   "outputs": [],
   "source": [
    "soup = bs.BeautifulSoup(source,'html')"
   ]
  },
  {
   "cell_type": "code",
   "execution_count": null,
   "metadata": {},
   "outputs": [],
   "source": [
    "for tag in soup.find_all('td'):\n",
    "    if tag.get('class') == ['infobox-data', 'adr']:\n",
    "        print(tag.text)"
   ]
  },
  {
   "attachments": {},
   "cell_type": "markdown",
   "metadata": {},
   "source": [
    "# Nominatim"
   ]
  },
  {
   "cell_type": "code",
   "execution_count": null,
   "metadata": {},
   "outputs": [],
   "source": [
    "from geopy.geocoders import Nominatim\n",
    "import pandas as pd \n",
    "import os\n",
    "import sys\n",
    "import ssl\n",
    "import numpy as np\n",
    "\n",
    "\n",
    "sys.path.append('../')"
   ]
  },
  {
   "cell_type": "code",
   "execution_count": null,
   "metadata": {},
   "outputs": [],
   "source": [
    "ssl_context = ssl.create_default_context()\n",
    "ssl_context.check_hostname = False\n",
    "ssl_context.verify_mode = ssl.CERT_NONE"
   ]
  },
  {
   "cell_type": "code",
   "execution_count": null,
   "metadata": {},
   "outputs": [],
   "source": [
    "geolocator = Nominatim(user_agent=\"my-application3\", ssl_context=ssl_context, timeout=None)"
   ]
  },
  {
   "cell_type": "code",
   "execution_count": null,
   "metadata": {},
   "outputs": [],
   "source": [
    "# Random test\n",
    "location = geolocator.geocode(\"175 5th Avenue NYC, United states\")\n",
    "location.latitude "
   ]
  },
  {
   "cell_type": "code",
   "execution_count": null,
   "metadata": {},
   "outputs": [],
   "source": [
    "address = pd.read_parquet('../data/raw/addresses.parquet.gzip')\n",
    "country_codes  = pd.read_excel('../data/raw/Countries.xlsx')"
   ]
  },
  {
   "cell_type": "code",
   "execution_count": null,
   "metadata": {},
   "outputs": [],
   "source": [
    "address['completed'] = np.nan "
   ]
  },
  {
   "cell_type": "code",
   "execution_count": null,
   "metadata": {},
   "outputs": [],
   "source": [
    "address['city'] = address['city_state_postal'].str.split(',').str[0]"
   ]
  },
  {
   "cell_type": "code",
   "execution_count": null,
   "metadata": {},
   "outputs": [],
   "source": [
    "address.loc[(address['country'] == 'NAM')&(address['city'] == 'Aachen'), 'country'] = 'DEU'\n",
    "address.loc[(address['country'] == 'NAM')&(address['city'] == 'Artarmon'), 'country'] = 'AUS'\n",
    "address.loc[(address['country'] == 'NAM')&(address['city'] == 'Ann Arbor'), 'country'] = 'USA'\n",
    "address.loc[(address['country'] == 'NAM')&(address['city'] == 'Bangalore'), 'country'] = 'IND'\n",
    "address.loc[(address['country'] == 'NAM')&(address['city'] == 'Blindern'), 'country'] = 'NOR'\n",
    "address.loc[(address['country'] == 'NAM')&(address['city'] == 'Boulder'), 'country'] = 'USA'\n",
    "address.loc[(address['country'] == 'NAM')&(address['city'] == 'Cambridge'), 'country'] = 'GBR'\n",
    "address.loc[(address['country'] == 'NAM')&(address['city'] == 'Lausanne'), 'country'] = 'CHE'\n",
    "address.loc[(address['country'] == 'NAM')&(address['city'] == 'Milwaukee'), 'country'] = 'USA'\n",
    "address.loc[(address['country'] == 'NAM')&(address['city'] == 'Munich'), 'country'] = 'DEU'\n",
    "address.loc[(address['country'] == 'NAM')&(address['city'] == 'New York'), 'country'] = 'USA'\n",
    "address.loc[(address['country'] == 'NAM')&(address['city'] == 'Norwich'), 'country'] = 'GBR'\n",
    "address.loc[(address['country'] == 'NAM')&(address['city'] == 'Oberhaching'), 'country'] = 'DEU'\n",
    "address.loc[(address['country'] == 'NAM')&(address['city'] == 'Paris'), 'country'] = 'FRA'\n",
    "address.loc[(address['country'] == 'NAM')&(address['city'] == 'Philadelphia'), 'country'] = 'USA'\n",
    "address.loc[(address['country'] == 'NAM')&(address['city'] == 'Snoqualmie'), 'country'] = 'USA'\n",
    "address.loc[(address['country'] == 'NAM')&(address['city'] == 'Southborough'), 'country'] = 'USA'\n",
    "address.loc[(address['country'] == 'NAM')&(address['city'] == 'Stockholm 111 37'), 'country'] = 'SWE'\n",
    "address.loc[(address['country'] == 'NAM')&(address['city'] == 'Towson'), 'country'] = 'USA'\n",
    "address.loc[(address['country'] == 'NAM')&(address['city'] == 'Waltham'), 'country'] = 'USA'\n",
    "address.loc[(address['country'] == 'NAM')&(address['city'] == 'Zurich 8002'), 'country'] = 'CHE'\n",
    "\n",
    "# Adding the only other company with location_street1\n",
    "address.loc[(address['name'] == 'Fennoa Oy'), 'city'] = 'Alavus'\n",
    "address.loc[(address['name'] == 'Fennoa Oy'), 'country'] = 'FIN'\n",
    "address.loc[(address['name'] == 'Fennoa Oy'), 'city_state_postal'] = 'Alavus, 63300'\n",
    "address.loc[(address['name'] == 'Fennoa Oy'), 'location_street1'] = 'Mikko Kalliovaara Rinteentie 136'"
   ]
  },
  {
   "cell_type": "code",
   "execution_count": null,
   "metadata": {},
   "outputs": [],
   "source": [
    "address.loc[(address.country == 'NAM'), 'country'] = None"
   ]
  },
  {
   "cell_type": "code",
   "execution_count": null,
   "metadata": {},
   "outputs": [],
   "source": [
    "address = address.merge(country_codes, how='left', left_on='country', right_on='ISO-alpha3 Code')"
   ]
  },
  {
   "cell_type": "code",
   "execution_count": null,
   "metadata": {},
   "outputs": [],
   "source": [
    "# Have to take care of this when finding the location\n",
    "# address.loc[(~address['location_street1'].isnull())&(address.city_state_postal.isnull())] "
   ]
  },
  {
   "cell_type": "code",
   "execution_count": null,
   "metadata": {},
   "outputs": [],
   "source": [
    "address.drop(columns=['No','M49 Code','Region 1', 'Region 2', 'country'], inplace=True)\n",
    "address.rename(columns={'Country or Area':'country'}, inplace=True)"
   ]
  },
  {
   "cell_type": "code",
   "execution_count": null,
   "metadata": {},
   "outputs": [],
   "source": [
    "address.head(2)"
   ]
  },
  {
   "cell_type": "markdown",
   "metadata": {},
   "source": [
    "### Getting the latitude and longitude from Nominatim"
   ]
  },
  {
   "cell_type": "code",
   "execution_count": null,
   "metadata": {},
   "outputs": [],
   "source": [
    "def api_call(search_str):\n",
    "    \"\"\"\n",
    "    This function takes a search string and returns a location object obtained from the Nomnatim API.\n",
    "\n",
    "    Parameters:\n",
    "    search_str (str): The search string to be used in the API call.\n",
    "\n",
    "    Returns:\n",
    "    location (object): The location object returned from the API call. \n",
    "    \"\"\"\n",
    "    try:\n",
    "        location = geolocator.geocode(search_str)\n",
    "        return location\n",
    "    except:\n",
    "        return None\n",
    "\n",
    "\n",
    "\n",
    "def new_search_str(old_search_str, city_state_postal, location_street1, country):\n",
    "    \"\"\"\n",
    "    This function modifies the search string to be used in the API call. If the search string is None, it creates one from the \n",
    "    city_state_postal, location_street1, and country columns. If the search string is not None, it modifies the search string.\n",
    "\n",
    "    Parameters:\n",
    "    old_search_str (str): The search string to be modified.\n",
    "    city_state_postal (str): The city, state, and postal code of the company.\n",
    "    location_street1 (str): The street address of the company.\n",
    "    country (str): The country of the company.\n",
    "\n",
    "    Returns:\n",
    "    search_str (str): The modified search string.\n",
    "\n",
    "    \"\"\"\n",
    "\n",
    "    if old_search_str is None:\n",
    "\n",
    "        # we create a new search string\n",
    "\n",
    "        if country is None:\n",
    "            search_str = None\n",
    "        \n",
    "        else:\n",
    "            if (city_state_postal is None) & (location_street1 is None):\n",
    "                search_str = country\n",
    "            \n",
    "            if (city_state_postal is None) & (location_street1 is not None):\n",
    "                search_str = location_street1 + ', ' + country\n",
    "            \n",
    "            if (city_state_postal is not None) & (location_street1 is None):\n",
    "                search_str = city_state_postal + ', ' + country\n",
    "\n",
    "            if (city_state_postal is not None) & (location_street1 is not None):\n",
    "                search_str = location_street1 + ', ' +  city_state_postal + ', ' + country\n",
    "\n",
    "    else:\n",
    "\n",
    "        # If the old search string doesnt give proper results, we modify it\n",
    "        # we remove the first word from the search string and try again\n",
    "\n",
    "        search_str = old_search_str[old_search_str.find(\" \")+1:]\n",
    "\n",
    "    return search_str\n",
    "\n",
    "\n",
    "def get_location(row):\n",
    "    \"\"\"\n",
    "    This function takes a row from the address dataframe and returns a location object obtained from the Nomnatim API.\n",
    "\n",
    "    Parameters:\n",
    "    row (series): A row from the address dataframe.\n",
    "\n",
    "    Returns:\n",
    "    location (object): The location object returned from the API call. \n",
    "    \"\"\"\n",
    "    old_search_str = None\n",
    "    x = None \n",
    "\n",
    "    while x is None:\n",
    "\n",
    "        search_str = new_search_str(old_search_str, rows['city_state_postal'], rows['location_street1'], rows['country'])\n",
    "        x = api_call(search_str)\n",
    "        \n",
    "        if x is None:\n",
    "            old_search_str = search_str\n",
    "            completed = 0\n",
    "            continue\n",
    "\n",
    "        if x is not None:\n",
    " \n",
    "            completed = 1\n",
    "            break\n",
    "\n",
    "        if search_str == old_search_str:\n",
    "            completed = 1\n",
    "            break\n",
    "\n",
    "    return completed, x"
   ]
  },
  {
   "cell_type": "code",
   "execution_count": null,
   "metadata": {},
   "outputs": [],
   "source": [
    "address = pd.read_parquet('../data/processed/addresses1.parquet.gzip')"
   ]
  },
  {
   "cell_type": "code",
   "execution_count": null,
   "metadata": {},
   "outputs": [],
   "source": [
    "address_new = address.loc[(address['completed'] != 1)]\n",
    "\n",
    "for id, rows in address_new.iterrows():\n",
    "\n",
    "    print(id)\n",
    "\n",
    "    if rows['completed'] != 1:\n",
    "\n",
    "        old_search_str = None\n",
    "        x = None \n",
    "\n",
    "        while x is None:\n",
    "\n",
    "            search_str = new_search_str(old_search_str, rows['city_state_postal'], rows['location_street1'], rows['country'])\n",
    "            x = api_call(search_str)\n",
    "            \n",
    "            if x is None:\n",
    "                old_search_str = search_str\n",
    "                address.loc[id,'completed'] = 0\n",
    "                continue\n",
    "\n",
    "            if x is not None:\n",
    "                lat = x.latitude\n",
    "                log = x.longitude\n",
    "                address.loc[id,'lat'] = lat\n",
    "                address.loc[id,'log'] = log\n",
    "                address.loc[id,'completed'] = 1\n",
    "                break\n",
    "\n",
    "            if search_str == old_search_str:\n",
    "                address.loc[id,'completed'] = 1\n",
    "                break\n",
    "            # i = 1\n",
    "            # while i < len(rows['city_state_postal'].split(',')) :\n",
    "            #     search_str = ','.join(rows['city_state_postal'].split(',')[0:i])+\", \" + rows['country']\n",
    "            #     print(search_str)\n",
    "            #     x = geolocator.geocode(search_str)\n",
    "            #     if x is None:\n",
    "            #         i += 1\n",
    "            #         continue\n",
    "            #     if x is not None:\n",
    "            #         lat = x.latitude\n",
    "            #         log = x.longitude\n",
    "            #         address.loc[id,'lat'] = lat\n",
    "            #         address.loc[id,'log'] = log\n",
    "            #         address.loc[id,'completed'] = 1\n",
    "            #         break\n",
    "    \n",
    "    if id % 100 == 0:\n",
    "        address.to_parquet('../data/processed/addresses1.parquet.gzip', compression='gzip')\n",
    "        print('saved')"
   ]
  },
  {
   "cell_type": "code",
   "execution_count": null,
   "metadata": {},
   "outputs": [],
   "source": [
    "address = pd.read_parquet('../data/processed/addresses1.parquet.gzip')\n",
    "address.loc[(address.location_street1.isnull())] "
   ]
  },
  {
   "cell_type": "code",
   "execution_count": null,
   "metadata": {},
   "outputs": [],
   "source": [
    "address = pd.read_parquet('../data/processed/addresses.parquet.gzip')\n",
    "address"
   ]
  },
  {
   "cell_type": "code",
   "execution_count": null,
   "metadata": {},
   "outputs": [],
   "source": [
    "address.to_parquet('../data/processed/addresses.parquet.gzip', compression='gzip')"
   ]
  },
  {
   "cell_type": "code",
   "execution_count": null,
   "metadata": {},
   "outputs": [],
   "source": [
    "address.country.isna().sum()"
   ]
  },
  {
   "cell_type": "code",
   "execution_count": null,
   "metadata": {},
   "outputs": [],
   "source": [
    "country_codes "
   ]
  },
  {
   "cell_type": "code",
   "execution_count": null,
   "metadata": {},
   "outputs": [],
   "source": []
  },
  {
   "cell_type": "code",
   "execution_count": null,
   "metadata": {},
   "outputs": [],
   "source": [
    "uni = address.groupby('city').agg(\n",
    "    unique_country = pd.NamedAgg('country',lambda x: x.unique().tolist())\n",
    ").reset_index()"
   ]
  },
  {
   "cell_type": "code",
   "execution_count": null,
   "metadata": {},
   "outputs": [],
   "source": [
    "mult = uni.loc[uni['unique_country'].apply(lambda x: len(x)) > 1]"
   ]
  },
  {
   "cell_type": "code",
   "execution_count": null,
   "metadata": {},
   "outputs": [],
   "source": [
    "mult_city = mult.explode('unique_country')"
   ]
  },
  {
   "cell_type": "code",
   "execution_count": null,
   "metadata": {},
   "outputs": [],
   "source": [
    "address = mult_city.merge(country_codes, left_on='unique_country', right_on='Alpha-3 code', how='left')"
   ]
  },
  {
   "cell_type": "code",
   "execution_count": null,
   "metadata": {},
   "outputs": [],
   "source": [
    "address.loc[(address['unique_country'] == 'NAM')&(address['city'] == 'Aachen'), 'Country'] = 'Germany'\n",
    "address.loc[(address['unique_country'] == 'NAM')&(address['city'] == 'Artarmon'), 'Country'] = 'Australia'\n",
    "address.loc[(address['unique_country'] == 'NAM')&(address['city'] == 'Ann Arbor'), 'Country'] = 'United States'\n",
    "address.loc[(address['unique_country'] == 'NAM')&(address['city'] == 'Bangalore'), 'Country'] = 'India'\n",
    "address.loc[(address['unique_country'] == 'NAM')&(address['city'] == 'Boulder'), 'Country'] = 'United States'\n",
    "address.loc[(address['unique_country'] == 'NAM')&(address['city'] == 'Cambridge'), 'Country'] = 'United Kingdom'\n",
    "address.loc[(address['unique_country'] == 'NAM')&(address['city'] == 'Lausanne'), 'Country'] = 'Switzerland'\n",
    "address.loc[(address['unique_country'] == 'NAM')&(address['city'] == 'Milwaukee'), 'Country'] = 'United States'\n",
    "address.loc[(address['unique_country'] == 'NAM')&(address['city'] == 'Munich'), 'Country'] = 'Germany'\n",
    "address.loc[(address['unique_country'] == 'NAM')&(address['city'] == 'New York'), 'Country'] = 'United States'\n",
    "address.loc[(address['unique_country'] == 'NAM')&(address['city'] == 'Norwich'), 'Country'] = 'United Kingdom'\n",
    "address.loc[(address['unique_country'] == 'NAM')&(address['city'] == 'Oberhaching'), 'Country'] = 'Germany'\n",
    "address.loc[(address['unique_country'] == 'NAM')&(address['city'] == 'Paris'), 'Country'] = 'France'\n",
    "address.loc[(address['unique_country'] == 'NAM')&(address['city'] == 'Philadelphia'), 'Country'] = 'United States'\n",
    "address.loc[(address['unique_country'] == 'NAM')&(address['city'] == 'Snoqualmie'), 'Country'] = 'United States'\n",
    "address.loc[(address['unique_country'] == 'NAM')&(address['city'] == 'Southborough'), 'Country'] = 'United States'\n",
    "address.loc[(address['unique_country'] == 'NAM')&(address['city'] == 'Stockholm 111 37'), 'Country'] = 'Sweden'\n",
    "address.loc[(address['unique_country'] == 'NAM')&(address['city'] == 'Towson'), 'Country'] = 'United States'\n",
    "address.loc[(address['unique_country'] == 'NAM')&(address['city'] == 'Waltham'), 'Country'] = 'United States'\n",
    "address.loc[(address['unique_country'] == 'NAM')&(address['city'] == 'Zurich 8002'), 'Country'] = 'Switzerland'"
   ]
  },
  {
   "cell_type": "code",
   "execution_count": null,
   "metadata": {},
   "outputs": [],
   "source": [
    "address"
   ]
  },
  {
   "cell_type": "code",
   "execution_count": null,
   "metadata": {},
   "outputs": [],
   "source": [
    "for id, row in address.iterrows():\n",
    "    print(id)\n",
    "    mask = (address['city'] == row['city'])&(address['country'] == row['unique_country'])\n",
    "\n",
    "    x = geolocator.geocode(row['city']+ \", \"+ row['Country'])\n",
    "    \n",
    "    if x is not None:\n",
    "\n",
    "        lat = x.latitude\n",
    "        log = x.longitude\n",
    "\n",
    "        address.loc[mask,'lat'] = lat\n",
    "        address.loc[mask,'log'] = log\n",
    "\n",
    "    if x is None:\n",
    "\n",
    "        address.loc[mask, 'lat'] = None\n",
    "        address.loc[mask, 'log'] = None\n",
    "    \n",
    "    if id % 100 == 0:\n",
    "        address.to_parquet('../data/processed/addresses.parquet.gzip', compression='gzip')\n",
    "        print('saved')\n",
    "    "
   ]
  },
  {
   "cell_type": "code",
   "execution_count": null,
   "metadata": {},
   "outputs": [],
   "source": [
    "address.to_csv('../data/processed/addresses.csv')"
   ]
  },
  {
   "cell_type": "code",
   "execution_count": null,
   "metadata": {},
   "outputs": [],
   "source": []
  },
  {
   "cell_type": "code",
   "execution_count": null,
   "metadata": {},
   "outputs": [],
   "source": []
  }
 ],
 "metadata": {
  "kernelspec": {
   "display_name": "thesis",
   "language": "python",
   "name": "python3"
  },
  "language_info": {
   "codemirror_mode": {
    "name": "ipython",
    "version": 3
   },
   "file_extension": ".py",
   "mimetype": "text/x-python",
   "name": "python",
   "nbconvert_exporter": "python",
   "pygments_lexer": "ipython3",
   "version": "3.11.0"
  },
  "orig_nbformat": 4
 },
 "nbformat": 4,
 "nbformat_minor": 2
}
