{
 "cells": [
  {
   "cell_type": "code",
   "execution_count": 1,
   "metadata": {},
   "outputs": [],
   "source": [
    "import sys\n",
    "sys.path.append('../')\n",
    "from utils import Graph"
   ]
  },
  {
   "cell_type": "code",
   "execution_count": 2,
   "metadata": {},
   "outputs": [],
   "source": [
    "graph = Graph(\"bolt://localhost:7687\",\"neo4j\", \"neo4jneo4j\")"
   ]
  },
  {
   "attachments": {},
   "cell_type": "markdown",
   "metadata": {},
   "source": [
    "## Creating in-memory graphs"
   ]
  },
  {
   "cell_type": "code",
   "execution_count": 22,
   "metadata": {},
   "outputs": [
    {
     "name": "stdout",
     "output_type": "stream",
     "text": [
      "[{'graphName': 'myGraph1'}]\n",
      "[{'graphName': 'myGraph2'}]\n",
      "[{'graphName': 'myGraph3'}]\n",
      "[{'graphName': 'myGraph4'}]\n",
      "[{'graphName': 'myGraph5'}]\n",
      "[{'graphName': 'myGraph6'}]\n"
     ]
    },
    {
     "ename": "ClientError",
     "evalue": "{code: Neo.ClientError.Procedure.ProcedureCallFailed} {message: Failed to invoke procedure `gds.graph.drop`: Caused by: java.util.NoSuchElementException: Graph with name `myGraph7` does not exist on database `neo4j`. It might exist on another database.}",
     "output_type": "error",
     "traceback": [
      "\u001b[1;31m---------------------------------------------------------------------------\u001b[0m",
      "\u001b[1;31mClientError\u001b[0m                               Traceback (most recent call last)",
      "Cell \u001b[1;32mIn[22], line 35\u001b[0m\n\u001b[0;32m     33\u001b[0m graph\u001b[39m.\u001b[39mquery_run(query5,{})\n\u001b[0;32m     34\u001b[0m graph\u001b[39m.\u001b[39mquery_run(query6,{})\n\u001b[1;32m---> 35\u001b[0m graph\u001b[39m.\u001b[39;49mquery_run(query7,{})\n",
      "File \u001b[1;32mc:\\Users\\nikte\\OneDrive - KU Leuven\\Thesis_code\\notebook\\..\\utils\\graph.py:40\u001b[0m, in \u001b[0;36mGraph.query_run\u001b[1;34m(self, query, parameters)\u001b[0m\n\u001b[0;32m     30\u001b[0m \u001b[39m\u001b[39m\u001b[39m\"\"\"This is the function used to run queries.\u001b[39;00m\n\u001b[0;32m     31\u001b[0m \n\u001b[0;32m     32\u001b[0m \u001b[39mArgs:\u001b[39;00m\n\u001b[1;32m   (...)\u001b[0m\n\u001b[0;32m     37\u001b[0m \u001b[39m    results: query run output\u001b[39;00m\n\u001b[0;32m     38\u001b[0m \u001b[39m\"\"\"\u001b[39;00m\n\u001b[0;32m     39\u001b[0m \u001b[39mwith\u001b[39;00m \u001b[39mself\u001b[39m\u001b[39m.\u001b[39mdriver\u001b[39m.\u001b[39msession(database\u001b[39m=\u001b[39m\u001b[39m\"\u001b[39m\u001b[39mneo4j\u001b[39m\u001b[39m\"\u001b[39m) \u001b[39mas\u001b[39;00m session:\n\u001b[1;32m---> 40\u001b[0m     results \u001b[39m=\u001b[39m session\u001b[39m.\u001b[39;49mrun(query,parameters)\u001b[39m.\u001b[39;49mdata()\n\u001b[0;32m     41\u001b[0m \u001b[39mself\u001b[39m\u001b[39m.\u001b[39mdriver\u001b[39m.\u001b[39mclose()\n\u001b[0;32m     43\u001b[0m \u001b[39mprint\u001b[39m(results)\n",
      "File \u001b[1;32mc:\\Users\\nikte\\.conda\\envs\\thesis\\Lib\\site-packages\\neo4j\\_sync\\work\\result.py:605\u001b[0m, in \u001b[0;36mResult.data\u001b[1;34m(self, *keys)\u001b[0m\n\u001b[0;32m    581\u001b[0m \u001b[39mdef\u001b[39;00m \u001b[39mdata\u001b[39m(\u001b[39mself\u001b[39m, \u001b[39m*\u001b[39mkeys: _TResultKey) \u001b[39m-\u001b[39m\u001b[39m>\u001b[39m t\u001b[39m.\u001b[39mList[t\u001b[39m.\u001b[39mDict[\u001b[39mstr\u001b[39m, t\u001b[39m.\u001b[39mAny]]:\n\u001b[0;32m    582\u001b[0m \u001b[39m    \u001b[39m\u001b[39m\"\"\"Return the remainder of the result as a list of dictionaries.\u001b[39;00m\n\u001b[0;32m    583\u001b[0m \n\u001b[0;32m    584\u001b[0m \u001b[39m    This function provides a convenient but opinionated way to obtain the\u001b[39;00m\n\u001b[1;32m   (...)\u001b[0m\n\u001b[0;32m    603\u001b[0m \u001b[39m    .. seealso:: :meth:`.Record.data`\u001b[39;00m\n\u001b[0;32m    604\u001b[0m \u001b[39m    \"\"\"\u001b[39;00m\n\u001b[1;32m--> 605\u001b[0m     \u001b[39mreturn\u001b[39;00m [record\u001b[39m.\u001b[39;49mdata(\u001b[39m*\u001b[39;49mkeys) \u001b[39mfor\u001b[39;49;00m record \u001b[39min\u001b[39;49;00m \u001b[39mself\u001b[39;49m]\n",
      "File \u001b[1;32mc:\\Users\\nikte\\.conda\\envs\\thesis\\Lib\\site-packages\\neo4j\\_sync\\work\\result.py:605\u001b[0m, in \u001b[0;36m<listcomp>\u001b[1;34m(.0)\u001b[0m\n\u001b[0;32m    581\u001b[0m \u001b[39mdef\u001b[39;00m \u001b[39mdata\u001b[39m(\u001b[39mself\u001b[39m, \u001b[39m*\u001b[39mkeys: _TResultKey) \u001b[39m-\u001b[39m\u001b[39m>\u001b[39m t\u001b[39m.\u001b[39mList[t\u001b[39m.\u001b[39mDict[\u001b[39mstr\u001b[39m, t\u001b[39m.\u001b[39mAny]]:\n\u001b[0;32m    582\u001b[0m \u001b[39m    \u001b[39m\u001b[39m\"\"\"Return the remainder of the result as a list of dictionaries.\u001b[39;00m\n\u001b[0;32m    583\u001b[0m \n\u001b[0;32m    584\u001b[0m \u001b[39m    This function provides a convenient but opinionated way to obtain the\u001b[39;00m\n\u001b[1;32m   (...)\u001b[0m\n\u001b[0;32m    603\u001b[0m \u001b[39m    .. seealso:: :meth:`.Record.data`\u001b[39;00m\n\u001b[0;32m    604\u001b[0m \u001b[39m    \"\"\"\u001b[39;00m\n\u001b[1;32m--> 605\u001b[0m     \u001b[39mreturn\u001b[39;00m [record\u001b[39m.\u001b[39mdata(\u001b[39m*\u001b[39mkeys) \u001b[39mfor\u001b[39;00m record \u001b[39min\u001b[39;00m \u001b[39mself\u001b[39m]\n",
      "File \u001b[1;32mc:\\Users\\nikte\\.conda\\envs\\thesis\\Lib\\site-packages\\neo4j\\_sync\\work\\result.py:251\u001b[0m, in \u001b[0;36mResult.__iter__\u001b[1;34m(self)\u001b[0m\n\u001b[0;32m    249\u001b[0m     \u001b[39myield\u001b[39;00m \u001b[39mself\u001b[39m\u001b[39m.\u001b[39m_record_buffer\u001b[39m.\u001b[39mpopleft()\n\u001b[0;32m    250\u001b[0m \u001b[39melif\u001b[39;00m \u001b[39mself\u001b[39m\u001b[39m.\u001b[39m_streaming:\n\u001b[1;32m--> 251\u001b[0m     \u001b[39mself\u001b[39;49m\u001b[39m.\u001b[39;49m_connection\u001b[39m.\u001b[39;49mfetch_message()\n\u001b[0;32m    252\u001b[0m \u001b[39melif\u001b[39;00m \u001b[39mself\u001b[39m\u001b[39m.\u001b[39m_discarding:\n\u001b[0;32m    253\u001b[0m     \u001b[39mself\u001b[39m\u001b[39m.\u001b[39m_discard()\n",
      "File \u001b[1;32mc:\\Users\\nikte\\.conda\\envs\\thesis\\Lib\\site-packages\\neo4j\\_sync\\io\\_common.py:180\u001b[0m, in \u001b[0;36mConnectionErrorHandler.__getattr__.<locals>.outer.<locals>.inner\u001b[1;34m(*args, **kwargs)\u001b[0m\n\u001b[0;32m    178\u001b[0m \u001b[39mdef\u001b[39;00m \u001b[39minner\u001b[39m(\u001b[39m*\u001b[39margs, \u001b[39m*\u001b[39m\u001b[39m*\u001b[39mkwargs):\n\u001b[0;32m    179\u001b[0m     \u001b[39mtry\u001b[39;00m:\n\u001b[1;32m--> 180\u001b[0m         func(\u001b[39m*\u001b[39;49margs, \u001b[39m*\u001b[39;49m\u001b[39m*\u001b[39;49mkwargs)\n\u001b[0;32m    181\u001b[0m     \u001b[39mexcept\u001b[39;00m (Neo4jError, ServiceUnavailable, SessionExpired) \u001b[39mas\u001b[39;00m exc:\n\u001b[0;32m    182\u001b[0m         \u001b[39massert\u001b[39;00m \u001b[39mnot\u001b[39;00m asyncio\u001b[39m.\u001b[39miscoroutinefunction(\u001b[39mself\u001b[39m\u001b[39m.\u001b[39m__on_error)\n",
      "File \u001b[1;32mc:\\Users\\nikte\\.conda\\envs\\thesis\\Lib\\site-packages\\neo4j\\_sync\\io\\_bolt.py:658\u001b[0m, in \u001b[0;36mBolt.fetch_message\u001b[1;34m(self)\u001b[0m\n\u001b[0;32m    654\u001b[0m \u001b[39m# Receive exactly one message\u001b[39;00m\n\u001b[0;32m    655\u001b[0m tag, fields \u001b[39m=\u001b[39m \u001b[39mself\u001b[39m\u001b[39m.\u001b[39minbox\u001b[39m.\u001b[39mpop(\n\u001b[0;32m    656\u001b[0m     hydration_hooks\u001b[39m=\u001b[39m\u001b[39mself\u001b[39m\u001b[39m.\u001b[39mresponses[\u001b[39m0\u001b[39m]\u001b[39m.\u001b[39mhydration_hooks\n\u001b[0;32m    657\u001b[0m )\n\u001b[1;32m--> 658\u001b[0m res \u001b[39m=\u001b[39m \u001b[39mself\u001b[39;49m\u001b[39m.\u001b[39;49m_process_message(tag, fields)\n\u001b[0;32m    659\u001b[0m \u001b[39mself\u001b[39m\u001b[39m.\u001b[39midle_since \u001b[39m=\u001b[39m perf_counter()\n\u001b[0;32m    660\u001b[0m \u001b[39mreturn\u001b[39;00m res\n",
      "File \u001b[1;32mc:\\Users\\nikte\\.conda\\envs\\thesis\\Lib\\site-packages\\neo4j\\_sync\\io\\_bolt4.py:326\u001b[0m, in \u001b[0;36mBolt4x0._process_message\u001b[1;34m(self, tag, fields)\u001b[0m\n\u001b[0;32m    324\u001b[0m \u001b[39mself\u001b[39m\u001b[39m.\u001b[39m_server_state_manager\u001b[39m.\u001b[39mstate \u001b[39m=\u001b[39m ServerStates\u001b[39m.\u001b[39mFAILED\n\u001b[0;32m    325\u001b[0m \u001b[39mtry\u001b[39;00m:\n\u001b[1;32m--> 326\u001b[0m     response\u001b[39m.\u001b[39;49mon_failure(summary_metadata \u001b[39mor\u001b[39;49;00m {})\n\u001b[0;32m    327\u001b[0m \u001b[39mexcept\u001b[39;00m (ServiceUnavailable, DatabaseUnavailable):\n\u001b[0;32m    328\u001b[0m     \u001b[39mif\u001b[39;00m \u001b[39mself\u001b[39m\u001b[39m.\u001b[39mpool:\n",
      "File \u001b[1;32mc:\\Users\\nikte\\.conda\\envs\\thesis\\Lib\\site-packages\\neo4j\\_sync\\io\\_common.py:247\u001b[0m, in \u001b[0;36mResponse.on_failure\u001b[1;34m(self, metadata)\u001b[0m\n\u001b[0;32m    245\u001b[0m handler \u001b[39m=\u001b[39m \u001b[39mself\u001b[39m\u001b[39m.\u001b[39mhandlers\u001b[39m.\u001b[39mget(\u001b[39m\"\u001b[39m\u001b[39mon_summary\u001b[39m\u001b[39m\"\u001b[39m)\n\u001b[0;32m    246\u001b[0m Util\u001b[39m.\u001b[39mcallback(handler)\n\u001b[1;32m--> 247\u001b[0m \u001b[39mraise\u001b[39;00m Neo4jError\u001b[39m.\u001b[39mhydrate(\u001b[39m*\u001b[39m\u001b[39m*\u001b[39mmetadata)\n",
      "\u001b[1;31mClientError\u001b[0m: {code: Neo.ClientError.Procedure.ProcedureCallFailed} {message: Failed to invoke procedure `gds.graph.drop`: Caused by: java.util.NoSuchElementException: Graph with name `myGraph7` does not exist on database `neo4j`. It might exist on another database.}"
     ]
    }
   ],
   "source": [
    "query1 = \"\"\"\n",
    "CALL gds.graph.drop('myGraph1') YIELD graphName;\n",
    "\"\"\"\n",
    "\n",
    "query2 = \"\"\"\n",
    "CALL gds.graph.drop('myGraph2') YIELD graphName;\n",
    "\"\"\"\n",
    "\n",
    "query3 = \"\"\"\n",
    "CALL gds.graph.drop('myGraph3') YIELD graphName;\n",
    "\"\"\"\n",
    "\n",
    "query4 = \"\"\"\n",
    "CALL gds.graph.drop('myGraph4') YIELD graphName;\n",
    "\"\"\"\n",
    "\n",
    "query5 = \"\"\"\n",
    "CALL gds.graph.drop('myGraph5') YIELD graphName;\n",
    "\"\"\"\n",
    "\n",
    "query6 = \"\"\"\n",
    "CALL gds.graph.drop('myGraph6') YIELD graphName;\n",
    "\"\"\"\n",
    "\n",
    "query7 = \"\"\"\n",
    "CALL gds.graph.drop('myGraph7') YIELD graphName;\n",
    "\"\"\"\n",
    "\n",
    "graph.query_run(query1,{})\n",
    "graph.query_run(query2,{})\n",
    "graph.query_run(query3,{})\n",
    "graph.query_run(query4,{})\n",
    "graph.query_run(query5,{})\n",
    "graph.query_run(query6,{})\n",
    "graph.query_run(query7,{})"
   ]
  },
  {
   "cell_type": "code",
   "execution_count": 23,
   "metadata": {},
   "outputs": [
    {
     "name": "stdout",
     "output_type": "stream",
     "text": [
      "[{'nodeProjection': {'Company': {'label': 'Company', 'properties': {}}}, 'relationshipProjection': {'SUPPLIES': {'orientation': 'UNDIRECTED', 'aggregation': 'DEFAULT', 'type': 'SUPPLIES', 'properties': {}}}, 'graphName': 'myGraph1', 'nodeCount': 195925, 'relationshipCount': 467506, 'projectMillis': 121}]\n",
      "[{'nodeProjection': {'Company': {'label': 'Company', 'properties': {}}}, 'relationshipProjection': {'COMPETES': {'orientation': 'UNDIRECTED', 'aggregation': 'DEFAULT', 'type': 'COMPETES', 'properties': {}}}, 'graphName': 'myGraph2', 'nodeCount': 195925, 'relationshipCount': 168706, 'projectMillis': 30}]\n",
      "[{'nodeProjection': {'Company': {'label': 'Company', 'properties': {}}}, 'relationshipProjection': {'ULTIMATE_PARENT_OF': {'orientation': 'UNDIRECTED', 'aggregation': 'DEFAULT', 'type': 'ULTIMATE_PARENT_OF', 'properties': {}}}, 'graphName': 'myGraph3', 'nodeCount': 195925, 'relationshipCount': 136870, 'projectMillis': 26}]\n",
      "[{'nodeProjection': {'Company': {'label': 'Company', 'properties': {}}}, 'relationshipProjection': {'COMPETES': {'orientation': 'UNDIRECTED', 'aggregation': 'DEFAULT', 'type': 'COMPETES', 'properties': {}}, 'ULTIMATE_PARENT_OF': {'orientation': 'UNDIRECTED', 'aggregation': 'DEFAULT', 'type': 'ULTIMATE_PARENT_OF', 'properties': {}}, 'SUPPLIES': {'orientation': 'UNDIRECTED', 'aggregation': 'DEFAULT', 'type': 'SUPPLIES', 'properties': {}}}, 'graphName': 'myGraph4', 'nodeCount': 195925, 'relationshipCount': 773082, 'projectMillis': 60}]\n",
      "[{'nodeProjection': {'Company': {'label': 'Company', 'properties': {}}}, 'relationshipProjection': {'PARTNERS': {'orientation': 'UNDIRECTED', 'aggregation': 'DEFAULT', 'type': 'PARTNERS', 'properties': {}}}, 'graphName': 'myGraph5', 'nodeCount': 195925, 'relationshipCount': 248576, 'projectMillis': 35}]\n",
      "[{'nodeProjection': {'Company': {'label': 'Company', 'properties': {}}}, 'relationshipProjection': {'COMPETES': {'orientation': 'UNDIRECTED', 'aggregation': 'DEFAULT', 'type': 'COMPETES', 'properties': {}}, 'ULTIMATE_PARENT_OF': {'orientation': 'UNDIRECTED', 'aggregation': 'DEFAULT', 'type': 'ULTIMATE_PARENT_OF', 'properties': {}}, 'SUPPLIES': {'orientation': 'UNDIRECTED', 'aggregation': 'DEFAULT', 'type': 'SUPPLIES', 'properties': {}}, 'PARTNERS': {'orientation': 'UNDIRECTED', 'aggregation': 'DEFAULT', 'type': 'PARTNERS', 'properties': {}}}, 'graphName': 'myGraph6', 'nodeCount': 195925, 'relationshipCount': 1021658, 'projectMillis': 71}]\n",
      "[{'nodeProjection': {'Company': {'label': 'Company', 'properties': {}}}, 'relationshipProjection': {'ULTIMATE_PARENT_OF': {'orientation': 'UNDIRECTED', 'aggregation': 'DEFAULT', 'type': 'ULTIMATE_PARENT_OF', 'properties': {}}, 'SUPPLIES': {'orientation': 'UNDIRECTED', 'aggregation': 'DEFAULT', 'type': 'SUPPLIES', 'properties': {}}, 'PARTNERS': {'orientation': 'UNDIRECTED', 'aggregation': 'DEFAULT', 'type': 'PARTNERS', 'properties': {}}}, 'graphName': 'myGraph7', 'nodeCount': 195925, 'relationshipCount': 852952, 'projectMillis': 66}]\n"
     ]
    }
   ],
   "source": [
    "query1 = \"\"\"\n",
    "CALL gds.graph.project(\n",
    "  'myGraph1',\n",
    "  'Company',\n",
    "  {\n",
    "    SUPPLIES: {\n",
    "      orientation: 'UNDIRECTED'\n",
    "    }\n",
    "  }\n",
    ")\n",
    "\"\"\"\n",
    "\n",
    "query2 = \"\"\"\n",
    "CALL gds.graph.project(\n",
    "  'myGraph2',\n",
    "  'Company',\n",
    "  {\n",
    "\n",
    "    COMPETES: {\n",
    "      orientation: 'UNDIRECTED'\n",
    "      }\n",
    "  }\n",
    ")\n",
    "\"\"\"\n",
    "\n",
    "query3 = \"\"\"\n",
    "CALL gds.graph.project(\n",
    "  'myGraph3',\n",
    "  'Company',\n",
    "  {\n",
    "    ULTIMATE_PARENT_OF: {\n",
    "      orientation: 'UNDIRECTED'\n",
    "      }\n",
    "  }\n",
    ")\n",
    "\"\"\"\n",
    "\n",
    "query4 = \"\"\"\n",
    "CALL gds.graph.project(\n",
    "  'myGraph4',\n",
    "  'Company',\n",
    "  {\n",
    "    SUPPLIES: {\n",
    "      orientation: 'UNDIRECTED'\n",
    "    },\n",
    "\n",
    "    COMPETES: {\n",
    "      orientation: 'UNDIRECTED'\n",
    "      },\n",
    "\n",
    "    ULTIMATE_PARENT_OF: {\n",
    "      orientation: 'UNDIRECTED'\n",
    "      }\n",
    "  }\n",
    ")\n",
    "\"\"\"\n",
    "\n",
    "query5 = \"\"\"\n",
    "CALL gds.graph.project(\n",
    "  'myGraph5',\n",
    "  'Company',\n",
    "  {\n",
    "    PARTNERS: {\n",
    "      orientation: 'UNDIRECTED'\n",
    "      }\n",
    "  }\n",
    ")\n",
    "\"\"\"\n",
    "\n",
    "query6 = \"\"\"\n",
    "CALL gds.graph.project(\n",
    "  'myGraph6',\n",
    "  'Company',\n",
    "  {\n",
    "    SUPPLIES: {\n",
    "      orientation: 'UNDIRECTED'\n",
    "    },\n",
    "\n",
    "    COMPETES: {\n",
    "      orientation: 'UNDIRECTED'\n",
    "      },\n",
    "\n",
    "    ULTIMATE_PARENT_OF: {\n",
    "      orientation: 'UNDIRECTED'\n",
    "      },\n",
    "\n",
    "    PARTNERS: {\n",
    "      orientation: 'UNDIRECTED'\n",
    "      }\n",
    "  }\n",
    ")\n",
    "\"\"\"\n",
    "\n",
    "query7 = \"\"\"\n",
    "CALL gds.graph.project(\n",
    "  'myGraph7',\n",
    "  'Company',\n",
    "  {\n",
    "    SUPPLIES: {\n",
    "      orientation: 'UNDIRECTED'\n",
    "    },\n",
    "\n",
    "    ULTIMATE_PARENT_OF: {\n",
    "      orientation: 'UNDIRECTED'\n",
    "      },\n",
    "\n",
    "    PARTNERS: {\n",
    "      orientation: 'UNDIRECTED'\n",
    "      }\n",
    "  }\n",
    ")\n",
    "\"\"\"\n",
    "\n",
    "graph.query_run(query1,{})\n",
    "graph.query_run(query2,{})\n",
    "graph.query_run(query3,{})\n",
    "graph.query_run(query4,{})\n",
    "graph.query_run(query5,{})\n",
    "graph.query_run(query6,{})\n",
    "graph.query_run(query7,{})"
   ]
  },
  {
   "cell_type": "code",
   "execution_count": 24,
   "metadata": {},
   "outputs": [
    {
     "name": "stdout",
     "output_type": "stream",
     "text": [
      "[{'writeMillis': 66, 'nodePropertiesWritten': 195925, 'globalTriangleCount': 97560, 'nodeCount': 195925, 'postProcessingMillis': 0, 'preProcessingMillis': 0, 'computeMillis': 62, 'configuration': {'writeConcurrency': 4, 'writeProperty': 'SupplyTriangleCount', 'maxDegree': 9223372036854775807, 'nodeLabels': ['*'], 'sudo': False, 'relationshipTypes': ['*'], 'username': None, 'concurrency': 4}}]\n",
      "[{'writeMillis': 60, 'nodePropertiesWritten': 195925, 'globalTriangleCount': 82747, 'nodeCount': 195925, 'postProcessingMillis': 0, 'preProcessingMillis': 0, 'computeMillis': 22, 'configuration': {'writeConcurrency': 4, 'writeProperty': 'CompeteTriangleCount', 'maxDegree': 9223372036854775807, 'nodeLabels': ['*'], 'sudo': False, 'relationshipTypes': ['*'], 'username': None, 'concurrency': 4}}]\n",
      "[{'writeMillis': 60, 'nodePropertiesWritten': 195925, 'globalTriangleCount': 0, 'nodeCount': 195925, 'postProcessingMillis': 0, 'preProcessingMillis': 0, 'computeMillis': 12, 'configuration': {'writeConcurrency': 4, 'writeProperty': 'UltimateParentTriangleCount', 'maxDegree': 9223372036854775807, 'nodeLabels': ['*'], 'sudo': False, 'relationshipTypes': ['*'], 'username': None, 'concurrency': 4}}]\n",
      "[{'writeMillis': 69, 'nodePropertiesWritten': 195925, 'globalTriangleCount': 322976, 'nodeCount': 195925, 'postProcessingMillis': 0, 'preProcessingMillis': 0, 'computeMillis': 390, 'configuration': {'writeConcurrency': 4, 'writeProperty': 'SupplyCompeteUltimateParentTriangleCount', 'maxDegree': 9223372036854775807, 'nodeLabels': ['*'], 'sudo': False, 'relationshipTypes': ['*'], 'username': None, 'concurrency': 4}}]\n",
      "[{'writeMillis': 40, 'nodePropertiesWritten': 195925, 'globalTriangleCount': 31150, 'nodeCount': 195925, 'postProcessingMillis': 0, 'preProcessingMillis': 0, 'computeMillis': 26, 'configuration': {'writeConcurrency': 4, 'writeProperty': 'PartnersTriangleCount', 'maxDegree': 9223372036854775807, 'nodeLabels': ['*'], 'sudo': False, 'relationshipTypes': ['*'], 'username': None, 'concurrency': 4}}]\n",
      "[{'writeMillis': 107, 'nodePropertiesWritten': 195925, 'globalTriangleCount': 448900, 'nodeCount': 195925, 'postProcessingMillis': 0, 'preProcessingMillis': 0, 'computeMillis': 682, 'configuration': {'writeConcurrency': 4, 'writeProperty': 'AllTriangleCount', 'maxDegree': 9223372036854775807, 'nodeLabels': ['*'], 'sudo': False, 'relationshipTypes': ['*'], 'username': None, 'concurrency': 4}}]\n",
      "[{'writeMillis': 577, 'nodePropertiesWritten': 195925, 'globalTriangleCount': 214306, 'nodeCount': 195925, 'postProcessingMillis': 0, 'preProcessingMillis': 0, 'computeMillis': 428, 'configuration': {'writeConcurrency': 4, 'writeProperty': 'SupplyUltimateParentPartnersTriangleCount', 'maxDegree': 9223372036854775807, 'nodeLabels': ['*'], 'sudo': False, 'relationshipTypes': ['*'], 'username': None, 'concurrency': 4}}]\n"
     ]
    }
   ],
   "source": [
    "query1 = \"\"\" \n",
    "CALL gds.triangleCount.write('myGraph1', {\n",
    "  writeProperty: 'SupplyTriangleCount'\n",
    "})\n",
    "\"\"\"\n",
    "\n",
    "query2 = \"\"\" \n",
    "CALL gds.triangleCount.write('myGraph2', {\n",
    "  writeProperty: 'CompeteTriangleCount'\n",
    "})\n",
    "\"\"\"\n",
    "\n",
    "query3 = \"\"\" \n",
    "CALL gds.triangleCount.write('myGraph3', {\n",
    "  writeProperty: 'UltimateParentTriangleCount'\n",
    "})\n",
    "\"\"\"\n",
    "\n",
    "query4 = \"\"\" \n",
    "CALL gds.triangleCount.write('myGraph4', {\n",
    "  writeProperty: 'SupplyCompeteUltimateParentTriangleCount'\n",
    "})\n",
    "\"\"\"\n",
    "\n",
    "query5 = \"\"\"\n",
    "CALL gds.triangleCount.write('myGraph5', {\n",
    "  writeProperty: 'PartnersTriangleCount'\n",
    "})\n",
    "\"\"\"\n",
    "\n",
    "query6 = \"\"\"\n",
    "CALL gds.triangleCount.write('myGraph6', {\n",
    "  writeProperty: 'AllTriangleCount'\n",
    "})\n",
    "\"\"\"\n",
    "\n",
    "query7 = \"\"\"\n",
    "CALL gds.triangleCount.write('myGraph7', {\n",
    "  writeProperty: 'SupplyUltimateParentPartnersTriangleCount'\n",
    "})\n",
    "\"\"\"\n",
    "\n",
    "graph.query_run(query1,{})\n",
    "graph.query_run(query2,{})\n",
    "graph.query_run(query3,{})\n",
    "graph.query_run(query4,{})\n",
    "graph.query_run(query5,{})\n",
    "graph.query_run(query6,{})\n",
    "graph.query_run(query7,{})"
   ]
  },
  {
   "cell_type": "code",
   "execution_count": 25,
   "metadata": {},
   "outputs": [
    {
     "name": "stdout",
     "output_type": "stream",
     "text": [
      "[{'writeMillis': 55, 'nodePropertiesWritten': 195925, 'averageClusteringCoefficient': 0.01002554861385438, 'nodeCount': 195925, 'postProcessingMillis': 0, 'preProcessingMillis': 0, 'computeMillis': 109, 'configuration': {'writeConcurrency': 4, 'triangleCountProperty': None, 'writeProperty': 'supplyCoefficient', 'nodeLabels': ['*'], 'sudo': False, 'relationshipTypes': ['*'], 'username': None, 'concurrency': 4}}]\n",
      "[{'writeMillis': 52, 'nodePropertiesWritten': 195925, 'averageClusteringCoefficient': 0.02097597870828209, 'nodeCount': 195925, 'postProcessingMillis': 0, 'preProcessingMillis': 0, 'computeMillis': 30, 'configuration': {'writeConcurrency': 4, 'triangleCountProperty': None, 'writeProperty': 'competesCoefficient', 'nodeLabels': ['*'], 'sudo': False, 'relationshipTypes': ['*'], 'username': None, 'concurrency': 4}}]\n",
      "[{'writeMillis': 48, 'nodePropertiesWritten': 195925, 'averageClusteringCoefficient': 0.0, 'nodeCount': 195925, 'postProcessingMillis': 0, 'preProcessingMillis': 0, 'computeMillis': 24, 'configuration': {'writeConcurrency': 4, 'triangleCountProperty': None, 'writeProperty': 'ultimateParentCoefficient', 'nodeLabels': ['*'], 'sudo': False, 'relationshipTypes': ['*'], 'username': None, 'concurrency': 4}}]\n",
      "[{'writeMillis': 70, 'nodePropertiesWritten': 195925, 'averageClusteringCoefficient': inf, 'nodeCount': 195925, 'postProcessingMillis': 0, 'preProcessingMillis': 0, 'computeMillis': 538, 'configuration': {'writeConcurrency': 4, 'triangleCountProperty': None, 'writeProperty': 'supplyCompetesUltimateParentCoefficient', 'nodeLabels': ['*'], 'sudo': False, 'relationshipTypes': ['*'], 'username': None, 'concurrency': 4}}]\n",
      "[{'writeMillis': 58, 'nodePropertiesWritten': 195925, 'averageClusteringCoefficient': 0.01178657656003952, 'nodeCount': 195925, 'postProcessingMillis': 0, 'preProcessingMillis': 0, 'computeMillis': 41, 'configuration': {'writeConcurrency': 4, 'triangleCountProperty': None, 'writeProperty': 'partnersCoefficient', 'nodeLabels': ['*'], 'sudo': False, 'relationshipTypes': ['*'], 'username': None, 'concurrency': 4}}]\n",
      "[{'writeMillis': 77, 'nodePropertiesWritten': 195925, 'averageClusteringCoefficient': inf, 'nodeCount': 195925, 'postProcessingMillis': 0, 'preProcessingMillis': 0, 'computeMillis': 979, 'configuration': {'writeConcurrency': 4, 'triangleCountProperty': None, 'writeProperty': 'allCoefficient', 'nodeLabels': ['*'], 'sudo': False, 'relationshipTypes': ['*'], 'username': None, 'concurrency': 4}}]\n",
      "[{'writeMillis': 743, 'nodePropertiesWritten': 195925, 'averageClusteringCoefficient': inf, 'nodeCount': 195925, 'postProcessingMillis': 0, 'preProcessingMillis': 0, 'computeMillis': 667, 'configuration': {'writeConcurrency': 4, 'triangleCountProperty': None, 'writeProperty': 'supplyUltimateParentPartnersCoefficient', 'nodeLabels': ['*'], 'sudo': False, 'relationshipTypes': ['*'], 'username': None, 'concurrency': 4}}]\n"
     ]
    }
   ],
   "source": [
    "query1 = \"\"\"\n",
    "CALL gds.localClusteringCoefficient.write('myGraph1', {\n",
    "    writeProperty: 'supplyCoefficient'\n",
    "});\n",
    "\"\"\"\n",
    "\n",
    "query2 = \"\"\"\n",
    "CALL gds.localClusteringCoefficient.write('myGraph2', {\n",
    "    writeProperty: 'competesCoefficient'\n",
    "});\n",
    "\"\"\"\n",
    "\n",
    "query3 = \"\"\"\n",
    "CALL gds.localClusteringCoefficient.write('myGraph3', {\n",
    "    writeProperty: 'ultimateParentCoefficient'\n",
    "});\n",
    "\"\"\"\n",
    "\n",
    "query4 = \"\"\"\n",
    "CALL gds.localClusteringCoefficient.write('myGraph4', {\n",
    "    writeProperty: 'supplyCompetesUltimateParentCoefficient'\n",
    "});\n",
    "\"\"\"\n",
    "\n",
    "query5 = \"\"\"\n",
    "CALL gds.localClusteringCoefficient.write('myGraph5', {\n",
    "    writeProperty: 'partnersCoefficient'\n",
    "});\n",
    "\"\"\"\n",
    "\n",
    "query6 = \"\"\"\n",
    "CALL gds.localClusteringCoefficient.write('myGraph6', {\n",
    "    writeProperty: 'allCoefficient'\n",
    "});\n",
    "\"\"\"\n",
    "\n",
    "query7 = \"\"\"\n",
    "CALL gds.localClusteringCoefficient.write('myGraph7', {\n",
    "    writeProperty: 'supplyUltimateParentPartnersCoefficient'\n",
    "});\n",
    "\"\"\"\n",
    "\n",
    "graph.query_run(query1,{})\n",
    "graph.query_run(query2,{})\n",
    "graph.query_run(query3,{})\n",
    "graph.query_run(query4,{})\n",
    "graph.query_run(query5,{})\n",
    "graph.query_run(query6,{})\n",
    "graph.query_run(query7,{})"
   ]
  },
  {
   "attachments": {},
   "cell_type": "markdown",
   "metadata": {},
   "source": [
    "## Directionless pagerank, degree and betweenness centrality\n",
    "\n",
    "Direction might matter in determining important nodes especially the ultimate parent of relationship. Also it makes sense to take into consideration the COMPETES relationship as more important companies are they tend to compete with more companies (hopefully)."
   ]
  },
  {
   "cell_type": "code",
   "execution_count": 26,
   "metadata": {},
   "outputs": [
    {
     "name": "stdout",
     "output_type": "stream",
     "text": [
      "[{'writeMillis': 1238, 'nodePropertiesWritten': 195925, 'ranIterations': 20, 'didConverge': False, 'centralityDistribution': {'p99': 10.077635765075684, 'min': 0.2199563980102539, 'max': 553.9882802963257, 'mean': 0.9612404908899052, 'p90': 1.6911382675170898, 'p50': 0.3637361526489258, 'p999': 32.875487327575684, 'p95': 3.2857046127319336, 'p75': 0.6827917098999023}, 'postProcessingMillis': 622, 'preProcessingMillis': 1, 'computeMillis': 1455, 'configuration': {'maxIterations': 20, 'writeConcurrency': 4, 'relationshipWeightProperty': None, 'concurrency': 4, 'sourceNodes': [], 'writeProperty': 'allPageRank', 'scaler': 'NONE', 'nodeLabels': ['*'], 'sudo': False, 'dampingFactor': 0.85, 'relationshipTypes': ['*'], 'tolerance': 1e-07, 'username': None}}]\n"
     ]
    }
   ],
   "source": [
    "query = \"\"\"\n",
    "CALL gds.pageRank.write('myGraph6', {\n",
    "    writeProperty: 'allPageRank',\n",
    "    maxIterations: 20,\n",
    "    dampingFactor: 0.85\n",
    "});\n",
    "\"\"\"\n",
    "\n",
    "graph.query_run(query,{})"
   ]
  },
  {
   "cell_type": "code",
   "execution_count": 27,
   "metadata": {},
   "outputs": [
    {
     "name": "stdout",
     "output_type": "stream",
     "text": [
      "[{'nodePropertiesWritten': 195925, 'centralityDistribution': {'p99': 71.00048065185547, 'min': 1.0, 'max': 2427.0156173706055, 'mean': 5.214549336016627, 'p90': 9.000053405761719, 'p50': 1.0, 'p999': 245.00096893310547, 'p95': 21.00011444091797, 'p75': 2.0000076293945312}, 'writeMillis': 1450, 'postProcessingMillis': 174, 'preProcessingMillis': 0, 'computeMillis': 0, 'configuration': {'orientation': 'NATURAL', 'writeConcurrency': 4, 'writeProperty': 'allDegree', 'relationshipWeightProperty': None, 'nodeLabels': ['*'], 'sudo': False, 'relationshipTypes': ['*'], 'username': None, 'concurrency': 4}}]\n"
     ]
    }
   ],
   "source": [
    "query = \"\"\"\n",
    "CALL gds.degree.write('myGraph6', {\n",
    "    writeProperty: 'allDegree'\n",
    "});\n",
    "\"\"\"\n",
    "\n",
    "graph.query_run(query,{})"
   ]
  },
  {
   "cell_type": "code",
   "execution_count": 28,
   "metadata": {},
   "outputs": [],
   "source": [
    "# query = \"\"\"\n",
    "# CALL gds.betweenness.write('myGraph6', {\n",
    "#     writeProperty: 'allBetweenness'\n",
    "# });\n",
    "# \"\"\"\n",
    "\n",
    "# graph.query_run(query,{})"
   ]
  },
  {
   "cell_type": "code",
   "execution_count": null,
   "metadata": {},
   "outputs": [],
   "source": []
  }
 ],
 "metadata": {
  "kernelspec": {
   "display_name": "thesis",
   "language": "python",
   "name": "python3"
  },
  "language_info": {
   "codemirror_mode": {
    "name": "ipython",
    "version": 3
   },
   "file_extension": ".py",
   "mimetype": "text/x-python",
   "name": "python",
   "nbconvert_exporter": "python",
   "pygments_lexer": "ipython3",
   "version": "3.11.0"
  },
  "orig_nbformat": 4
 },
 "nbformat": 4,
 "nbformat_minor": 2
}
