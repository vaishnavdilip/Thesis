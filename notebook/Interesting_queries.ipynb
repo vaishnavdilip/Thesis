{
 "cells": [
  {
   "cell_type": "code",
   "execution_count": 7,
   "metadata": {},
   "outputs": [],
   "source": [
    "import sys\n",
    "sys.path.append('../')\n",
    "from utils import Graph\n",
    "first = Graph('bolt://localhost:7687', 'neo4j', 'neo4jneo4j')"
   ]
  },
  {
   "cell_type": "code",
   "execution_count": null,
   "metadata": {},
   "outputs": [],
   "source": [
    "# query = \"CREATE INDEX node_range_index_name FOR (n:Company) ON (n.name)\"\n",
    "# first.query_run(query,{})"
   ]
  },
  {
   "cell_type": "code",
   "execution_count": null,
   "metadata": {},
   "outputs": [],
   "source": [
    "query = \"MATCH (p:Company {name:'Taiwan Semiconductor Manufacturing Co., Ltd.'})-[*7]->(q) RETURN count(DISTINCT q), collect(DISTINCT q)\"\n",
    "first.read_query(query,{})"
   ]
  },
  {
   "cell_type": "code",
   "execution_count": null,
   "metadata": {},
   "outputs": [],
   "source": [
    "query = \"MATCH a =((p:Company {name:'Taiwan Semiconductor Manufacturing Co., Ltd.'})-[:SUPPLIES*2]->(q:Company{name:'Hewlett Packard Enterprise Co.'})) RETURN a\"\n",
    "first.read_query(query,{})"
   ]
  },
  {
   "cell_type": "code",
   "execution_count": null,
   "metadata": {},
   "outputs": [],
   "source": [
    "query = \"MATCH a = ((p:Company {name:'Taiwan Semiconductor Manufacturing Co., Ltd.'})-[:SUPPLIES]->(q:Company{name:'Intel Corp.'})) RETURN a\"\n",
    "first.read_query(query,{})"
   ]
  },
  {
   "cell_type": "code",
   "execution_count": null,
   "metadata": {},
   "outputs": [],
   "source": [
    "query = '''CALL gds.graph.project(\n",
    "  'myGraph2',\n",
    "  'Company',\n",
    "  {\n",
    "    SUPPLIES:{},\n",
    "    COMPETES:{},\n",
    "    PARTNERS:{}\n",
    "  }\n",
    ")'''\n",
    "first.read_query(query,{})"
   ]
  },
  {
   "cell_type": "code",
   "execution_count": null,
   "metadata": {},
   "outputs": [],
   "source": [
    "query='''\n",
    "CALL gds.degree.stats('myGraph')\n",
    "YIELD centralityDistribution\n",
    "RETURN centralityDistribution.min AS minimumScore, centralityDistribution.mean AS meanScore\n",
    "'''\n",
    "first.read_query(query,{})"
   ]
  },
  {
   "cell_type": "code",
   "execution_count": null,
   "metadata": {},
   "outputs": [],
   "source": [
    "query='''\n",
    "CALL gds.degree.stats('myGraph2')\n",
    "YIELD centralityDistribution\n",
    "RETURN centralityDistribution.min AS minimumScore, centralityDistribution.mean AS meanScore\n",
    "'''\n",
    "first.read_query(query,{})"
   ]
  },
  {
   "cell_type": "code",
   "execution_count": null,
   "metadata": {},
   "outputs": [],
   "source": []
  }
 ],
 "metadata": {
  "kernelspec": {
   "display_name": "thesis",
   "language": "python",
   "name": "python3"
  },
  "language_info": {
   "codemirror_mode": {
    "name": "ipython",
    "version": 3
   },
   "file_extension": ".py",
   "mimetype": "text/x-python",
   "name": "python",
   "nbconvert_exporter": "python",
   "pygments_lexer": "ipython3",
   "version": "3.11.0"
  },
  "orig_nbformat": 4
 },
 "nbformat": 4,
 "nbformat_minor": 2
}
