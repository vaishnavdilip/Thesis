{
 "cells": [
  {
   "cell_type": "code",
   "execution_count": 1,
   "metadata": {},
   "outputs": [],
   "source": [
    "import sys\n",
    "import pandas as pd\n",
    "import numpy as np\n",
    "from sklearn.model_selection import train_test_split\n",
    "from sklearn.metrics import roc_auc_score\n",
    "\n",
    "sys.path.append('../')\n",
    "\n",
    "from utils import Graph\n",
    "\n",
    "graph = Graph('bolt://localhost:7687', 'neo4j', 'neo4jneo4j')"
   ]
  },
  {
   "cell_type": "code",
   "execution_count": 2,
   "metadata": {},
   "outputs": [],
   "source": [
    "query1 = \"\"\"CALL gds.beta.pipeline.linkPrediction.create('pipe')\"\"\"\n",
    "\n",
    "query2 = \"\"\"CALL gds.beta.pipeline.linkPrediction.addNodeProperty('pipe', 'fastRP', {\n",
    "  mutateProperty: 'embedding',\n",
    "  embeddingDimension: 256,\n",
    "  randomSeed: 42\n",
    "})\"\"\"\n",
    "\n",
    "query3 = \"\"\"CALL gds.beta.pipeline.linkPrediction.addFeature('pipe', 'hadamard', {\n",
    "  nodeProperties: ['embedding']\n",
    "}) YIELD featureSteps\"\"\"\n",
    "\n",
    "query4 = \"\"\"CALL gds.beta.pipeline.linkPrediction.configureSplit('pipe', {\n",
    "  testFraction: 0.25,\n",
    "  trainFraction: 0.6,\n",
    "  validationFolds: 3\n",
    "})\n",
    "YIELD splitConfig\"\"\"\n",
    "\n",
    "query5 = \"\"\"\n",
    "CALL gds.beta.pipeline.linkPrediction.addLogisticRegression('pipe', {maxEpochs: 500, penalty: 0.01})\n",
    "YIELD parameterSpace\n",
    "RETURN parameterSpace.RandomForest AS randomForestSpace, parameterSpace.LogisticRegression AS logisticRegressionSpace, parameterSpace.MultilayerPerceptron AS MultilayerPerceptronSpace                                                                                                                                                                                                                                                                                                                                                                                                                                                                                                                                                                                                                                                                                                                                                     \n",
    "\"\"\"\n",
    "\n",
    "query6 = \"\"\"CALL gds.beta.pipeline.linkPrediction.configureAutoTuning('pipe', {\n",
    "  maxTrials: 2\n",
    "}) YIELD autoTuningConfig\"\"\"\n",
    "\n",
    "\n",
    "query7 = \"\"\" \n",
    "CALL gds.graph.project(\n",
    "  'myGraph',\n",
    "  'Company',\n",
    "  {\n",
    "    SUPPLIES_TO: {\n",
    "      orientation: 'UNDIRECTED'\n",
    "    }\n",
    "  }\n",
    ")\n",
    "\"\"\"\n",
    "\n",
    "query8 = \"\"\"\n",
    "CALL gds.beta.pipeline.linkPrediction.train.estimate('myGraph', \n",
    "  {\n",
    "    pipeline: 'pipe', \n",
    "    modelName: 'lp-pipeline-model',\n",
    "    targetRelationshipType: 'SUPPLIES_TO' \n",
    "  }\n",
    ")\n",
    "YIELD requiredMemory\n",
    "\"\"\"\n",
    "\n",
    "query9 = \"\"\"CALL gds.beta.pipeline.linkPrediction.train('myGraph', \n",
    "{\n",
    "  pipeline: 'pipe',\n",
    "  modelName: 'lp-pipeline-model',\n",
    "  randomSeed: 12,\n",
    "  targetRelationshipType: 'SUPPLIES_TO' \n",
    "  }) \n",
    "YIELD modelInfo, modelSelectionStats\n",
    "RETURN\n",
    "  modelInfo.bestParameters AS winningModel,\n",
    "  modelInfo.metrics.AUCPR.train.avg AS avgTrainScore,\n",
    "  modelInfo.metrics.AUCPR.outerTrain AS outerTrainScore,\n",
    "  modelInfo.metrics.AUCPR.test AS testScore,\n",
    "  [cand IN modelSelectionStats.modelCandidates | cand.metrics.AUCPR.validation.avg] AS validationScores\"\"\"\n",
    "\n"
   ]
  },
  {
   "cell_type": "code",
   "execution_count": 3,
   "metadata": {},
   "outputs": [
    {
     "name": "stdout",
     "output_type": "stream",
     "text": [
      "[{'name': 'pipe', 'nodePropertySteps': [], 'featureSteps': [], 'splitConfig': {'negativeSamplingRatio': 1.0, 'testFraction': 0.1, 'validationFolds': 3, 'trainFraction': 0.1}, 'autoTuningConfig': {'maxTrials': 10}, 'parameterSpace': {'MultilayerPerceptron': [], 'RandomForest': [], 'LogisticRegression': []}}]\n",
      "[{'name': 'pipe', 'nodePropertySteps': [{'name': 'gds.fastRP.mutate', 'config': {'randomSeed': 42, 'contextRelationshipTypes': [], 'embeddingDimension': 256, 'contextNodeLabels': [], 'mutateProperty': 'embedding'}}], 'featureSteps': [], 'splitConfig': {'negativeSamplingRatio': 1.0, 'testFraction': 0.1, 'validationFolds': 3, 'trainFraction': 0.1}, 'autoTuningConfig': {'maxTrials': 10}, 'parameterSpace': {'MultilayerPerceptron': [], 'RandomForest': [], 'LogisticRegression': []}}]\n",
      "[{'featureSteps': [{'name': 'HADAMARD', 'config': {'nodeProperties': ['embedding']}}]}]\n",
      "[{'splitConfig': {'negativeSamplingRatio': 1.0, 'testFraction': 0.25, 'validationFolds': 3, 'trainFraction': 0.6}}]\n",
      "[{'randomForestSpace': [], 'logisticRegressionSpace': [{'maxEpochs': 500, 'minEpochs': 1, 'classWeights': [], 'penalty': 0.01, 'patience': 1, 'methodName': 'LogisticRegression', 'focusWeight': 0.0, 'batchSize': 100, 'tolerance': 0.001, 'learningRate': 0.001}], 'MultilayerPerceptronSpace': []}]\n",
      "[{'nodeProjection': {'Company': {'label': 'Company', 'properties': {}}}, 'relationshipProjection': {'SUPPLIES_TO': {'orientation': 'UNDIRECTED', 'indexInverse': False, 'aggregation': 'DEFAULT', 'type': 'SUPPLIES_TO', 'properties': {}}}, 'graphName': 'myGraph', 'nodeCount': 195923, 'relationshipCount': 467504, 'projectMillis': 94}]\n",
      "[{'requiredMemory': '[591 MiB ... 817 MiB]'}]\n",
      "[{'winningModel': {'maxEpochs': 500, 'minEpochs': 1, 'classWeights': [], 'penalty': 0.01, 'patience': 1, 'methodName': 'LogisticRegression', 'focusWeight': 0.0, 'batchSize': 100, 'tolerance': 0.001, 'learningRate': 0.001}, 'avgTrainScore': 0.8275440151503978, 'outerTrainScore': 0.8275442513147658, 'testScore': 0.8288711991188231, 'validationScores': [0.827547199079909]}]\n"
     ]
    }
   ],
   "source": [
    "graph.query_run(query1,{})\n",
    "graph.query_run(query2,{})\n",
    "graph.query_run(query3,{})\n",
    "graph.query_run(query4,{})\n",
    "graph.query_run(query5,{})\n",
    "# graph.query_run(query6,{})\n",
    "graph.query_run(query7,{})\n",
    "graph.query_run(query8,{})\n",
    "graph.query_run(query9,{})\n"
   ]
  },
  {
   "cell_type": "code",
   "execution_count": 4,
   "metadata": {},
   "outputs": [
    {
     "name": "stdout",
     "output_type": "stream",
     "text": [
      "[{'pipelineName': 'pipe', 'pipelineType': 'Link prediction training pipeline'}]\n",
      "[{'graphName': 'myGraph'}]\n"
     ]
    }
   ],
   "source": [
    "query10 = \"\"\" \n",
    "CALL gds.beta.pipeline.drop('pipe')\n",
    "YIELD pipelineName, pipelineType\n",
    "\"\"\"\n",
    "\n",
    "query11 = \"\"\"\n",
    "CALL gds.graph.drop('myGraph') YIELD graphName;\n",
    "\"\"\"\n",
    "\n",
    "graph.query_run(query10,{})\n",
    "graph.query_run(query11,{})"
   ]
  },
  {
   "cell_type": "code",
   "execution_count": null,
   "metadata": {},
   "outputs": [],
   "source": []
  }
 ],
 "metadata": {
  "kernelspec": {
   "display_name": "thesis",
   "language": "python",
   "name": "python3"
  },
  "language_info": {
   "codemirror_mode": {
    "name": "ipython",
    "version": 3
   },
   "file_extension": ".py",
   "mimetype": "text/x-python",
   "name": "python",
   "nbconvert_exporter": "python",
   "pygments_lexer": "ipython3",
   "version": "3.10.11"
  },
  "orig_nbformat": 4
 },
 "nbformat": 4,
 "nbformat_minor": 2
}
