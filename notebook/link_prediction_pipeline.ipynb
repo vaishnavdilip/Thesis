{
 "cells": [
  {
   "cell_type": "code",
   "execution_count": 1,
   "metadata": {},
   "outputs": [],
   "source": [
    "import sys\n",
    "import pandas as pd\n",
    "import numpy as np\n",
    "from sklearn.model_selection import train_test_split\n",
    "from sklearn.metrics import roc_auc_score\n",
    "\n",
    "sys.path.append('../')\n",
    "\n",
    "from utils import Graph\n",
    "\n",
    "graph = Graph('bolt://localhost:7687', 'neo4j', 'neo4jneo4j')"
   ]
  },
  {
   "cell_type": "code",
   "execution_count": 2,
   "metadata": {},
   "outputs": [
    {
     "name": "stdout",
     "output_type": "stream",
     "text": [
      "[]\n",
      "[]\n"
     ]
    }
   ],
   "source": [
    "query_graph_drop_all = \"\"\" \n",
    "CALL gds.graph.list() YIELD graphName\n",
    "UNWIND graphName as t\n",
    "CALL gds.graph.drop(t) YIELD schema\n",
    "RETURN schema\n",
    "\"\"\"\n",
    "\n",
    "query_pipeline_drop_all = \"\"\" \n",
    "CALL gds.beta.pipeline.list() YIELD pipelineName\n",
    "UNWIND pipelineName as t\n",
    "CALL gds.beta.pipeline.drop(t) YIELD pipelineInfo\n",
    "RETURN pipelineInfo\n",
    "\"\"\"\n",
    "\n",
    "graph.query_run(query_pipeline_drop_all, {})\n",
    "graph.query_run(query_graph_drop_all, {})"
   ]
  },
  {
   "cell_type": "code",
   "execution_count": 3,
   "metadata": {},
   "outputs": [],
   "source": [
    "def run_link_prediction_pipeline(pipe_name, lp_pipeline_model, model):\n",
    "  \n",
    "    query1 = f\"\"\"CALL gds.beta.pipeline.linkPrediction.create('{pipe_name}')\"\"\"\n",
    "\n",
    "    query2 = f\"\"\"CALL gds.beta.pipeline.linkPrediction.addNodeProperty('{pipe_name}', 'fastRP', {{\n",
    "      mutateProperty: 'embedding',\n",
    "      embeddingDimension: 256,\n",
    "      randomSeed: 42\n",
    "    }})\"\"\"\n",
    "\n",
    "    query3 = f\"\"\"CALL gds.beta.pipeline.linkPrediction.addFeature('{pipe_name}', 'hadamard', {{\n",
    "      nodeProperties: ['embedding']\n",
    "    }}) YIELD featureSteps\"\"\"\n",
    "\n",
    "    query4 = f\"\"\"CALL gds.beta.pipeline.linkPrediction.configureSplit('{pipe_name}', {{\n",
    "      testFraction: 0.25,\n",
    "      trainFraction: 0.6,\n",
    "      validationFolds: 3\n",
    "    }})\n",
    "    YIELD splitConfig\"\"\"\n",
    "\n",
    "    if model == \"LogisticRegression\":\n",
    "        query5 = f\"\"\"\n",
    "        CALL gds.beta.pipeline.linkPrediction.addLogisticRegression('{pipe_name}', {{maxEpochs: 500, penalty: 0.01}})\n",
    "        YIELD parameterSpace\n",
    "        RETURN parameterSpace.RandomForest AS randomForestSpace, parameterSpace.LogisticRegression AS logisticRegressionSpace, parameterSpace.MultilayerPerceptron AS MultilayerPerceptronSpace\n",
    "        \"\"\"\n",
    "    elif model == \"RandomForest\":\n",
    "        query5 = f\"\"\"\n",
    "        CALL gds.beta.pipeline.linkPrediction.addRandomForest('{pipe_name}', {{maxDepth: 10, numberOfDecisionTrees: 10}})\n",
    "        YIELD parameterSpace\n",
    "        RETURN parameterSpace.RandomForest AS randomForestSpace, parameterSpace.LogisticRegression AS logisticRegressionSpace, parameterSpace.MultilayerPerceptron AS MultilayerPerceptronSpace\n",
    "        \"\"\"\n",
    "    else:\n",
    "        query5 = f\"\"\"\n",
    "        CALL gds.alpha.pipeline.linkPrediction.addMLP('{pipe_name}', {{\n",
    "          hiddenLayerSizes : [4, 2], \n",
    "          penalty: 0.5, \n",
    "          patience: 2, \n",
    "          classWeights: [0.55, 0.45], \n",
    "          focusWeight: 0.1\n",
    "        }}) YIELD parameterSpace\n",
    "        RETURN parameterSpace.RandomForest AS randomForestSpace, parameterSpace.LogisticRegression AS logisticRegressionSpace, parameterSpace.MultilayerPerceptron AS MultilayerPerceptronSpace\n",
    "        \"\"\"\n",
    "\n",
    "    query6 = f\"\"\"CALL gds.beta.pipeline.linkPrediction.configureAutoTuning('{pipe_name}', {{\n",
    "      maxTrials: 2\n",
    "    }}) YIELD autoTuningConfig\"\"\"\n",
    "\n",
    "    query7 = \"\"\" \n",
    "    CALL gds.graph.project(\n",
    "      'myGraph',\n",
    "      'Company',\n",
    "      {\n",
    "        SUPPLIES_TO: {\n",
    "          orientation: 'UNDIRECTED'\n",
    "        }\n",
    "      }\n",
    "    )\n",
    "    \"\"\"\n",
    "\n",
    "    query8 = f\"\"\"\n",
    "    CALL gds.beta.pipeline.linkPrediction.train.estimate('myGraph', \n",
    "      {{\n",
    "        pipeline: '{pipe_name}', \n",
    "        modelName: '{lp_pipeline_model}',\n",
    "        targetRelationshipType: 'SUPPLIES_TO' \n",
    "      }}\n",
    "    )\n",
    "    YIELD requiredMemory\n",
    "    \"\"\"\n",
    "\n",
    "    query9 = f\"\"\"CALL gds.beta.pipeline.linkPrediction.train('myGraph', \n",
    "    {{\n",
    "      pipeline: '{pipe_name}',\n",
    "      modelName: '{lp_pipeline_model}',\n",
    "      randomSeed: 12,\n",
    "      targetRelationshipType: 'SUPPLIES_TO' \n",
    "      }}) \n",
    "    YIELD modelInfo, modelSelectionStats\n",
    "    RETURN\n",
    "      modelInfo.bestParameters AS winningModel,\n",
    "      modelInfo.metrics.AUCPR.train.avg AS avgTrainScore,\n",
    "      modelInfo.metrics.AUCPR.outerTrain AS outerTrainScore,\n",
    "      modelInfo.metrics.AUCPR.test AS testScore,\n",
    "      [cand IN modelSelectionStats.modelCandidates | cand.metrics.AUCPR.validation.avg] AS validationScores\n",
    "    \"\"\"\n",
    "\n",
    "    query12 = f\"\"\" \n",
    "    CALL gds.beta.model.drop('{lp_pipeline_model}')\n",
    "    \"\"\"\n",
    "\n",
    "    query10 = f\"\"\" \n",
    "    CALL gds.beta.pipeline.drop('{pipe_name}')\n",
    "    \"\"\"\n",
    "\n",
    "    query11 = \"\"\"\n",
    "    CALL gds.graph.drop('myGraph')\n",
    "    \"\"\"\n",
    "\n",
    "    graph.query_run(query1, {})\n",
    "    graph.query_run(query2, {})\n",
    "    graph.query_run(query3, {})\n",
    "    graph.query_run(query4, {})\n",
    "    graph.query_run(query5, {})\n",
    "    # graph.query_run(query6, {})\n",
    "    graph.query_run(query7, {})\n",
    "    graph.query_run(query8, {})\n",
    "    graph.query_run(query9, {})\n",
    "    graph.query_run(query10, {})\n",
    "    graph.query_run(query11, {})\n",
    "    graph.query_run(query12, {})\n",
    "\n",
    "\n"
   ]
  },
  {
   "cell_type": "code",
   "execution_count": 4,
   "metadata": {},
   "outputs": [
    {
     "name": "stdout",
     "output_type": "stream",
     "text": [
      "[{'name': 'pipe1', 'nodePropertySteps': [], 'featureSteps': [], 'splitConfig': {'negativeSamplingRatio': 1.0, 'testFraction': 0.1, 'validationFolds': 3, 'trainFraction': 0.1}, 'autoTuningConfig': {'maxTrials': 10}, 'parameterSpace': {'MultilayerPerceptron': [], 'RandomForest': [], 'LogisticRegression': []}}]\n",
      "[{'name': 'pipe1', 'nodePropertySteps': [{'name': 'gds.fastRP.mutate', 'config': {'randomSeed': 42, 'contextRelationshipTypes': [], 'embeddingDimension': 256, 'contextNodeLabels': [], 'mutateProperty': 'embedding'}}], 'featureSteps': [], 'splitConfig': {'negativeSamplingRatio': 1.0, 'testFraction': 0.1, 'validationFolds': 3, 'trainFraction': 0.1}, 'autoTuningConfig': {'maxTrials': 10}, 'parameterSpace': {'MultilayerPerceptron': [], 'RandomForest': [], 'LogisticRegression': []}}]\n",
      "[{'featureSteps': [{'name': 'HADAMARD', 'config': {'nodeProperties': ['embedding']}}]}]\n",
      "[{'splitConfig': {'negativeSamplingRatio': 1.0, 'testFraction': 0.25, 'validationFolds': 3, 'trainFraction': 0.6}}]\n",
      "[{'randomForestSpace': [], 'logisticRegressionSpace': [{'maxEpochs': 500, 'minEpochs': 1, 'classWeights': [], 'penalty': 0.01, 'patience': 1, 'methodName': 'LogisticRegression', 'focusWeight': 0.0, 'batchSize': 100, 'tolerance': 0.001, 'learningRate': 0.001}], 'MultilayerPerceptronSpace': []}]\n",
      "[{'nodeProjection': {'Company': {'label': 'Company', 'properties': {}}}, 'relationshipProjection': {'SUPPLIES_TO': {'orientation': 'UNDIRECTED', 'indexInverse': False, 'aggregation': 'DEFAULT', 'type': 'SUPPLIES_TO', 'properties': {}}}, 'graphName': 'myGraph', 'nodeCount': 195923, 'relationshipCount': 467504, 'projectMillis': 45}]\n",
      "[{'requiredMemory': '[591 MiB ... 817 MiB]'}]\n",
      "[{'winningModel': {'maxEpochs': 500, 'minEpochs': 1, 'classWeights': [], 'penalty': 0.01, 'patience': 1, 'methodName': 'LogisticRegression', 'focusWeight': 0.0, 'batchSize': 100, 'tolerance': 0.001, 'learningRate': 0.001}, 'avgTrainScore': 0.8264004199151823, 'outerTrainScore': 0.8263996341996576, 'testScore': 0.828813146542844, 'validationScores': [0.8264041420759932]}]\n",
      "[{'pipelineInfo': {'featurePipeline': {'nodePropertySteps': [{'name': 'gds.fastRP.mutate', 'config': {'randomSeed': 42, 'contextRelationshipTypes': [], 'embeddingDimension': 256, 'contextNodeLabels': [], 'mutateProperty': 'embedding'}}], 'featureSteps': [{'name': 'HADAMARD', 'config': {'nodeProperties': ['embedding']}}]}, 'splitConfig': {'negativeSamplingRatio': 1.0, 'testFraction': 0.25, 'validationFolds': 3, 'trainFraction': 0.6}, 'trainingParameterSpace': {'MultilayerPerceptron': [], 'RandomForest': [], 'LogisticRegression': [{'maxEpochs': 500, 'minEpochs': 1, 'classWeights': [], 'penalty': 0.01, 'patience': 1, 'methodName': 'LogisticRegression', 'focusWeight': 0.0, 'batchSize': 100, 'tolerance': 0.001, 'learningRate': 0.001}]}, 'autoTuningConfig': {'maxTrials': 10}}, 'pipelineName': 'pipe1', 'pipelineType': 'Link prediction training pipeline', 'creationTime': neo4j.time.DateTime(2023, 12, 4, 20, 10, 11, 209598100, tzinfo=<DstTzInfo 'Europe/Paris' CET+1:00:00 STD>)}]\n",
      "[{'graphName': 'myGraph', 'database': 'neo4j', 'memoryUsage': '', 'sizeInBytes': -1, 'nodeCount': 195923, 'relationshipCount': 467504, 'configuration': {'relationshipProjection': {'SUPPLIES_TO': {'orientation': 'UNDIRECTED', 'indexInverse': False, 'aggregation': 'DEFAULT', 'type': 'SUPPLIES_TO', 'properties': {}}}, 'jobId': '7c030e96-a207-4371-8782-cf6807c32110', 'nodeProjection': {'Company': {'label': 'Company', 'properties': {}}}, 'relationshipProperties': {}, 'creationTime': neo4j.time.DateTime(2023, 12, 4, 20, 10, 21, 449739600, tzinfo=<DstTzInfo 'Europe/Paris' CET+1:00:00 STD>), 'validateRelationships': False, 'logProgress': True, 'readConcurrency': 4, 'sudo': False, 'nodeProperties': {}}, 'density': 1.2179142263484909e-05, 'creationTime': neo4j.time.DateTime(2023, 12, 4, 20, 10, 21, 449739600, tzinfo=<DstTzInfo 'Europe/Paris' CET+1:00:00 STD>), 'modificationTime': neo4j.time.DateTime(2023, 12, 4, 20, 10, 28, 132863600, tzinfo=<DstTzInfo 'Europe/Paris' CET+1:00:00 STD>), 'schema': {'graphProperties': {}, 'relationships': {'SUPPLIES_TO': {}}, 'nodes': {'Company': {}}}, 'schemaWithOrientation': {'graphProperties': {}, 'relationships': {'SUPPLIES_TO': {'properties': {}, 'direction': 'UNDIRECTED'}}, 'nodes': {'Company': {}}}}]\n",
      "[{'modelInfo': {'pipeline': {'nodePropertySteps': [{'name': 'gds.fastRP.mutate', 'config': {'randomSeed': 42, 'contextRelationshipTypes': [], 'embeddingDimension': 256, 'contextNodeLabels': [], 'mutateProperty': 'embedding'}}], 'featureSteps': [{'name': 'HADAMARD', 'config': {'nodeProperties': ['embedding']}}]}, 'modelName': 'model1', 'nodePropertySteps': [{'name': 'gds.fastRP.mutate', 'config': {'randomSeed': 42, 'contextRelationshipTypes': [], 'embeddingDimension': 256, 'contextNodeLabels': [], 'mutateProperty': 'embedding'}}], 'featureSteps': [{'name': 'HADAMARD', 'config': {'nodeProperties': ['embedding']}}], 'modelType': 'LinkPrediction', 'metrics': {'AUCPR': {'test': 0.828813146542844, 'outerTrain': 0.8263996341996576, 'validation': {'avg': 0.8264041420759932, 'min': 0.8255079519229539, 'max': 0.8270351274758774}, 'train': {'avg': 0.8264004199151823, 'min': 0.8260867464587076, 'max': 0.8268487339434492}}}, 'bestParameters': {'maxEpochs': 500, 'minEpochs': 1, 'classWeights': [], 'penalty': 0.01, 'patience': 1, 'methodName': 'LogisticRegression', 'focusWeight': 0.0, 'batchSize': 100, 'tolerance': 0.001, 'learningRate': 0.001}}, 'trainConfig': {'targetNodeLabel': '*', 'targetRelationshipType': 'SUPPLIES_TO', 'concurrency': 4, 'pipeline': 'pipe1', 'randomSeed': 12, 'jobId': 'fd4e6f46-310f-49b4-bd67-9ce0f474f217', 'modelName': 'model1', 'graphName': 'myGraph', 'sourceNodeLabel': '*', 'negativeClassWeight': 1.0, 'storeModelToDisk': False, 'logProgress': True, 'metrics': ['AUCPR'], 'sudo': False}, 'graphSchema': {'graphProperties': {}, 'relationships': {'SUPPLIES_TO': {}}, 'nodes': {'Company': {}}}, 'loaded': True, 'stored': False, 'creationTime': neo4j.time.DateTime(2023, 12, 4, 20, 10, 28, 132863600, tzinfo=<DstTzInfo 'Europe/Paris' CET+1:00:00 STD>), 'shared': False}]\n"
     ]
    }
   ],
   "source": [
    "run_link_prediction_pipeline('pipe1', lp_pipeline_model= 'model1', model='LogisticRegression')"
   ]
  },
  {
   "cell_type": "code",
   "execution_count": 5,
   "metadata": {},
   "outputs": [
    {
     "name": "stdout",
     "output_type": "stream",
     "text": [
      "[{'name': 'pipe2', 'nodePropertySteps': [], 'featureSteps': [], 'splitConfig': {'negativeSamplingRatio': 1.0, 'testFraction': 0.1, 'validationFolds': 3, 'trainFraction': 0.1}, 'autoTuningConfig': {'maxTrials': 10}, 'parameterSpace': {'MultilayerPerceptron': [], 'RandomForest': [], 'LogisticRegression': []}}]\n",
      "[{'name': 'pipe2', 'nodePropertySteps': [{'name': 'gds.fastRP.mutate', 'config': {'randomSeed': 42, 'contextRelationshipTypes': [], 'embeddingDimension': 256, 'contextNodeLabels': [], 'mutateProperty': 'embedding'}}], 'featureSteps': [], 'splitConfig': {'negativeSamplingRatio': 1.0, 'testFraction': 0.1, 'validationFolds': 3, 'trainFraction': 0.1}, 'autoTuningConfig': {'maxTrials': 10}, 'parameterSpace': {'MultilayerPerceptron': [], 'RandomForest': [], 'LogisticRegression': []}}]\n",
      "[{'featureSteps': [{'name': 'HADAMARD', 'config': {'nodeProperties': ['embedding']}}]}]\n",
      "[{'splitConfig': {'negativeSamplingRatio': 1.0, 'testFraction': 0.25, 'validationFolds': 3, 'trainFraction': 0.6}}]\n",
      "[{'randomForestSpace': [{'maxDepth': 10, 'minLeafSize': 1, 'criterion': 'GINI', 'minSplitSize': 2, 'numberOfDecisionTrees': 10, 'methodName': 'RandomForest', 'numberOfSamplesRatio': 1.0}], 'logisticRegressionSpace': [], 'MultilayerPerceptronSpace': []}]\n",
      "[{'nodeProjection': {'Company': {'label': 'Company', 'properties': {}}}, 'relationshipProjection': {'SUPPLIES_TO': {'orientation': 'UNDIRECTED', 'indexInverse': False, 'aggregation': 'DEFAULT', 'type': 'SUPPLIES_TO', 'properties': {}}}, 'graphName': 'myGraph', 'nodeCount': 195923, 'relationshipCount': 467504, 'projectMillis': 52}]\n",
      "[{'requiredMemory': '[591 MiB ... 860 MiB]'}]\n",
      "[{'winningModel': {'maxDepth': 10, 'minLeafSize': 1, 'criterion': 'GINI', 'minSplitSize': 2, 'numberOfDecisionTrees': 10, 'methodName': 'RandomForest', 'numberOfSamplesRatio': 1.0}, 'avgTrainScore': 0.7860837700181177, 'outerTrainScore': 0.8834354073191881, 'testScore': 0.8733002277572067, 'validationScores': [0.7758820642422654]}]\n",
      "[{'pipelineInfo': {'featurePipeline': {'nodePropertySteps': [{'name': 'gds.fastRP.mutate', 'config': {'randomSeed': 42, 'contextRelationshipTypes': [], 'embeddingDimension': 256, 'contextNodeLabels': [], 'mutateProperty': 'embedding'}}], 'featureSteps': [{'name': 'HADAMARD', 'config': {'nodeProperties': ['embedding']}}]}, 'splitConfig': {'negativeSamplingRatio': 1.0, 'testFraction': 0.25, 'validationFolds': 3, 'trainFraction': 0.6}, 'trainingParameterSpace': {'MultilayerPerceptron': [], 'RandomForest': [{'maxDepth': 10, 'minLeafSize': 1, 'criterion': 'GINI', 'minSplitSize': 2, 'numberOfDecisionTrees': 10, 'methodName': 'RandomForest', 'numberOfSamplesRatio': 1.0}], 'LogisticRegression': []}, 'autoTuningConfig': {'maxTrials': 10}}, 'pipelineName': 'pipe2', 'pipelineType': 'Link prediction training pipeline', 'creationTime': neo4j.time.DateTime(2023, 12, 4, 20, 10, 36, 356176300, tzinfo=<DstTzInfo 'Europe/Paris' CET+1:00:00 STD>)}]\n",
      "[{'graphName': 'myGraph', 'database': 'neo4j', 'memoryUsage': '', 'sizeInBytes': -1, 'nodeCount': 195923, 'relationshipCount': 467504, 'configuration': {'relationshipProjection': {'SUPPLIES_TO': {'orientation': 'UNDIRECTED', 'indexInverse': False, 'aggregation': 'DEFAULT', 'type': 'SUPPLIES_TO', 'properties': {}}}, 'jobId': 'adc9e4e9-7745-4e4a-87ee-72bec01efffb', 'nodeProjection': {'Company': {'label': 'Company', 'properties': {}}}, 'relationshipProperties': {}, 'creationTime': neo4j.time.DateTime(2023, 12, 4, 20, 10, 46, 606409900, tzinfo=<DstTzInfo 'Europe/Paris' CET+1:00:00 STD>), 'validateRelationships': False, 'logProgress': True, 'readConcurrency': 4, 'sudo': False, 'nodeProperties': {}}, 'density': 1.2179142263484909e-05, 'creationTime': neo4j.time.DateTime(2023, 12, 4, 20, 10, 46, 606409900, tzinfo=<DstTzInfo 'Europe/Paris' CET+1:00:00 STD>), 'modificationTime': neo4j.time.DateTime(2023, 12, 4, 20, 16, 22, 357360500, tzinfo=<DstTzInfo 'Europe/Paris' CET+1:00:00 STD>), 'schema': {'graphProperties': {}, 'relationships': {'SUPPLIES_TO': {}}, 'nodes': {'Company': {}}}, 'schemaWithOrientation': {'graphProperties': {}, 'relationships': {'SUPPLIES_TO': {'properties': {}, 'direction': 'UNDIRECTED'}}, 'nodes': {'Company': {}}}}]\n",
      "[{'modelInfo': {'pipeline': {'nodePropertySteps': [{'name': 'gds.fastRP.mutate', 'config': {'randomSeed': 42, 'contextRelationshipTypes': [], 'embeddingDimension': 256, 'contextNodeLabels': [], 'mutateProperty': 'embedding'}}], 'featureSteps': [{'name': 'HADAMARD', 'config': {'nodeProperties': ['embedding']}}]}, 'modelName': 'model2', 'nodePropertySteps': [{'name': 'gds.fastRP.mutate', 'config': {'randomSeed': 42, 'contextRelationshipTypes': [], 'embeddingDimension': 256, 'contextNodeLabels': [], 'mutateProperty': 'embedding'}}], 'featureSteps': [{'name': 'HADAMARD', 'config': {'nodeProperties': ['embedding']}}], 'modelType': 'LinkPrediction', 'metrics': {'AUCPR': {'test': 0.8733002277572067, 'outerTrain': 0.8834354073191881, 'validation': {'avg': 0.7758820642422654, 'min': 0.7285525206949033, 'max': 0.8694317074932227}, 'train': {'avg': 0.7860837700181177, 'min': 0.7370234197860857, 'max': 0.8836659061370501}}}, 'bestParameters': {'maxDepth': 10, 'minLeafSize': 1, 'criterion': 'GINI', 'minSplitSize': 2, 'numberOfDecisionTrees': 10, 'methodName': 'RandomForest', 'numberOfSamplesRatio': 1.0}}, 'trainConfig': {'targetNodeLabel': '*', 'targetRelationshipType': 'SUPPLIES_TO', 'concurrency': 4, 'pipeline': 'pipe2', 'randomSeed': 12, 'jobId': '4b6f9fee-1849-4ce9-a5e6-4bc8bd28e6ab', 'modelName': 'model2', 'graphName': 'myGraph', 'sourceNodeLabel': '*', 'negativeClassWeight': 1.0, 'storeModelToDisk': False, 'logProgress': True, 'metrics': ['AUCPR'], 'sudo': False}, 'graphSchema': {'graphProperties': {}, 'relationships': {'SUPPLIES_TO': {}}, 'nodes': {'Company': {}}}, 'loaded': True, 'stored': False, 'creationTime': neo4j.time.DateTime(2023, 12, 4, 20, 16, 22, 357360500, tzinfo=<DstTzInfo 'Europe/Paris' CET+1:00:00 STD>), 'shared': False}]\n"
     ]
    }
   ],
   "source": [
    "run_link_prediction_pipeline('pipe2', lp_pipeline_model= 'model2', model='RandomForest')"
   ]
  },
  {
   "cell_type": "code",
   "execution_count": 6,
   "metadata": {},
   "outputs": [
    {
     "name": "stdout",
     "output_type": "stream",
     "text": [
      "[{'name': 'pipe3', 'nodePropertySteps': [], 'featureSteps': [], 'splitConfig': {'negativeSamplingRatio': 1.0, 'testFraction': 0.1, 'validationFolds': 3, 'trainFraction': 0.1}, 'autoTuningConfig': {'maxTrials': 10}, 'parameterSpace': {'MultilayerPerceptron': [], 'RandomForest': [], 'LogisticRegression': []}}]\n",
      "[{'name': 'pipe3', 'nodePropertySteps': [{'name': 'gds.fastRP.mutate', 'config': {'randomSeed': 42, 'contextRelationshipTypes': [], 'embeddingDimension': 256, 'contextNodeLabels': [], 'mutateProperty': 'embedding'}}], 'featureSteps': [], 'splitConfig': {'negativeSamplingRatio': 1.0, 'testFraction': 0.1, 'validationFolds': 3, 'trainFraction': 0.1}, 'autoTuningConfig': {'maxTrials': 10}, 'parameterSpace': {'MultilayerPerceptron': [], 'RandomForest': [], 'LogisticRegression': []}}]\n",
      "[{'featureSteps': [{'name': 'HADAMARD', 'config': {'nodeProperties': ['embedding']}}]}]\n",
      "[{'splitConfig': {'negativeSamplingRatio': 1.0, 'testFraction': 0.25, 'validationFolds': 3, 'trainFraction': 0.6}}]\n",
      "[{'randomForestSpace': [], 'logisticRegressionSpace': [], 'MultilayerPerceptronSpace': [{'maxEpochs': 100, 'minEpochs': 1, 'classWeights': [0.55, 0.45], 'penalty': 0.5, 'patience': 2, 'methodName': 'MultilayerPerceptron', 'focusWeight': 0.1, 'hiddenLayerSizes': [4, 2], 'batchSize': 100, 'tolerance': 0.001, 'learningRate': 0.001}]}]\n",
      "[{'nodeProjection': {'Company': {'label': 'Company', 'properties': {}}}, 'relationshipProjection': {'SUPPLIES_TO': {'orientation': 'UNDIRECTED', 'indexInverse': False, 'aggregation': 'DEFAULT', 'type': 'SUPPLIES_TO', 'properties': {}}}, 'graphName': 'myGraph', 'nodeCount': 195923, 'relationshipCount': 467504, 'projectMillis': 53}]\n",
      "[{'requiredMemory': '[591 MiB ... 817 MiB]'}]\n",
      "[{'winningModel': {'maxEpochs': 100, 'minEpochs': 1, 'classWeights': [0.55, 0.45], 'penalty': 0.5, 'patience': 2, 'methodName': 'MultilayerPerceptron', 'focusWeight': 0.1, 'hiddenLayerSizes': [4, 2], 'batchSize': 100, 'tolerance': 0.001, 'learningRate': 0.001}, 'avgTrainScore': 0.75, 'outerTrainScore': 0.75, 'testScore': 0.7494963177613361, 'validationScores': [0.75]}]\n",
      "[{'pipelineInfo': {'featurePipeline': {'nodePropertySteps': [{'name': 'gds.fastRP.mutate', 'config': {'randomSeed': 42, 'contextRelationshipTypes': [], 'embeddingDimension': 256, 'contextNodeLabels': [], 'mutateProperty': 'embedding'}}], 'featureSteps': [{'name': 'HADAMARD', 'config': {'nodeProperties': ['embedding']}}]}, 'splitConfig': {'negativeSamplingRatio': 1.0, 'testFraction': 0.25, 'validationFolds': 3, 'trainFraction': 0.6}, 'trainingParameterSpace': {'MultilayerPerceptron': [{'maxEpochs': 100, 'minEpochs': 1, 'classWeights': [0.55, 0.45], 'penalty': 0.5, 'patience': 2, 'methodName': 'MultilayerPerceptron', 'focusWeight': 0.1, 'hiddenLayerSizes': [4, 2], 'batchSize': 100, 'tolerance': 0.001, 'learningRate': 0.001}], 'RandomForest': [], 'LogisticRegression': []}, 'autoTuningConfig': {'maxTrials': 10}}, 'pipelineName': 'pipe3', 'pipelineType': 'Link prediction training pipeline', 'creationTime': neo4j.time.DateTime(2023, 12, 4, 20, 16, 30, 585552500, tzinfo=<DstTzInfo 'Europe/Paris' CET+1:00:00 STD>)}]\n",
      "[{'graphName': 'myGraph', 'database': 'neo4j', 'memoryUsage': '', 'sizeInBytes': -1, 'nodeCount': 195923, 'relationshipCount': 467504, 'configuration': {'relationshipProjection': {'SUPPLIES_TO': {'orientation': 'UNDIRECTED', 'indexInverse': False, 'aggregation': 'DEFAULT', 'type': 'SUPPLIES_TO', 'properties': {}}}, 'jobId': 'c0582ea8-9d92-4442-8fbe-93cf51868baa', 'nodeProjection': {'Company': {'label': 'Company', 'properties': {}}}, 'relationshipProperties': {}, 'creationTime': neo4j.time.DateTime(2023, 12, 4, 20, 16, 40, 795510300, tzinfo=<DstTzInfo 'Europe/Paris' CET+1:00:00 STD>), 'validateRelationships': False, 'logProgress': True, 'readConcurrency': 4, 'sudo': False, 'nodeProperties': {}}, 'density': 1.2179142263484909e-05, 'creationTime': neo4j.time.DateTime(2023, 12, 4, 20, 16, 40, 795510300, tzinfo=<DstTzInfo 'Europe/Paris' CET+1:00:00 STD>), 'modificationTime': neo4j.time.DateTime(2023, 12, 4, 20, 16, 49, 447140900, tzinfo=<DstTzInfo 'Europe/Paris' CET+1:00:00 STD>), 'schema': {'graphProperties': {}, 'relationships': {'SUPPLIES_TO': {}}, 'nodes': {'Company': {}}}, 'schemaWithOrientation': {'graphProperties': {}, 'relationships': {'SUPPLIES_TO': {'properties': {}, 'direction': 'UNDIRECTED'}}, 'nodes': {'Company': {}}}}]\n",
      "[{'modelInfo': {'pipeline': {'nodePropertySteps': [{'name': 'gds.fastRP.mutate', 'config': {'randomSeed': 42, 'contextRelationshipTypes': [], 'embeddingDimension': 256, 'contextNodeLabels': [], 'mutateProperty': 'embedding'}}], 'featureSteps': [{'name': 'HADAMARD', 'config': {'nodeProperties': ['embedding']}}]}, 'modelName': 'model3', 'nodePropertySteps': [{'name': 'gds.fastRP.mutate', 'config': {'randomSeed': 42, 'contextRelationshipTypes': [], 'embeddingDimension': 256, 'contextNodeLabels': [], 'mutateProperty': 'embedding'}}], 'featureSteps': [{'name': 'HADAMARD', 'config': {'nodeProperties': ['embedding']}}], 'modelType': 'LinkPrediction', 'metrics': {'AUCPR': {'test': 0.7494963177613361, 'outerTrain': 0.75, 'validation': {'avg': 0.75, 'min': 0.749996393901366, 'max': 0.750003606098634}, 'train': {'avg': 0.75, 'min': 0.7499981969636869, 'max': 0.7500018030363131}}}, 'bestParameters': {'maxEpochs': 100, 'minEpochs': 1, 'classWeights': [0.55, 0.45], 'penalty': 0.5, 'patience': 2, 'methodName': 'MultilayerPerceptron', 'focusWeight': 0.1, 'hiddenLayerSizes': [4, 2], 'batchSize': 100, 'tolerance': 0.001, 'learningRate': 0.001}}, 'trainConfig': {'targetNodeLabel': '*', 'targetRelationshipType': 'SUPPLIES_TO', 'concurrency': 4, 'pipeline': 'pipe3', 'randomSeed': 12, 'jobId': 'ba33c9bd-8d79-4dab-90cc-db5922a4d636', 'modelName': 'model3', 'graphName': 'myGraph', 'sourceNodeLabel': '*', 'negativeClassWeight': 1.0, 'storeModelToDisk': False, 'logProgress': True, 'metrics': ['AUCPR'], 'sudo': False}, 'graphSchema': {'graphProperties': {}, 'relationships': {'SUPPLIES_TO': {}}, 'nodes': {'Company': {}}}, 'loaded': True, 'stored': False, 'creationTime': neo4j.time.DateTime(2023, 12, 4, 20, 16, 49, 447140900, tzinfo=<DstTzInfo 'Europe/Paris' CET+1:00:00 STD>), 'shared': False}]\n"
     ]
    }
   ],
   "source": [
    "run_link_prediction_pipeline('pipe3', lp_pipeline_model= 'model3', model='MultilayerPerceptron')"
   ]
  },
  {
   "cell_type": "code",
   "execution_count": 7,
   "metadata": {},
   "outputs": [],
   "source": [
    "# query12 = \"\"\" \n",
    "# CALL gds.beta.model.drop('model2')\n",
    "# \"\"\"\n",
    "\n",
    "# query10 = \"\"\" \n",
    "# CALL gds.beta.pipeline.drop('pipe3')\n",
    "# YIELD pipelineName, pipelineType\n",
    "# \"\"\"\n",
    "\n",
    "# query11 = \"\"\"\n",
    "# CALL gds.graph.drop('myGraph') YIELD graphName;\n",
    "# \"\"\"\n",
    "\n",
    "# # graph.query_run(query12,{})\n",
    "# graph.query_run(query10,{})\n",
    "# graph.query_run(query11,{})"
   ]
  },
  {
   "cell_type": "code",
   "execution_count": null,
   "metadata": {},
   "outputs": [],
   "source": []
  }
 ],
 "metadata": {
  "kernelspec": {
   "display_name": "thesis",
   "language": "python",
   "name": "python3"
  },
  "language_info": {
   "codemirror_mode": {
    "name": "ipython",
    "version": 3
   },
   "file_extension": ".py",
   "mimetype": "text/x-python",
   "name": "python",
   "nbconvert_exporter": "python",
   "pygments_lexer": "ipython3",
   "version": "3.10.11"
  },
  "orig_nbformat": 4
 },
 "nbformat": 4,
 "nbformat_minor": 2
}
