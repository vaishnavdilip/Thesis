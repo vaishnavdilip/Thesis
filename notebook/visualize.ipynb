{
 "cells": [
  {
   "cell_type": "code",
   "execution_count": 1,
   "metadata": {},
   "outputs": [],
   "source": [
    "import geopandas as gpd\n",
    "from shapely.geometry import Point\n",
    "import matplotlib.pyplot as plt\n",
    "from py2neo import Graph"
   ]
  },
  {
   "cell_type": "code",
   "execution_count": 2,
   "metadata": {},
   "outputs": [],
   "source": [
    "\n",
    "# Sample data: latitude, longitude, and some additional information\n",
    "data = {\n",
    "    'Latitude': [37.7749, 34.0522, 40.7128, 41.8781],\n",
    "    'Longitude': [-122.4194, -118.2437, -74.0060, -87.6298],\n",
    "    'City': ['San Francisco', 'Los Angeles', 'New York', 'Chicago']\n",
    "}"
   ]
  },
  {
   "cell_type": "code",
   "execution_count": 3,
   "metadata": {},
   "outputs": [],
   "source": [
    "graph = Graph('bolt://localhost:7687', auth = ('neo4j', 'neo4jneo4j'))"
   ]
  },
  {
   "cell_type": "code",
   "execution_count": 4,
   "metadata": {},
   "outputs": [],
   "source": [
    "company_name = \"Millicom International Cellular SA\""
   ]
  },
  {
   "cell_type": "code",
   "execution_count": 5,
   "metadata": {},
   "outputs": [],
   "source": [
    "query = f\"\"\"\n",
    "MATCH (c:Company)\n",
    "RETURN c.name as name, c.point.latitude as lat, c.point.longitude as long\n",
    "LIMIT 20\n",
    "\"\"\"\n",
    "\n",
    "query2= f\"\"\"\n",
    "MATCH (s: Company {{name: \"{company_name}\"}})-[r]->(t)\n",
    "RETURN s as source, type(r) as relation, t as target, labels(t) as target_type\n",
    "\"\"\""
   ]
  },
  {
   "cell_type": "code",
   "execution_count": 6,
   "metadata": {},
   "outputs": [],
   "source": [
    "a = graph.run(query2).to_data_frame()"
   ]
  },
  {
   "cell_type": "code",
   "execution_count": 7,
   "metadata": {},
   "outputs": [
    {
     "data": {
      "text/html": [
       "<div>\n",
       "<style scoped>\n",
       "    .dataframe tbody tr th:only-of-type {\n",
       "        vertical-align: middle;\n",
       "    }\n",
       "\n",
       "    .dataframe tbody tr th {\n",
       "        vertical-align: top;\n",
       "    }\n",
       "\n",
       "    .dataframe thead th {\n",
       "        text-align: right;\n",
       "    }\n",
       "</style>\n",
       "<table border=\"1\" class=\"dataframe\">\n",
       "  <thead>\n",
       "    <tr style=\"text-align: right;\">\n",
       "      <th></th>\n",
       "      <th>source</th>\n",
       "      <th>relation</th>\n",
       "      <th>target</th>\n",
       "      <th>target_type</th>\n",
       "    </tr>\n",
       "  </thead>\n",
       "  <tbody>\n",
       "    <tr>\n",
       "      <th>0</th>\n",
       "      <td>{'location_street1': '2, rue du Fort Bourbon',...</td>\n",
       "      <td>COMPETES</td>\n",
       "      <td>{'location_street1': '1550 Wewatta Street', 'c...</td>\n",
       "      <td>[Company]</td>\n",
       "    </tr>\n",
       "    <tr>\n",
       "      <th>1</th>\n",
       "      <td>{'location_street1': '2, rue du Fort Bourbon',...</td>\n",
       "      <td>COMPETES</td>\n",
       "      <td>{'location_street1': 'Lago Zurich 245', 'code'...</td>\n",
       "      <td>[Company]</td>\n",
       "    </tr>\n",
       "    <tr>\n",
       "      <th>2</th>\n",
       "      <td>{'location_street1': '2, rue du Fort Bourbon',...</td>\n",
       "      <td>COMPETES</td>\n",
       "      <td>{'location_street1': 'Distrito Telefónica', 'c...</td>\n",
       "      <td>[Company]</td>\n",
       "    </tr>\n",
       "    <tr>\n",
       "      <th>3</th>\n",
       "      <td>{'location_street1': '2, rue du Fort Bourbon',...</td>\n",
       "      <td>ULTIMATE_PARENT_OF</td>\n",
       "      <td>{'code': '61.10', 'location_street1': 'Mwai Ki...</td>\n",
       "      <td>[Company]</td>\n",
       "    </tr>\n",
       "    <tr>\n",
       "      <th>4</th>\n",
       "      <td>{'location_street1': '2, rue du Fort Bourbon',...</td>\n",
       "      <td>ULTIMATE_PARENT_OF</td>\n",
       "      <td>{'location_street1': 'Carrera 16 No.11A Sur-10...</td>\n",
       "      <td>[Company]</td>\n",
       "    </tr>\n",
       "    <tr>\n",
       "      <th>5</th>\n",
       "      <td>{'location_street1': '2, rue du Fort Bourbon',...</td>\n",
       "      <td>ULTIMATE_PARENT_OF</td>\n",
       "      <td>{'location_street1': 'AV CL 26 N. 92 - 32', 'c...</td>\n",
       "      <td>[Company]</td>\n",
       "    </tr>\n",
       "    <tr>\n",
       "      <th>6</th>\n",
       "      <td>{'location_street1': '2, rue du Fort Bourbon',...</td>\n",
       "      <td>ULTIMATE_PARENT_OF</td>\n",
       "      <td>{'name': 'Contact Center Americas SA', 'countr...</td>\n",
       "      <td>[Company]</td>\n",
       "    </tr>\n",
       "    <tr>\n",
       "      <th>7</th>\n",
       "      <td>{'location_street1': '2, rue du Fort Bourbon',...</td>\n",
       "      <td>ULTIMATE_PARENT_OF</td>\n",
       "      <td>{'location_street1': 'Business Park', 'code': ...</td>\n",
       "      <td>[Company]</td>\n",
       "    </tr>\n",
       "    <tr>\n",
       "      <th>8</th>\n",
       "      <td>{'location_street1': '2, rue du Fort Bourbon',...</td>\n",
       "      <td>PARTNERS</td>\n",
       "      <td>{'location_street1': 'Landsvägen 40', 'code': ...</td>\n",
       "      <td>[Company]</td>\n",
       "    </tr>\n",
       "    <tr>\n",
       "      <th>9</th>\n",
       "      <td>{'location_street1': '2, rue du Fort Bourbon',...</td>\n",
       "      <td>PARTNERS</td>\n",
       "      <td>{'code': '66.30', 'location_street1': '6410 Po...</td>\n",
       "      <td>[Company]</td>\n",
       "    </tr>\n",
       "    <tr>\n",
       "      <th>10</th>\n",
       "      <td>{'location_street1': '2, rue du Fort Bourbon',...</td>\n",
       "      <td>PARTNERS</td>\n",
       "      <td>{'location_street1': 'Alexander House', 'code'...</td>\n",
       "      <td>[Company]</td>\n",
       "    </tr>\n",
       "    <tr>\n",
       "      <th>11</th>\n",
       "      <td>{'location_street1': '2, rue du Fort Bourbon',...</td>\n",
       "      <td>PARTNERS</td>\n",
       "      <td>{'location_street1': '12A-13 Cumberland Mansio...</td>\n",
       "      <td>[Company]</td>\n",
       "    </tr>\n",
       "    <tr>\n",
       "      <th>12</th>\n",
       "      <td>{'location_street1': '2, rue du Fort Bourbon',...</td>\n",
       "      <td>PARTNERS</td>\n",
       "      <td>{'location_street1': '555 California Street', ...</td>\n",
       "      <td>[Company]</td>\n",
       "    </tr>\n",
       "    <tr>\n",
       "      <th>13</th>\n",
       "      <td>{'location_street1': '2, rue du Fort Bourbon',...</td>\n",
       "      <td>PARTNERS</td>\n",
       "      <td>{'location_street1': 'Skeppsbron 18', 'code': ...</td>\n",
       "      <td>[Company]</td>\n",
       "    </tr>\n",
       "    <tr>\n",
       "      <th>14</th>\n",
       "      <td>{'location_street1': '2, rue du Fort Bourbon',...</td>\n",
       "      <td>SUPPLIES_TO</td>\n",
       "      <td>{'location_street1': 'Vodacom Tower, Ursino Es...</td>\n",
       "      <td>[Company]</td>\n",
       "    </tr>\n",
       "    <tr>\n",
       "      <th>15</th>\n",
       "      <td>{'location_street1': '2, rue du Fort Bourbon',...</td>\n",
       "      <td>SUPPLIES_TO</td>\n",
       "      <td>{'location_street1': '155-108th Avenue NE', 'c...</td>\n",
       "      <td>[Company]</td>\n",
       "    </tr>\n",
       "    <tr>\n",
       "      <th>16</th>\n",
       "      <td>{'location_street1': '2, rue du Fort Bourbon',...</td>\n",
       "      <td>IN_INDUSTRY</td>\n",
       "      <td>{'name': 'Wireless Telecommunications'}</td>\n",
       "      <td>[Industry]</td>\n",
       "    </tr>\n",
       "    <tr>\n",
       "      <th>17</th>\n",
       "      <td>{'location_street1': '2, rue du Fort Bourbon',...</td>\n",
       "      <td>IN_COUNTRY</td>\n",
       "      <td>{'country': 'Luxembourg'}</td>\n",
       "      <td>[Country]</td>\n",
       "    </tr>\n",
       "  </tbody>\n",
       "</table>\n",
       "</div>"
      ],
      "text/plain": [
       "                                               source            relation  \\\n",
       "0   {'location_street1': '2, rue du Fort Bourbon',...            COMPETES   \n",
       "1   {'location_street1': '2, rue du Fort Bourbon',...            COMPETES   \n",
       "2   {'location_street1': '2, rue du Fort Bourbon',...            COMPETES   \n",
       "3   {'location_street1': '2, rue du Fort Bourbon',...  ULTIMATE_PARENT_OF   \n",
       "4   {'location_street1': '2, rue du Fort Bourbon',...  ULTIMATE_PARENT_OF   \n",
       "5   {'location_street1': '2, rue du Fort Bourbon',...  ULTIMATE_PARENT_OF   \n",
       "6   {'location_street1': '2, rue du Fort Bourbon',...  ULTIMATE_PARENT_OF   \n",
       "7   {'location_street1': '2, rue du Fort Bourbon',...  ULTIMATE_PARENT_OF   \n",
       "8   {'location_street1': '2, rue du Fort Bourbon',...            PARTNERS   \n",
       "9   {'location_street1': '2, rue du Fort Bourbon',...            PARTNERS   \n",
       "10  {'location_street1': '2, rue du Fort Bourbon',...            PARTNERS   \n",
       "11  {'location_street1': '2, rue du Fort Bourbon',...            PARTNERS   \n",
       "12  {'location_street1': '2, rue du Fort Bourbon',...            PARTNERS   \n",
       "13  {'location_street1': '2, rue du Fort Bourbon',...            PARTNERS   \n",
       "14  {'location_street1': '2, rue du Fort Bourbon',...         SUPPLIES_TO   \n",
       "15  {'location_street1': '2, rue du Fort Bourbon',...         SUPPLIES_TO   \n",
       "16  {'location_street1': '2, rue du Fort Bourbon',...         IN_INDUSTRY   \n",
       "17  {'location_street1': '2, rue du Fort Bourbon',...          IN_COUNTRY   \n",
       "\n",
       "                                               target target_type  \n",
       "0   {'location_street1': '1550 Wewatta Street', 'c...   [Company]  \n",
       "1   {'location_street1': 'Lago Zurich 245', 'code'...   [Company]  \n",
       "2   {'location_street1': 'Distrito Telefónica', 'c...   [Company]  \n",
       "3   {'code': '61.10', 'location_street1': 'Mwai Ki...   [Company]  \n",
       "4   {'location_street1': 'Carrera 16 No.11A Sur-10...   [Company]  \n",
       "5   {'location_street1': 'AV CL 26 N. 92 - 32', 'c...   [Company]  \n",
       "6   {'name': 'Contact Center Americas SA', 'countr...   [Company]  \n",
       "7   {'location_street1': 'Business Park', 'code': ...   [Company]  \n",
       "8   {'location_street1': 'Landsvägen 40', 'code': ...   [Company]  \n",
       "9   {'code': '66.30', 'location_street1': '6410 Po...   [Company]  \n",
       "10  {'location_street1': 'Alexander House', 'code'...   [Company]  \n",
       "11  {'location_street1': '12A-13 Cumberland Mansio...   [Company]  \n",
       "12  {'location_street1': '555 California Street', ...   [Company]  \n",
       "13  {'location_street1': 'Skeppsbron 18', 'code': ...   [Company]  \n",
       "14  {'location_street1': 'Vodacom Tower, Ursino Es...   [Company]  \n",
       "15  {'location_street1': '155-108th Avenue NE', 'c...   [Company]  \n",
       "16            {'name': 'Wireless Telecommunications'}  [Industry]  \n",
       "17                          {'country': 'Luxembourg'}   [Country]  "
      ]
     },
     "execution_count": 7,
     "metadata": {},
     "output_type": "execute_result"
    }
   ],
   "source": [
    "a"
   ]
  },
  {
   "cell_type": "code",
   "execution_count": 8,
   "metadata": {},
   "outputs": [],
   "source": [
    "a['target_type'] = [''.join(map(str, l)) for l in a['target_type']]\n"
   ]
  },
  {
   "cell_type": "code",
   "execution_count": 9,
   "metadata": {},
   "outputs": [],
   "source": [
    "a = a.loc[a.target_type=='Company']"
   ]
  },
  {
   "cell_type": "code",
   "execution_count": 20,
   "metadata": {},
   "outputs": [],
   "source": [
    "source = {\n",
    "    'Latitude': list(set(a['source'].apply(lambda x: x['point'].latitude))),\n",
    "    'Longitude': list(set(a['source'].apply(lambda x: x['point'].longitude))),\n",
    "    'Name': list(set(a['source'].apply(lambda x: x['name']))),\n",
    "    'Type': ['SOURCE']\n",
    "}"
   ]
  },
  {
   "cell_type": "code",
   "execution_count": 21,
   "metadata": {},
   "outputs": [],
   "source": [
    "# data = {\n",
    "#     'Latitude':list(a.lat),\n",
    "#     'Longitude':list(a.long),\n",
    "#     'Name':list(a.name),\n",
    "# }\n",
    "\n",
    "data = {\n",
    "    'Latitude' : list(a.target.apply(lambda x: x['point'].latitude)) + source['Latitude'],\n",
    "    'Longitude' : list(a.target.apply(lambda x: x['point'].longitude)) + source['Longitude'],\n",
    "    'Name': list(a.target.apply(lambda x: x['name'])) + source['Name'],\n",
    "    'Type': list(a.relation) + source['Type'],\n",
    "}"
   ]
  },
  {
   "cell_type": "code",
   "execution_count": 22,
   "metadata": {},
   "outputs": [
    {
     "name": "stderr",
     "output_type": "stream",
     "text": [
      "C:\\Users\\nikte\\AppData\\Local\\Temp\\ipykernel_5772\\3809391451.py:6: FutureWarning:\n",
      "\n",
      "The geopandas.dataset module is deprecated and will be removed in GeoPandas 1.0. You can get the original 'naturalearth_lowres' data from https://www.naturalearthdata.com/downloads/110m-cultural-vectors/.\n",
      "\n"
     ]
    },
    {
     "data": {
      "image/png": "[encoded data removed]",
      "text/plain": [
       "<Figure size 1000x600 with 1 Axes>"
      ]
     },
     "metadata": {},
     "output_type": "display_data"
    }
   ],
   "source": [
    "\n",
    "# Create a GeoDataFrame from the data\n",
    "geometry = [Point(lon, lat) for lon, lat in zip(data['Longitude'], data['Latitude'])]\n",
    "gdf = gpd.GeoDataFrame(data, geometry=geometry)\n",
    "\n",
    "# Load a world map using geopandas\n",
    "world = gpd.read_file(gpd.datasets.get_path('naturalearth_lowres'))\n",
    "\n",
    "# Plot the world map\n",
    "fig, ax = plt.subplots(figsize=(10, 6))\n",
    "world.plot(ax=ax, color='lightgreen')\n",
    "\n",
    "# Plot the points on the map\n",
    "gdf.plot(ax=ax, marker='o', color='red', markersize=50, alpha=0.5)\n",
    "\n",
    "# Annotate the points with city names\n",
    "for x, y, label in zip(gdf.geometry.x, gdf.geometry.y, gdf['Name']):\n",
    "    ax.text(x, y, label, fontsize=8)\n",
    "\n",
    "# Show the plot\n",
    "plt.title('Geographical Points Visualization')\n",
    "plt.show()\n"
   ]
  },
  {
   "cell_type": "code",
   "execution_count": 23,
   "metadata": {},
   "outputs": [
    {
     "data": {
      "text/html": [
       "<div>\n",
       "<style scoped>\n",
       "    .dataframe tbody tr th:only-of-type {\n",
       "        vertical-align: middle;\n",
       "    }\n",
       "\n",
       "    .dataframe tbody tr th {\n",
       "        vertical-align: top;\n",
       "    }\n",
       "\n",
       "    .dataframe thead th {\n",
       "        text-align: right;\n",
       "    }\n",
       "</style>\n",
       "<table border=\"1\" class=\"dataframe\">\n",
       "  <thead>\n",
       "    <tr style=\"text-align: right;\">\n",
       "      <th></th>\n",
       "      <th>Latitude</th>\n",
       "      <th>Longitude</th>\n",
       "      <th>Name</th>\n",
       "      <th>Type</th>\n",
       "      <th>geometry</th>\n",
       "    </tr>\n",
       "  </thead>\n",
       "  <tbody>\n",
       "    <tr>\n",
       "      <th>0</th>\n",
       "      <td>39.752471</td>\n",
       "      <td>-105.002570</td>\n",
       "      <td>Liberty Latin America Ltd.</td>\n",
       "      <td>COMPETES</td>\n",
       "      <td>POINT (-105.00257 39.75247)</td>\n",
       "    </tr>\n",
       "    <tr>\n",
       "      <th>1</th>\n",
       "      <td>19.443290</td>\n",
       "      <td>-99.202836</td>\n",
       "      <td>America Movil SAB de CV</td>\n",
       "      <td>COMPETES</td>\n",
       "      <td>POINT (-99.20284 19.44329)</td>\n",
       "    </tr>\n",
       "    <tr>\n",
       "      <th>2</th>\n",
       "      <td>40.514767</td>\n",
       "      <td>-3.663639</td>\n",
       "      <td>Telefónica SA</td>\n",
       "      <td>COMPETES</td>\n",
       "      <td>POINT (-3.66364 40.51477)</td>\n",
       "    </tr>\n",
       "    <tr>\n",
       "      <th>3</th>\n",
       "      <td>-5.934764</td>\n",
       "      <td>39.284276</td>\n",
       "      <td>Zanzibar Telecom Ltd.</td>\n",
       "      <td>ULTIMATE_PARENT_OF</td>\n",
       "      <td>POINT (39.28428 -5.93476)</td>\n",
       "    </tr>\n",
       "    <tr>\n",
       "      <th>4</th>\n",
       "      <td>6.244338</td>\n",
       "      <td>-75.573553</td>\n",
       "      <td>UNE EPM Telecomunicaciones SA</td>\n",
       "      <td>ULTIMATE_PARENT_OF</td>\n",
       "      <td>POINT (-75.57355 6.24434)</td>\n",
       "    </tr>\n",
       "    <tr>\n",
       "      <th>5</th>\n",
       "      <td>4.099917</td>\n",
       "      <td>-72.908813</td>\n",
       "      <td>Colombia Móvil SA ESP</td>\n",
       "      <td>ULTIMATE_PARENT_OF</td>\n",
       "      <td>POINT (-72.90881 4.09992)</td>\n",
       "    </tr>\n",
       "    <tr>\n",
       "      <th>6</th>\n",
       "      <td>4.099917</td>\n",
       "      <td>-72.908813</td>\n",
       "      <td>Contact Center Americas SA</td>\n",
       "      <td>ULTIMATE_PARENT_OF</td>\n",
       "      <td>POINT (-72.90881 4.09992)</td>\n",
       "    </tr>\n",
       "    <tr>\n",
       "      <th>7</th>\n",
       "      <td>9.013583</td>\n",
       "      <td>-79.481905</td>\n",
       "      <td>Cable Onda SA</td>\n",
       "      <td>ULTIMATE_PARENT_OF</td>\n",
       "      <td>POINT (-79.48190 9.01358)</td>\n",
       "    </tr>\n",
       "    <tr>\n",
       "      <th>8</th>\n",
       "      <td>59.358158</td>\n",
       "      <td>17.974802</td>\n",
       "      <td>Swedbank AB</td>\n",
       "      <td>PARTNERS</td>\n",
       "      <td>POINT (17.97480 59.35816)</td>\n",
       "    </tr>\n",
       "    <tr>\n",
       "      <th>9</th>\n",
       "      <td>35.100267</td>\n",
       "      <td>-89.850297</td>\n",
       "      <td>Southeastern Asset Management, Inc.</td>\n",
       "      <td>PARTNERS</td>\n",
       "      <td>POINT (-89.85030 35.10027)</td>\n",
       "    </tr>\n",
       "    <tr>\n",
       "      <th>10</th>\n",
       "      <td>-20.245763</td>\n",
       "      <td>57.494833</td>\n",
       "      <td>West Indian Ocean Cable Co.</td>\n",
       "      <td>PARTNERS</td>\n",
       "      <td>POINT (57.49483 -20.24576)</td>\n",
       "    </tr>\n",
       "    <tr>\n",
       "      <th>11</th>\n",
       "      <td>53.346883</td>\n",
       "      <td>-2.123010</td>\n",
       "      <td>Freemove Ltd.</td>\n",
       "      <td>PARTNERS</td>\n",
       "      <td>POINT (-2.12301 53.34688)</td>\n",
       "    </tr>\n",
       "    <tr>\n",
       "      <th>12</th>\n",
       "      <td>37.792113</td>\n",
       "      <td>-122.403957</td>\n",
       "      <td>Dodge &amp; Cox</td>\n",
       "      <td>PARTNERS</td>\n",
       "      <td>POINT (-122.40396 37.79211)</td>\n",
       "    </tr>\n",
       "    <tr>\n",
       "      <th>13</th>\n",
       "      <td>59.789234</td>\n",
       "      <td>18.300959</td>\n",
       "      <td>Milvik AB</td>\n",
       "      <td>PARTNERS</td>\n",
       "      <td>POINT (18.30096 59.78923)</td>\n",
       "    </tr>\n",
       "    <tr>\n",
       "      <th>14</th>\n",
       "      <td>-6.751590</td>\n",
       "      <td>39.278920</td>\n",
       "      <td>Vodacom Tanzania Ltd.</td>\n",
       "      <td>SUPPLIES_TO</td>\n",
       "      <td>POINT (39.27892 -6.75159)</td>\n",
       "    </tr>\n",
       "    <tr>\n",
       "      <th>15</th>\n",
       "      <td>47.611808</td>\n",
       "      <td>-122.196923</td>\n",
       "      <td>Trilogy International Partners, Inc.</td>\n",
       "      <td>SUPPLIES_TO</td>\n",
       "      <td>POINT (-122.19692 47.61181)</td>\n",
       "    </tr>\n",
       "    <tr>\n",
       "      <th>16</th>\n",
       "      <td>49.603695</td>\n",
       "      <td>6.133027</td>\n",
       "      <td>Millicom International Cellular SA</td>\n",
       "      <td>SOURCE</td>\n",
       "      <td>POINT (6.13303 49.60369)</td>\n",
       "    </tr>\n",
       "  </tbody>\n",
       "</table>\n",
       "</div>"
      ],
      "text/plain": [
       "     Latitude   Longitude                                  Name  \\\n",
       "0   39.752471 -105.002570            Liberty Latin America Ltd.   \n",
       "1   19.443290  -99.202836               America Movil SAB de CV   \n",
       "2   40.514767   -3.663639                         Telefónica SA   \n",
       "3   -5.934764   39.284276                 Zanzibar Telecom Ltd.   \n",
       "4    6.244338  -75.573553         UNE EPM Telecomunicaciones SA   \n",
       "5    4.099917  -72.908813                 Colombia Móvil SA ESP   \n",
       "6    4.099917  -72.908813            Contact Center Americas SA   \n",
       "7    9.013583  -79.481905                         Cable Onda SA   \n",
       "8   59.358158   17.974802                           Swedbank AB   \n",
       "9   35.100267  -89.850297   Southeastern Asset Management, Inc.   \n",
       "10 -20.245763   57.494833           West Indian Ocean Cable Co.   \n",
       "11  53.346883   -2.123010                         Freemove Ltd.   \n",
       "12  37.792113 -122.403957                           Dodge & Cox   \n",
       "13  59.789234   18.300959                             Milvik AB   \n",
       "14  -6.751590   39.278920                 Vodacom Tanzania Ltd.   \n",
       "15  47.611808 -122.196923  Trilogy International Partners, Inc.   \n",
       "16  49.603695    6.133027    Millicom International Cellular SA   \n",
       "\n",
       "                  Type                     geometry  \n",
       "0             COMPETES  POINT (-105.00257 39.75247)  \n",
       "1             COMPETES   POINT (-99.20284 19.44329)  \n",
       "2             COMPETES    POINT (-3.66364 40.51477)  \n",
       "3   ULTIMATE_PARENT_OF    POINT (39.28428 -5.93476)  \n",
       "4   ULTIMATE_PARENT_OF    POINT (-75.57355 6.24434)  \n",
       "5   ULTIMATE_PARENT_OF    POINT (-72.90881 4.09992)  \n",
       "6   ULTIMATE_PARENT_OF    POINT (-72.90881 4.09992)  \n",
       "7   ULTIMATE_PARENT_OF    POINT (-79.48190 9.01358)  \n",
       "8             PARTNERS    POINT (17.97480 59.35816)  \n",
       "9             PARTNERS   POINT (-89.85030 35.10027)  \n",
       "10            PARTNERS   POINT (57.49483 -20.24576)  \n",
       "11            PARTNERS    POINT (-2.12301 53.34688)  \n",
       "12            PARTNERS  POINT (-122.40396 37.79211)  \n",
       "13            PARTNERS    POINT (18.30096 59.78923)  \n",
       "14         SUPPLIES_TO    POINT (39.27892 -6.75159)  \n",
       "15         SUPPLIES_TO  POINT (-122.19692 47.61181)  \n",
       "16              SOURCE     POINT (6.13303 49.60369)  "
      ]
     },
     "execution_count": 23,
     "metadata": {},
     "output_type": "execute_result"
    }
   ],
   "source": [
    "gdf"
   ]
  },
  {
   "cell_type": "code",
   "execution_count": 40,
   "metadata": {},
   "outputs": [
    {
     "data": {
      "application/vnd.plotly.v1+json": {
       "config": {
        "plotlyServerURL": "https://plot.ly"
       },
       "data": [
        {
         "geo": "geo",
         "hovertemplate": "<b>%{hovertext}</b><br><br>Type=COMPETES<br>lat=%{lat}<br>lon=%{lon}<extra></extra>",
         "hovertext": [
          "Liberty Latin America Ltd.",
          "America Movil SAB de CV",
          "Telefónica SA"
         ],
         "lat": [
          39.752471,
          19.4432905,
          40.514766800000004
         ],
         "legendgroup": "COMPETES",
         "lon": [
          -105.00257,
          -99.2028355,
          -3.6636394865321593
         ],
         "marker": {
          "color": "#636efa",
          "symbol": "circle"
         },
         "mode": "markers",
         "name": "COMPETES",
         "showlegend": true,
         "type": "scattergeo"
        },
        {
         "geo": "geo",
         "hovertemplate": "<b>%{hovertext}</b><br><br>Type=ULTIMATE_PARENT_OF<br>lat=%{lat}<br>lon=%{lon}<extra></extra>",
         "hovertext": [
          "Zanzibar Telecom Ltd.",
          "UNE EPM Telecomunicaciones SA",
          "Colombia Móvil SA ESP",
          "Contact Center Americas SA",
          "Cable Onda SA"
         ],
         "lat": [
          -5.9347636,
          6.2443382,
          4.099917,
          4.099917,
          9.013583050000001
         ],
         "legendgroup": "ULTIMATE_PARENT_OF",
         "lon": [
          39.2842761,
          -75.573553,
          -72.9088133,
          -72.9088133,
          -79.48190475837737
         ],
         "marker": {
          "color": "#EF553B",
          "symbol": "diamond"
         },
         "mode": "markers",
         "name": "ULTIMATE_PARENT_OF",
         "showlegend": true,
         "type": "scattergeo"
        },
        {
         "geo": "geo",
         "hovertemplate": "<b>%{hovertext}</b><br><br>Type=PARTNERS<br>lat=%{lat}<br>lon=%{lon}<extra></extra>",
         "hovertext": [
          "Swedbank AB",
          "Southeastern Asset Management, Inc.",
          "West Indian Ocean Cable Co.",
          "Freemove Ltd.",
          "Dodge & Cox",
          "Milvik AB"
         ],
         "lat": [
          59.358158,
          35.100267,
          -20.2457628,
          53.3468831,
          37.7921129,
          59.7892344
         ],
         "legendgroup": "PARTNERS",
         "lon": [
          17.9748021,
          -89.850297,
          57.494833299999996,
          -2.1230105,
          -122.403957,
          18.3009593
         ],
         "marker": {
          "color": "#00cc96",
          "symbol": "square"
         },
         "mode": "markers",
         "name": "PARTNERS",
         "showlegend": true,
         "type": "scattergeo"
        },
        {
         "geo": "geo",
         "hovertemplate": "<b>%{hovertext}</b><br><br>Type=SUPPLIES_TO<br>lat=%{lat}<br>lon=%{lon}<extra></extra>",
         "hovertext": [
          "Vodacom Tanzania Ltd.",
          "Trilogy International Partners, Inc."
         ],
         "lat": [
          -6.7515898,
          47.6118079
         ],
         "legendgroup": "SUPPLIES_TO",
         "lon": [
          39.27891965478727,
          -122.196923
         ],
         "marker": {
          "color": "#ab63fa",
          "symbol": "x"
         },
         "mode": "markers",
         "name": "SUPPLIES_TO",
         "showlegend": true,
         "type": "scattergeo"
        },
        {
         "geo": "geo",
         "hovertemplate": "<b>%{hovertext}</b><br><br>Type=SOURCE<br>lat=%{lat}<br>lon=%{lon}<extra></extra>",
         "hovertext": [
          "Millicom International Cellular SA"
         ],
         "lat": [
          49.6036949
         ],
         "legendgroup": "SOURCE",
         "lon": [
          6.1330268
         ],
         "marker": {
          "color": "#FFA15A",
          "symbol": "cross"
         },
         "mode": "markers",
         "name": "SOURCE",
         "showlegend": true,
         "type": "scattergeo"
        }
       ],
       "layout": {
        "geo": {
         "center": {},
         "domain": {
          "x": [
           0,
           1
          ],
          "y": [
           0,
           1
          ]
         },
         "projection": {
          "type": "natural earth"
         },
         "scope": "world"
        },
        "legend": {
         "title": {
          "text": "Type"
         },
         "tracegroupgap": 0
        },
        "margin": {
         "t": 60
        },
        "template": {
         "data": {
          "bar": [
           {
            "error_x": {
             "color": "#2a3f5f"
            },
            "error_y": {
             "color": "#2a3f5f"
            },
            "marker": {
             "line": {
              "color": "#E5ECF6",
              "width": 0.5
             },
             "pattern": {
              "fillmode": "overlay",
              "size": 10,
              "solidity": 0.2
             }
            },
            "type": "bar"
           }
          ],
          "barpolar": [
           {
            "marker": {
             "line": {
              "color": "#E5ECF6",
              "width": 0.5
             },
             "pattern": {
              "fillmode": "overlay",
              "size": 10,
              "solidity": 0.2
             }
            },
            "type": "barpolar"
           }
          ],
          "carpet": [
           {
            "aaxis": {
             "endlinecolor": "#2a3f5f",
             "gridcolor": "white",
             "linecolor": "white",
             "minorgridcolor": "white",
             "startlinecolor": "#2a3f5f"
            },
            "baxis": {
             "endlinecolor": "#2a3f5f",
             "gridcolor": "white",
             "linecolor": "white",
             "minorgridcolor": "white",
             "startlinecolor": "#2a3f5f"
            },
            "type": "carpet"
           }
          ],
          "choropleth": [
           {
            "colorbar": {
             "outlinewidth": 0,
             "ticks": ""
            },
            "type": "choropleth"
           }
          ],
          "contour": [
           {
            "colorbar": {
             "outlinewidth": 0,
             "ticks": ""
            },
            "colorscale": [
             [
              0,
              "#0d0887"
             ],
             [
              0.1111111111111111,
              "#46039f"
             ],
             [
              0.2222222222222222,
              "#7201a8"
             ],
             [
              0.3333333333333333,
              "#9c179e"
             ],
             [
              0.4444444444444444,
              "#bd3786"
             ],
             [
              0.5555555555555556,
              "#d8576b"
             ],
             [
              0.6666666666666666,
              "#ed7953"
             ],
             [
              0.7777777777777778,
              "#fb9f3a"
             ],
             [
              0.8888888888888888,
              "#fdca26"
             ],
             [
              1,
              "#f0f921"
             ]
            ],
            "type": "contour"
           }
          ],
          "contourcarpet": [
           {
            "colorbar": {
             "outlinewidth": 0,
             "ticks": ""
            },
            "type": "contourcarpet"
           }
          ],
          "heatmap": [
           {
            "colorbar": {
             "outlinewidth": 0,
             "ticks": ""
            },
            "colorscale": [
             [
              0,
              "#0d0887"
             ],
             [
              0.1111111111111111,
              "#46039f"
             ],
             [
              0.2222222222222222,
              "#7201a8"
             ],
             [
              0.3333333333333333,
              "#9c179e"
             ],
             [
              0.4444444444444444,
              "#bd3786"
             ],
             [
              0.5555555555555556,
              "#d8576b"
             ],
             [
              0.6666666666666666,
              "#ed7953"
             ],
             [
              0.7777777777777778,
              "#fb9f3a"
             ],
             [
              0.8888888888888888,
              "#fdca26"
             ],
             [
              1,
              "#f0f921"
             ]
            ],
            "type": "heatmap"
           }
          ],
          "heatmapgl": [
           {
            "colorbar": {
             "outlinewidth": 0,
             "ticks": ""
            },
            "colorscale": [
             [
              0,
              "#0d0887"
             ],
             [
              0.1111111111111111,
              "#46039f"
             ],
             [
              0.2222222222222222,
              "#7201a8"
             ],
             [
              0.3333333333333333,
              "#9c179e"
             ],
             [
              0.4444444444444444,
              "#bd3786"
             ],
             [
              0.5555555555555556,
              "#d8576b"
             ],
             [
              0.6666666666666666,
              "#ed7953"
             ],
             [
              0.7777777777777778,
              "#fb9f3a"
             ],
             [
              0.8888888888888888,
              "#fdca26"
             ],
             [
              1,
              "#f0f921"
             ]
            ],
            "type": "heatmapgl"
           }
          ],
          "histogram": [
           {
            "marker": {
             "pattern": {
              "fillmode": "overlay",
              "size": 10,
              "solidity": 0.2
             }
            },
            "type": "histogram"
           }
          ],
          "histogram2d": [
           {
            "colorbar": {
             "outlinewidth": 0,
             "ticks": ""
            },
            "colorscale": [
             [
              0,
              "#0d0887"
             ],
             [
              0.1111111111111111,
              "#46039f"
             ],
             [
              0.2222222222222222,
              "#7201a8"
             ],
             [
              0.3333333333333333,
              "#9c179e"
             ],
             [
              0.4444444444444444,
              "#bd3786"
             ],
             [
              0.5555555555555556,
              "#d8576b"
             ],
             [
              0.6666666666666666,
              "#ed7953"
             ],
             [
              0.7777777777777778,
              "#fb9f3a"
             ],
             [
              0.8888888888888888,
              "#fdca26"
             ],
             [
              1,
              "#f0f921"
             ]
            ],
            "type": "histogram2d"
           }
          ],
          "histogram2dcontour": [
           {
            "colorbar": {
             "outlinewidth": 0,
             "ticks": ""
            },
            "colorscale": [
             [
              0,
              "#0d0887"
             ],
             [
              0.1111111111111111,
              "#46039f"
             ],
             [
              0.2222222222222222,
              "#7201a8"
             ],
             [
              0.3333333333333333,
              "#9c179e"
             ],
             [
              0.4444444444444444,
              "#bd3786"
             ],
             [
              0.5555555555555556,
              "#d8576b"
             ],
             [
              0.6666666666666666,
              "#ed7953"
             ],
             [
              0.7777777777777778,
              "#fb9f3a"
             ],
             [
              0.8888888888888888,
              "#fdca26"
             ],
             [
              1,
              "#f0f921"
             ]
            ],
            "type": "histogram2dcontour"
           }
          ],
          "mesh3d": [
           {
            "colorbar": {
             "outlinewidth": 0,
             "ticks": ""
            },
            "type": "mesh3d"
           }
          ],
          "parcoords": [
           {
            "line": {
             "colorbar": {
              "outlinewidth": 0,
              "ticks": ""
             }
            },
            "type": "parcoords"
           }
          ],
          "pie": [
           {
            "automargin": true,
            "type": "pie"
           }
          ],
          "scatter": [
           {
            "fillpattern": {
             "fillmode": "overlay",
             "size": 10,
             "solidity": 0.2
            },
            "type": "scatter"
           }
          ],
          "scatter3d": [
           {
            "line": {
             "colorbar": {
              "outlinewidth": 0,
              "ticks": ""
             }
            },
            "marker": {
             "colorbar": {
              "outlinewidth": 0,
              "ticks": ""
             }
            },
            "type": "scatter3d"
           }
          ],
          "scattercarpet": [
           {
            "marker": {
             "colorbar": {
              "outlinewidth": 0,
              "ticks": ""
             }
            },
            "type": "scattercarpet"
           }
          ],
          "scattergeo": [
           {
            "marker": {
             "colorbar": {
              "outlinewidth": 0,
              "ticks": ""
             }
            },
            "type": "scattergeo"
           }
          ],
          "scattergl": [
           {
            "marker": {
             "colorbar": {
              "outlinewidth": 0,
              "ticks": ""
             }
            },
            "type": "scattergl"
           }
          ],
          "scattermapbox": [
           {
            "marker": {
             "colorbar": {
              "outlinewidth": 0,
              "ticks": ""
             }
            },
            "type": "scattermapbox"
           }
          ],
          "scatterpolar": [
           {
            "marker": {
             "colorbar": {
              "outlinewidth": 0,
              "ticks": ""
             }
            },
            "type": "scatterpolar"
           }
          ],
          "scatterpolargl": [
           {
            "marker": {
             "colorbar": {
              "outlinewidth": 0,
              "ticks": ""
             }
            },
            "type": "scatterpolargl"
           }
          ],
          "scatterternary": [
           {
            "marker": {
             "colorbar": {
              "outlinewidth": 0,
              "ticks": ""
             }
            },
            "type": "scatterternary"
           }
          ],
          "surface": [
           {
            "colorbar": {
             "outlinewidth": 0,
             "ticks": ""
            },
            "colorscale": [
             [
              0,
              "#0d0887"
             ],
             [
              0.1111111111111111,
              "#46039f"
             ],
             [
              0.2222222222222222,
              "#7201a8"
             ],
             [
              0.3333333333333333,
              "#9c179e"
             ],
             [
              0.4444444444444444,
              "#bd3786"
             ],
             [
              0.5555555555555556,
              "#d8576b"
             ],
             [
              0.6666666666666666,
              "#ed7953"
             ],
             [
              0.7777777777777778,
              "#fb9f3a"
             ],
             [
              0.8888888888888888,
              "#fdca26"
             ],
             [
              1,
              "#f0f921"
             ]
            ],
            "type": "surface"
           }
          ],
          "table": [
           {
            "cells": {
             "fill": {
              "color": "#EBF0F8"
             },
             "line": {
              "color": "white"
             }
            },
            "header": {
             "fill": {
              "color": "#C8D4E3"
             },
             "line": {
              "color": "white"
             }
            },
            "type": "table"
           }
          ]
         },
         "layout": {
          "annotationdefaults": {
           "arrowcolor": "#2a3f5f",
           "arrowhead": 0,
           "arrowwidth": 1
          },
          "autotypenumbers": "strict",
          "coloraxis": {
           "colorbar": {
            "outlinewidth": 0,
            "ticks": ""
           }
          },
          "colorscale": {
           "diverging": [
            [
             0,
             "#8e0152"
            ],
            [
             0.1,
             "#c51b7d"
            ],
            [
             0.2,
             "#de77ae"
            ],
            [
             0.3,
             "#f1b6da"
            ],
            [
             0.4,
             "#fde0ef"
            ],
            [
             0.5,
             "#f7f7f7"
            ],
            [
             0.6,
             "#e6f5d0"
            ],
            [
             0.7,
             "#b8e186"
            ],
            [
             0.8,
             "#7fbc41"
            ],
            [
             0.9,
             "#4d9221"
            ],
            [
             1,
             "#276419"
            ]
           ],
           "sequential": [
            [
             0,
             "#0d0887"
            ],
            [
             0.1111111111111111,
             "#46039f"
            ],
            [
             0.2222222222222222,
             "#7201a8"
            ],
            [
             0.3333333333333333,
             "#9c179e"
            ],
            [
             0.4444444444444444,
             "#bd3786"
            ],
            [
             0.5555555555555556,
             "#d8576b"
            ],
            [
             0.6666666666666666,
             "#ed7953"
            ],
            [
             0.7777777777777778,
             "#fb9f3a"
            ],
            [
             0.8888888888888888,
             "#fdca26"
            ],
            [
             1,
             "#f0f921"
            ]
           ],
           "sequentialminus": [
            [
             0,
             "#0d0887"
            ],
            [
             0.1111111111111111,
             "#46039f"
            ],
            [
             0.2222222222222222,
             "#7201a8"
            ],
            [
             0.3333333333333333,
             "#9c179e"
            ],
            [
             0.4444444444444444,
             "#bd3786"
            ],
            [
             0.5555555555555556,
             "#d8576b"
            ],
            [
             0.6666666666666666,
             "#ed7953"
            ],
            [
             0.7777777777777778,
             "#fb9f3a"
            ],
            [
             0.8888888888888888,
             "#fdca26"
            ],
            [
             1,
             "#f0f921"
            ]
           ]
          },
          "colorway": [
           "#636efa",
           "#EF553B",
           "#00cc96",
           "#ab63fa",
           "#FFA15A",
           "#19d3f3",
           "#FF6692",
           "#B6E880",
           "#FF97FF",
           "#FECB52"
          ],
          "font": {
           "color": "#2a3f5f"
          },
          "geo": {
           "bgcolor": "white",
           "lakecolor": "white",
           "landcolor": "#E5ECF6",
           "showlakes": true,
           "showland": true,
           "subunitcolor": "white"
          },
          "hoverlabel": {
           "align": "left"
          },
          "hovermode": "closest",
          "mapbox": {
           "style": "light"
          },
          "paper_bgcolor": "white",
          "plot_bgcolor": "#E5ECF6",
          "polar": {
           "angularaxis": {
            "gridcolor": "white",
            "linecolor": "white",
            "ticks": ""
           },
           "bgcolor": "#E5ECF6",
           "radialaxis": {
            "gridcolor": "white",
            "linecolor": "white",
            "ticks": ""
           }
          },
          "scene": {
           "xaxis": {
            "backgroundcolor": "#E5ECF6",
            "gridcolor": "white",
            "gridwidth": 2,
            "linecolor": "white",
            "showbackground": true,
            "ticks": "",
            "zerolinecolor": "white"
           },
           "yaxis": {
            "backgroundcolor": "#E5ECF6",
            "gridcolor": "white",
            "gridwidth": 2,
            "linecolor": "white",
            "showbackground": true,
            "ticks": "",
            "zerolinecolor": "white"
           },
           "zaxis": {
            "backgroundcolor": "#E5ECF6",
            "gridcolor": "white",
            "gridwidth": 2,
            "linecolor": "white",
            "showbackground": true,
            "ticks": "",
            "zerolinecolor": "white"
           }
          },
          "shapedefaults": {
           "line": {
            "color": "#2a3f5f"
           }
          },
          "ternary": {
           "aaxis": {
            "gridcolor": "white",
            "linecolor": "white",
            "ticks": ""
           },
           "baxis": {
            "gridcolor": "white",
            "linecolor": "white",
            "ticks": ""
           },
           "bgcolor": "#E5ECF6",
           "caxis": {
            "gridcolor": "white",
            "linecolor": "white",
            "ticks": ""
           }
          },
          "title": {
           "x": 0.05
          },
          "xaxis": {
           "automargin": true,
           "gridcolor": "white",
           "linecolor": "white",
           "ticks": "",
           "title": {
            "standoff": 15
           },
           "zerolinecolor": "white",
           "zerolinewidth": 2
          },
          "yaxis": {
           "automargin": true,
           "gridcolor": "white",
           "linecolor": "white",
           "ticks": "",
           "title": {
            "standoff": 15
           },
           "zerolinecolor": "white",
           "zerolinewidth": 2
          }
         }
        },
        "title": {
         "text": "Companies with locations"
        }
       }
      }
     },
     "metadata": {},
     "output_type": "display_data"
    }
   ],
   "source": [
    "import plotly.express as px\n",
    "\n",
    "## TODO: Rewrite the code to use plotly go.\n",
    "\n",
    "fig = px.scatter_geo(gdf,\n",
    "                    lat=gdf.geometry.y,\n",
    "                    lon=gdf.geometry.x,\n",
    "                    hover_name=\"Name\",\n",
    "                    color = gdf.Type,\n",
    "                    scope='world',\n",
    "                    projection='natural earth',\n",
    "                    symbol=gdf.Type,\n",
    "                    )\n",
    "\n",
    "fig.update_layout(title = \"Companies with locations\")\n",
    "fig.show()\n"
   ]
  },
  {
   "cell_type": "code",
   "execution_count": null,
   "metadata": {},
   "outputs": [],
   "source": []
  }
 ],
 "metadata": {
  "kernelspec": {
   "display_name": "venv",
   "language": "python",
   "name": "python3"
  },
  "language_info": {
   "codemirror_mode": {
    "name": "ipython",
    "version": 3
   },
   "file_extension": ".py",
   "mimetype": "text/x-python",
   "name": "python",
   "nbconvert_exporter": "python",
   "pygments_lexer": "ipython3",
   "version": "3.10.11"
  }
 },
 "nbformat": 4,
 "nbformat_minor": 2
}
